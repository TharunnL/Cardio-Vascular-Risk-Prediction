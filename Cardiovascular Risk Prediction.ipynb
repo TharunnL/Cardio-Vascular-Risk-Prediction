{
 "cells": [
  {
   "cell_type": "code",
   "execution_count": 1,
   "id": "8e7d2817",
   "metadata": {},
   "outputs": [],
   "source": [
    "import numpy as np\n",
    "import pandas as pd\n",
    "import seaborn as sns\n",
    "import matplotlib.pyplot as plt\n",
    "%matplotlib inline\n",
    "import warnings\n",
    "warnings.filterwarnings(\"ignore\")"
   ]
  },
  {
   "cell_type": "code",
   "execution_count": 2,
   "id": "2ab125f0",
   "metadata": {},
   "outputs": [],
   "source": [
    "df = pd.read_csv(\"data_cardiovascular_risk.csv\")"
   ]
  },
  {
   "cell_type": "code",
   "execution_count": 3,
   "id": "5a4a51cf",
   "metadata": {
    "scrolled": true
   },
   "outputs": [
    {
     "data": {
      "text/html": [
       "<div>\n",
       "<style scoped>\n",
       "    .dataframe tbody tr th:only-of-type {\n",
       "        vertical-align: middle;\n",
       "    }\n",
       "\n",
       "    .dataframe tbody tr th {\n",
       "        vertical-align: top;\n",
       "    }\n",
       "\n",
       "    .dataframe thead th {\n",
       "        text-align: right;\n",
       "    }\n",
       "</style>\n",
       "<table border=\"1\" class=\"dataframe\">\n",
       "  <thead>\n",
       "    <tr style=\"text-align: right;\">\n",
       "      <th></th>\n",
       "      <th>id</th>\n",
       "      <th>age</th>\n",
       "      <th>education</th>\n",
       "      <th>sex</th>\n",
       "      <th>is_smoking</th>\n",
       "      <th>cigsPerDay</th>\n",
       "      <th>BPMeds</th>\n",
       "      <th>prevalentStroke</th>\n",
       "      <th>prevalentHyp</th>\n",
       "      <th>diabetes</th>\n",
       "      <th>totChol</th>\n",
       "      <th>sysBP</th>\n",
       "      <th>diaBP</th>\n",
       "      <th>BMI</th>\n",
       "      <th>heartRate</th>\n",
       "      <th>glucose</th>\n",
       "      <th>TenYearCHD</th>\n",
       "    </tr>\n",
       "  </thead>\n",
       "  <tbody>\n",
       "    <tr>\n",
       "      <th>0</th>\n",
       "      <td>0</td>\n",
       "      <td>64</td>\n",
       "      <td>2.0</td>\n",
       "      <td>F</td>\n",
       "      <td>YES</td>\n",
       "      <td>3.0</td>\n",
       "      <td>0.0</td>\n",
       "      <td>0</td>\n",
       "      <td>0</td>\n",
       "      <td>0</td>\n",
       "      <td>221.0</td>\n",
       "      <td>148.0</td>\n",
       "      <td>85.0</td>\n",
       "      <td>NaN</td>\n",
       "      <td>90.0</td>\n",
       "      <td>80.0</td>\n",
       "      <td>1</td>\n",
       "    </tr>\n",
       "    <tr>\n",
       "      <th>1</th>\n",
       "      <td>1</td>\n",
       "      <td>36</td>\n",
       "      <td>4.0</td>\n",
       "      <td>M</td>\n",
       "      <td>NO</td>\n",
       "      <td>0.0</td>\n",
       "      <td>0.0</td>\n",
       "      <td>0</td>\n",
       "      <td>1</td>\n",
       "      <td>0</td>\n",
       "      <td>212.0</td>\n",
       "      <td>168.0</td>\n",
       "      <td>98.0</td>\n",
       "      <td>29.77</td>\n",
       "      <td>72.0</td>\n",
       "      <td>75.0</td>\n",
       "      <td>0</td>\n",
       "    </tr>\n",
       "    <tr>\n",
       "      <th>2</th>\n",
       "      <td>2</td>\n",
       "      <td>46</td>\n",
       "      <td>1.0</td>\n",
       "      <td>F</td>\n",
       "      <td>YES</td>\n",
       "      <td>10.0</td>\n",
       "      <td>0.0</td>\n",
       "      <td>0</td>\n",
       "      <td>0</td>\n",
       "      <td>0</td>\n",
       "      <td>250.0</td>\n",
       "      <td>116.0</td>\n",
       "      <td>71.0</td>\n",
       "      <td>20.35</td>\n",
       "      <td>88.0</td>\n",
       "      <td>94.0</td>\n",
       "      <td>0</td>\n",
       "    </tr>\n",
       "    <tr>\n",
       "      <th>3</th>\n",
       "      <td>3</td>\n",
       "      <td>50</td>\n",
       "      <td>1.0</td>\n",
       "      <td>M</td>\n",
       "      <td>YES</td>\n",
       "      <td>20.0</td>\n",
       "      <td>0.0</td>\n",
       "      <td>0</td>\n",
       "      <td>1</td>\n",
       "      <td>0</td>\n",
       "      <td>233.0</td>\n",
       "      <td>158.0</td>\n",
       "      <td>88.0</td>\n",
       "      <td>28.26</td>\n",
       "      <td>68.0</td>\n",
       "      <td>94.0</td>\n",
       "      <td>1</td>\n",
       "    </tr>\n",
       "    <tr>\n",
       "      <th>4</th>\n",
       "      <td>4</td>\n",
       "      <td>64</td>\n",
       "      <td>1.0</td>\n",
       "      <td>F</td>\n",
       "      <td>YES</td>\n",
       "      <td>30.0</td>\n",
       "      <td>0.0</td>\n",
       "      <td>0</td>\n",
       "      <td>0</td>\n",
       "      <td>0</td>\n",
       "      <td>241.0</td>\n",
       "      <td>136.5</td>\n",
       "      <td>85.0</td>\n",
       "      <td>26.42</td>\n",
       "      <td>70.0</td>\n",
       "      <td>77.0</td>\n",
       "      <td>0</td>\n",
       "    </tr>\n",
       "  </tbody>\n",
       "</table>\n",
       "</div>"
      ],
      "text/plain": [
       "   id  age  education sex is_smoking  cigsPerDay  BPMeds  prevalentStroke  \\\n",
       "0   0   64        2.0   F        YES         3.0     0.0                0   \n",
       "1   1   36        4.0   M         NO         0.0     0.0                0   \n",
       "2   2   46        1.0   F        YES        10.0     0.0                0   \n",
       "3   3   50        1.0   M        YES        20.0     0.0                0   \n",
       "4   4   64        1.0   F        YES        30.0     0.0                0   \n",
       "\n",
       "   prevalentHyp  diabetes  totChol  sysBP  diaBP    BMI  heartRate  glucose  \\\n",
       "0             0         0    221.0  148.0   85.0    NaN       90.0     80.0   \n",
       "1             1         0    212.0  168.0   98.0  29.77       72.0     75.0   \n",
       "2             0         0    250.0  116.0   71.0  20.35       88.0     94.0   \n",
       "3             1         0    233.0  158.0   88.0  28.26       68.0     94.0   \n",
       "4             0         0    241.0  136.5   85.0  26.42       70.0     77.0   \n",
       "\n",
       "   TenYearCHD  \n",
       "0           1  \n",
       "1           0  \n",
       "2           0  \n",
       "3           1  \n",
       "4           0  "
      ]
     },
     "execution_count": 3,
     "metadata": {},
     "output_type": "execute_result"
    }
   ],
   "source": [
    "df.head()"
   ]
  },
  {
   "cell_type": "code",
   "execution_count": 4,
   "id": "e75d4dbf",
   "metadata": {},
   "outputs": [],
   "source": [
    "df.drop([\"id\"], axis = 1, inplace = True)"
   ]
  },
  {
   "cell_type": "markdown",
   "id": "2579f5da",
   "metadata": {},
   "source": [
    "Independent variables in the dataset:\n",
    "    \n",
    "1.) Age: Age of the patient;(Continuous - Although the recorded ages have been truncated to whole numbers, the concept of age is continuous) \n",
    "\n",
    "2.) Education: 1 - Higher Secorndary, 2- Graduate, 3 - Post Graduate 4- Doctarte or PHD\n",
    "\n",
    "3.) Sex: male or female (\"M\" or \"F\") \n",
    "\n",
    "4.) is_smoking: whether or not the patient is a current smoker (\"YES\" or \"NO\") \n",
    "\n",
    "5.) Cigs Per Day: the number of cigarettes that the person smoked on average in one day .(can be considered continuous as one can have any number of cigarettes, even half a cigarette.)\n",
    "\n",
    "6.) BP Meds: whether or not the patient was on blood pressure medication (Nominal) \n",
    "\n",
    "7.) Prevalent Stroke: whether or not the patient had previously had a stroke (Nominal) \n",
    "\n",
    "8.) Prevalent Hyp: whether or not the patient was hypertensive (Nominal) \n",
    "\n",
    "9.) Diabetes: whether or not the patient had diabetes (Nominal) \n",
    "\n",
    "10.) Tot Chol: total cholesterol level (Continuous) \n",
    "\n",
    "11.) Sys BP: systolic blood pressure (Continuous) \n",
    "\n",
    "12.) Dia BP: diastolic blood pressure (Continuous) \n",
    "\n",
    "13.) BMI: Body Mass Index (Continuous) \n",
    "\n",
    "14.) Heart Rate: heart rate(Continuous - In medical research, variables such as heart rate thought discrete, are considered continuous because of a large number of possible values.) \n",
    "\n",
    "15.) Glucose: glucose level (Continuous) \n",
    "\n",
    "Dependent/Target variable (desired target): \n",
    "10-year risk of coronary heart disease CHD (binary: “1”, means “Yes”, “0” means “No”) – DV"
   ]
  },
  {
   "cell_type": "code",
   "execution_count": 5,
   "id": "62490765",
   "metadata": {},
   "outputs": [
    {
     "name": "stdout",
     "output_type": "stream",
     "text": [
      "<class 'pandas.core.frame.DataFrame'>\n",
      "RangeIndex: 3390 entries, 0 to 3389\n",
      "Data columns (total 16 columns):\n",
      " #   Column           Non-Null Count  Dtype  \n",
      "---  ------           --------------  -----  \n",
      " 0   age              3390 non-null   int64  \n",
      " 1   education        3303 non-null   float64\n",
      " 2   sex              3390 non-null   object \n",
      " 3   is_smoking       3390 non-null   object \n",
      " 4   cigsPerDay       3368 non-null   float64\n",
      " 5   BPMeds           3346 non-null   float64\n",
      " 6   prevalentStroke  3390 non-null   int64  \n",
      " 7   prevalentHyp     3390 non-null   int64  \n",
      " 8   diabetes         3390 non-null   int64  \n",
      " 9   totChol          3352 non-null   float64\n",
      " 10  sysBP            3390 non-null   float64\n",
      " 11  diaBP            3390 non-null   float64\n",
      " 12  BMI              3376 non-null   float64\n",
      " 13  heartRate        3389 non-null   float64\n",
      " 14  glucose          3086 non-null   float64\n",
      " 15  TenYearCHD       3390 non-null   int64  \n",
      "dtypes: float64(9), int64(5), object(2)\n",
      "memory usage: 423.9+ KB\n"
     ]
    }
   ],
   "source": [
    "df.info()"
   ]
  },
  {
   "cell_type": "markdown",
   "id": "a6a46550",
   "metadata": {},
   "source": [
    "Here after the study of the given dataset and having the basic understanding we can say that independent varible \n",
    "\"Education\" has nothing to do with the patients Health or \"Cardio Vasclular risk\". So we can drop the \"Education\" column."
   ]
  },
  {
   "cell_type": "code",
   "execution_count": 6,
   "id": "7ad3db5c",
   "metadata": {},
   "outputs": [],
   "source": [
    "df.drop([\"education\"], axis = 1, inplace = True)"
   ]
  },
  {
   "cell_type": "code",
   "execution_count": 7,
   "id": "cc8fb111",
   "metadata": {},
   "outputs": [
    {
     "name": "stdout",
     "output_type": "stream",
     "text": [
      "SUM OF MISSING VALUES IN EACH COLUMN:\n",
      " age                  0\n",
      "sex                  0\n",
      "is_smoking           0\n",
      "cigsPerDay          22\n",
      "BPMeds              44\n",
      "prevalentStroke      0\n",
      "prevalentHyp         0\n",
      "diabetes             0\n",
      "totChol             38\n",
      "sysBP                0\n",
      "diaBP                0\n",
      "BMI                 14\n",
      "heartRate            1\n",
      "glucose            304\n",
      "TenYearCHD           0\n",
      "dtype: int64\n",
      "TOTAL NO OF MISSING VALUES IN THE DATASET: 423\n"
     ]
    }
   ],
   "source": [
    "print(\"SUM OF MISSING VALUES IN EACH COLUMN:\\n\", df.isnull().sum())\n",
    "print(\"TOTAL NO OF MISSING VALUES IN THE DATASET:\", df.isnull().sum().sum())"
   ]
  },
  {
   "cell_type": "code",
   "execution_count": 8,
   "id": "c27d8d25",
   "metadata": {},
   "outputs": [
    {
     "data": {
      "text/plain": [
       "<AxesSubplot:title={'center':'MISSING VALUES'}>"
      ]
     },
     "execution_count": 8,
     "metadata": {},
     "output_type": "execute_result"
    },
    {
     "data": {
      "image/png": "[encoded data removed]",
      "text/plain": [
       "<Figure size 1100x400 with 2 Axes>"
      ]
     },
     "metadata": {
      "needs_background": "light"
     },
     "output_type": "display_data"
    }
   ],
   "source": [
    "plt.figure(figsize=(11,4),dpi= 100)\n",
    "plt.title(\"MISSING VALUES\")\n",
    "sns.heatmap(df.isnull(), cmap='viridis', yticklabels=False)"
   ]
  },
  {
   "cell_type": "code",
   "execution_count": 9,
   "id": "77594cee",
   "metadata": {},
   "outputs": [
    {
     "data": {
      "text/html": [
       "<div>\n",
       "<style scoped>\n",
       "    .dataframe tbody tr th:only-of-type {\n",
       "        vertical-align: middle;\n",
       "    }\n",
       "\n",
       "    .dataframe tbody tr th {\n",
       "        vertical-align: top;\n",
       "    }\n",
       "\n",
       "    .dataframe thead th {\n",
       "        text-align: right;\n",
       "    }\n",
       "</style>\n",
       "<table border=\"1\" class=\"dataframe\">\n",
       "  <thead>\n",
       "    <tr style=\"text-align: right;\">\n",
       "      <th></th>\n",
       "      <th>age</th>\n",
       "      <th>cigsPerDay</th>\n",
       "      <th>BPMeds</th>\n",
       "      <th>prevalentStroke</th>\n",
       "      <th>prevalentHyp</th>\n",
       "      <th>diabetes</th>\n",
       "      <th>totChol</th>\n",
       "      <th>sysBP</th>\n",
       "      <th>diaBP</th>\n",
       "      <th>BMI</th>\n",
       "      <th>heartRate</th>\n",
       "      <th>glucose</th>\n",
       "      <th>TenYearCHD</th>\n",
       "    </tr>\n",
       "  </thead>\n",
       "  <tbody>\n",
       "    <tr>\n",
       "      <th>count</th>\n",
       "      <td>3390.000000</td>\n",
       "      <td>3368.000000</td>\n",
       "      <td>3346.000000</td>\n",
       "      <td>3390.000000</td>\n",
       "      <td>3390.000000</td>\n",
       "      <td>3390.000000</td>\n",
       "      <td>3352.000000</td>\n",
       "      <td>3390.00000</td>\n",
       "      <td>3390.000000</td>\n",
       "      <td>3376.000000</td>\n",
       "      <td>3389.000000</td>\n",
       "      <td>3086.000000</td>\n",
       "      <td>3390.000000</td>\n",
       "    </tr>\n",
       "    <tr>\n",
       "      <th>mean</th>\n",
       "      <td>49.542183</td>\n",
       "      <td>9.069477</td>\n",
       "      <td>0.029886</td>\n",
       "      <td>0.006490</td>\n",
       "      <td>0.315339</td>\n",
       "      <td>0.025664</td>\n",
       "      <td>237.074284</td>\n",
       "      <td>132.60118</td>\n",
       "      <td>82.883038</td>\n",
       "      <td>25.794964</td>\n",
       "      <td>75.977279</td>\n",
       "      <td>82.086520</td>\n",
       "      <td>0.150737</td>\n",
       "    </tr>\n",
       "    <tr>\n",
       "      <th>std</th>\n",
       "      <td>8.592878</td>\n",
       "      <td>11.879078</td>\n",
       "      <td>0.170299</td>\n",
       "      <td>0.080309</td>\n",
       "      <td>0.464719</td>\n",
       "      <td>0.158153</td>\n",
       "      <td>45.247430</td>\n",
       "      <td>22.29203</td>\n",
       "      <td>12.023581</td>\n",
       "      <td>4.115449</td>\n",
       "      <td>11.971868</td>\n",
       "      <td>24.244753</td>\n",
       "      <td>0.357846</td>\n",
       "    </tr>\n",
       "    <tr>\n",
       "      <th>min</th>\n",
       "      <td>32.000000</td>\n",
       "      <td>0.000000</td>\n",
       "      <td>0.000000</td>\n",
       "      <td>0.000000</td>\n",
       "      <td>0.000000</td>\n",
       "      <td>0.000000</td>\n",
       "      <td>107.000000</td>\n",
       "      <td>83.50000</td>\n",
       "      <td>48.000000</td>\n",
       "      <td>15.960000</td>\n",
       "      <td>45.000000</td>\n",
       "      <td>40.000000</td>\n",
       "      <td>0.000000</td>\n",
       "    </tr>\n",
       "    <tr>\n",
       "      <th>25%</th>\n",
       "      <td>42.000000</td>\n",
       "      <td>0.000000</td>\n",
       "      <td>0.000000</td>\n",
       "      <td>0.000000</td>\n",
       "      <td>0.000000</td>\n",
       "      <td>0.000000</td>\n",
       "      <td>206.000000</td>\n",
       "      <td>117.00000</td>\n",
       "      <td>74.500000</td>\n",
       "      <td>23.020000</td>\n",
       "      <td>68.000000</td>\n",
       "      <td>71.000000</td>\n",
       "      <td>0.000000</td>\n",
       "    </tr>\n",
       "    <tr>\n",
       "      <th>50%</th>\n",
       "      <td>49.000000</td>\n",
       "      <td>0.000000</td>\n",
       "      <td>0.000000</td>\n",
       "      <td>0.000000</td>\n",
       "      <td>0.000000</td>\n",
       "      <td>0.000000</td>\n",
       "      <td>234.000000</td>\n",
       "      <td>128.50000</td>\n",
       "      <td>82.000000</td>\n",
       "      <td>25.380000</td>\n",
       "      <td>75.000000</td>\n",
       "      <td>78.000000</td>\n",
       "      <td>0.000000</td>\n",
       "    </tr>\n",
       "    <tr>\n",
       "      <th>75%</th>\n",
       "      <td>56.000000</td>\n",
       "      <td>20.000000</td>\n",
       "      <td>0.000000</td>\n",
       "      <td>0.000000</td>\n",
       "      <td>1.000000</td>\n",
       "      <td>0.000000</td>\n",
       "      <td>264.000000</td>\n",
       "      <td>144.00000</td>\n",
       "      <td>90.000000</td>\n",
       "      <td>28.040000</td>\n",
       "      <td>83.000000</td>\n",
       "      <td>87.000000</td>\n",
       "      <td>0.000000</td>\n",
       "    </tr>\n",
       "    <tr>\n",
       "      <th>max</th>\n",
       "      <td>70.000000</td>\n",
       "      <td>70.000000</td>\n",
       "      <td>1.000000</td>\n",
       "      <td>1.000000</td>\n",
       "      <td>1.000000</td>\n",
       "      <td>1.000000</td>\n",
       "      <td>696.000000</td>\n",
       "      <td>295.00000</td>\n",
       "      <td>142.500000</td>\n",
       "      <td>56.800000</td>\n",
       "      <td>143.000000</td>\n",
       "      <td>394.000000</td>\n",
       "      <td>1.000000</td>\n",
       "    </tr>\n",
       "  </tbody>\n",
       "</table>\n",
       "</div>"
      ],
      "text/plain": [
       "               age   cigsPerDay       BPMeds  prevalentStroke  prevalentHyp  \\\n",
       "count  3390.000000  3368.000000  3346.000000      3390.000000   3390.000000   \n",
       "mean     49.542183     9.069477     0.029886         0.006490      0.315339   \n",
       "std       8.592878    11.879078     0.170299         0.080309      0.464719   \n",
       "min      32.000000     0.000000     0.000000         0.000000      0.000000   \n",
       "25%      42.000000     0.000000     0.000000         0.000000      0.000000   \n",
       "50%      49.000000     0.000000     0.000000         0.000000      0.000000   \n",
       "75%      56.000000    20.000000     0.000000         0.000000      1.000000   \n",
       "max      70.000000    70.000000     1.000000         1.000000      1.000000   \n",
       "\n",
       "          diabetes      totChol       sysBP        diaBP          BMI  \\\n",
       "count  3390.000000  3352.000000  3390.00000  3390.000000  3376.000000   \n",
       "mean      0.025664   237.074284   132.60118    82.883038    25.794964   \n",
       "std       0.158153    45.247430    22.29203    12.023581     4.115449   \n",
       "min       0.000000   107.000000    83.50000    48.000000    15.960000   \n",
       "25%       0.000000   206.000000   117.00000    74.500000    23.020000   \n",
       "50%       0.000000   234.000000   128.50000    82.000000    25.380000   \n",
       "75%       0.000000   264.000000   144.00000    90.000000    28.040000   \n",
       "max       1.000000   696.000000   295.00000   142.500000    56.800000   \n",
       "\n",
       "         heartRate      glucose   TenYearCHD  \n",
       "count  3389.000000  3086.000000  3390.000000  \n",
       "mean     75.977279    82.086520     0.150737  \n",
       "std      11.971868    24.244753     0.357846  \n",
       "min      45.000000    40.000000     0.000000  \n",
       "25%      68.000000    71.000000     0.000000  \n",
       "50%      75.000000    78.000000     0.000000  \n",
       "75%      83.000000    87.000000     0.000000  \n",
       "max     143.000000   394.000000     1.000000  "
      ]
     },
     "execution_count": 9,
     "metadata": {},
     "output_type": "execute_result"
    }
   ],
   "source": [
    "df.describe()"
   ]
  },
  {
   "cell_type": "code",
   "execution_count": 10,
   "id": "85f8a055",
   "metadata": {},
   "outputs": [
    {
     "data": {
      "text/plain": [
       "<AxesSubplot:>"
      ]
     },
     "execution_count": 10,
     "metadata": {},
     "output_type": "execute_result"
    },
    {
     "data": {
      "image/png": "[encoded data removed]",
      "text/plain": [
       "<Figure size 1224x504 with 1 Axes>"
      ]
     },
     "metadata": {
      "needs_background": "light"
     },
     "output_type": "display_data"
    }
   ],
   "source": [
    "#CHECKING OUTLIERS\n",
    "plt.figure(figsize=(17,7))\n",
    "sns.boxplot(data = df)"
   ]
  },
  {
   "cell_type": "code",
   "execution_count": 11,
   "id": "2d7b4b02",
   "metadata": {},
   "outputs": [],
   "source": [
    "#Handling Missing Data\n",
    "df[\"cigsPerDay\"]= df[\"cigsPerDay\"].fillna(df[\"cigsPerDay\"].median()) #outliers are present so median approch"
   ]
  },
  {
   "cell_type": "code",
   "execution_count": 12,
   "id": "22e0508c",
   "metadata": {},
   "outputs": [],
   "source": [
    "df[\"BPMeds\"]= df[\"BPMeds\"].fillna(df[\"BPMeds\"].median()) "
   ]
  },
  {
   "cell_type": "code",
   "execution_count": 13,
   "id": "b2926500",
   "metadata": {},
   "outputs": [],
   "source": [
    "df[\"totChol\"]= df[\"totChol\"].fillna(df[\"totChol\"].median())"
   ]
  },
  {
   "cell_type": "code",
   "execution_count": 14,
   "id": "cc2017fa",
   "metadata": {},
   "outputs": [],
   "source": [
    "df[\"BMI\"]= df[\"BMI\"].fillna(df[\"BMI\"].median())"
   ]
  },
  {
   "cell_type": "code",
   "execution_count": 15,
   "id": "e82ab844",
   "metadata": {},
   "outputs": [],
   "source": [
    "df[\"heartRate\"]= df[\"heartRate\"].fillna(df[\"heartRate\"].median())"
   ]
  },
  {
   "cell_type": "code",
   "execution_count": 16,
   "id": "0f3260e9",
   "metadata": {},
   "outputs": [],
   "source": [
    "df[\"glucose\"]= df[\"glucose\"].fillna(df[\"glucose\"].median())"
   ]
  },
  {
   "cell_type": "code",
   "execution_count": 17,
   "id": "0daf2c3b",
   "metadata": {},
   "outputs": [
    {
     "name": "stdout",
     "output_type": "stream",
     "text": [
      "<class 'pandas.core.frame.DataFrame'>\n",
      "RangeIndex: 3390 entries, 0 to 3389\n",
      "Data columns (total 15 columns):\n",
      " #   Column           Non-Null Count  Dtype  \n",
      "---  ------           --------------  -----  \n",
      " 0   age              3390 non-null   int64  \n",
      " 1   sex              3390 non-null   object \n",
      " 2   is_smoking       3390 non-null   object \n",
      " 3   cigsPerDay       3390 non-null   float64\n",
      " 4   BPMeds           3390 non-null   float64\n",
      " 5   prevalentStroke  3390 non-null   int64  \n",
      " 6   prevalentHyp     3390 non-null   int64  \n",
      " 7   diabetes         3390 non-null   int64  \n",
      " 8   totChol          3390 non-null   float64\n",
      " 9   sysBP            3390 non-null   float64\n",
      " 10  diaBP            3390 non-null   float64\n",
      " 11  BMI              3390 non-null   float64\n",
      " 12  heartRate        3390 non-null   float64\n",
      " 13  glucose          3390 non-null   float64\n",
      " 14  TenYearCHD       3390 non-null   int64  \n",
      "dtypes: float64(8), int64(5), object(2)\n",
      "memory usage: 397.4+ KB\n"
     ]
    }
   ],
   "source": [
    "df.info()"
   ]
  },
  {
   "cell_type": "code",
   "execution_count": 18,
   "id": "d70aae18",
   "metadata": {},
   "outputs": [
    {
     "data": {
      "text/html": [
       "<div>\n",
       "<style scoped>\n",
       "    .dataframe tbody tr th:only-of-type {\n",
       "        vertical-align: middle;\n",
       "    }\n",
       "\n",
       "    .dataframe tbody tr th {\n",
       "        vertical-align: top;\n",
       "    }\n",
       "\n",
       "    .dataframe thead th {\n",
       "        text-align: right;\n",
       "    }\n",
       "</style>\n",
       "<table border=\"1\" class=\"dataframe\">\n",
       "  <thead>\n",
       "    <tr style=\"text-align: right;\">\n",
       "      <th></th>\n",
       "      <th>age</th>\n",
       "      <th>sex</th>\n",
       "      <th>is_smoking</th>\n",
       "      <th>cigsPerDay</th>\n",
       "      <th>BPMeds</th>\n",
       "      <th>prevalentStroke</th>\n",
       "      <th>prevalentHyp</th>\n",
       "      <th>diabetes</th>\n",
       "      <th>totChol</th>\n",
       "      <th>sysBP</th>\n",
       "      <th>diaBP</th>\n",
       "      <th>BMI</th>\n",
       "      <th>heartRate</th>\n",
       "      <th>glucose</th>\n",
       "      <th>TenYearCHD</th>\n",
       "    </tr>\n",
       "  </thead>\n",
       "  <tbody>\n",
       "    <tr>\n",
       "      <th>0</th>\n",
       "      <td>64</td>\n",
       "      <td>F</td>\n",
       "      <td>YES</td>\n",
       "      <td>3.0</td>\n",
       "      <td>0.0</td>\n",
       "      <td>0</td>\n",
       "      <td>0</td>\n",
       "      <td>0</td>\n",
       "      <td>221.0</td>\n",
       "      <td>148.0</td>\n",
       "      <td>85.0</td>\n",
       "      <td>25.38</td>\n",
       "      <td>90.0</td>\n",
       "      <td>80.0</td>\n",
       "      <td>1</td>\n",
       "    </tr>\n",
       "    <tr>\n",
       "      <th>1</th>\n",
       "      <td>36</td>\n",
       "      <td>M</td>\n",
       "      <td>NO</td>\n",
       "      <td>0.0</td>\n",
       "      <td>0.0</td>\n",
       "      <td>0</td>\n",
       "      <td>1</td>\n",
       "      <td>0</td>\n",
       "      <td>212.0</td>\n",
       "      <td>168.0</td>\n",
       "      <td>98.0</td>\n",
       "      <td>29.77</td>\n",
       "      <td>72.0</td>\n",
       "      <td>75.0</td>\n",
       "      <td>0</td>\n",
       "    </tr>\n",
       "    <tr>\n",
       "      <th>2</th>\n",
       "      <td>46</td>\n",
       "      <td>F</td>\n",
       "      <td>YES</td>\n",
       "      <td>10.0</td>\n",
       "      <td>0.0</td>\n",
       "      <td>0</td>\n",
       "      <td>0</td>\n",
       "      <td>0</td>\n",
       "      <td>250.0</td>\n",
       "      <td>116.0</td>\n",
       "      <td>71.0</td>\n",
       "      <td>20.35</td>\n",
       "      <td>88.0</td>\n",
       "      <td>94.0</td>\n",
       "      <td>0</td>\n",
       "    </tr>\n",
       "    <tr>\n",
       "      <th>3</th>\n",
       "      <td>50</td>\n",
       "      <td>M</td>\n",
       "      <td>YES</td>\n",
       "      <td>20.0</td>\n",
       "      <td>0.0</td>\n",
       "      <td>0</td>\n",
       "      <td>1</td>\n",
       "      <td>0</td>\n",
       "      <td>233.0</td>\n",
       "      <td>158.0</td>\n",
       "      <td>88.0</td>\n",
       "      <td>28.26</td>\n",
       "      <td>68.0</td>\n",
       "      <td>94.0</td>\n",
       "      <td>1</td>\n",
       "    </tr>\n",
       "    <tr>\n",
       "      <th>4</th>\n",
       "      <td>64</td>\n",
       "      <td>F</td>\n",
       "      <td>YES</td>\n",
       "      <td>30.0</td>\n",
       "      <td>0.0</td>\n",
       "      <td>0</td>\n",
       "      <td>0</td>\n",
       "      <td>0</td>\n",
       "      <td>241.0</td>\n",
       "      <td>136.5</td>\n",
       "      <td>85.0</td>\n",
       "      <td>26.42</td>\n",
       "      <td>70.0</td>\n",
       "      <td>77.0</td>\n",
       "      <td>0</td>\n",
       "    </tr>\n",
       "  </tbody>\n",
       "</table>\n",
       "</div>"
      ],
      "text/plain": [
       "   age sex is_smoking  cigsPerDay  BPMeds  prevalentStroke  prevalentHyp  \\\n",
       "0   64   F        YES         3.0     0.0                0             0   \n",
       "1   36   M         NO         0.0     0.0                0             1   \n",
       "2   46   F        YES        10.0     0.0                0             0   \n",
       "3   50   M        YES        20.0     0.0                0             1   \n",
       "4   64   F        YES        30.0     0.0                0             0   \n",
       "\n",
       "   diabetes  totChol  sysBP  diaBP    BMI  heartRate  glucose  TenYearCHD  \n",
       "0         0    221.0  148.0   85.0  25.38       90.0     80.0           1  \n",
       "1         0    212.0  168.0   98.0  29.77       72.0     75.0           0  \n",
       "2         0    250.0  116.0   71.0  20.35       88.0     94.0           0  \n",
       "3         0    233.0  158.0   88.0  28.26       68.0     94.0           1  \n",
       "4         0    241.0  136.5   85.0  26.42       70.0     77.0           0  "
      ]
     },
     "execution_count": 18,
     "metadata": {},
     "output_type": "execute_result"
    }
   ],
   "source": [
    "df.head()"
   ]
  },
  {
   "cell_type": "code",
   "execution_count": 19,
   "id": "cd3c482c",
   "metadata": {},
   "outputs": [],
   "source": [
    "#converting varibles sex and is_smoking to numeric type from object type with the help of Label Encoder\n",
    "from sklearn.preprocessing import LabelEncoder\n",
    "encoder = LabelEncoder()\n",
    "df[\"sex\"] = encoder.fit_transform(df[\"sex\"])\n",
    "df[\"is_smoking\"] = encoder.fit_transform(df[\"is_smoking\"])"
   ]
  },
  {
   "cell_type": "code",
   "execution_count": 20,
   "id": "01543839",
   "metadata": {},
   "outputs": [
    {
     "data": {
      "text/html": [
       "<div>\n",
       "<style scoped>\n",
       "    .dataframe tbody tr th:only-of-type {\n",
       "        vertical-align: middle;\n",
       "    }\n",
       "\n",
       "    .dataframe tbody tr th {\n",
       "        vertical-align: top;\n",
       "    }\n",
       "\n",
       "    .dataframe thead th {\n",
       "        text-align: right;\n",
       "    }\n",
       "</style>\n",
       "<table border=\"1\" class=\"dataframe\">\n",
       "  <thead>\n",
       "    <tr style=\"text-align: right;\">\n",
       "      <th></th>\n",
       "      <th>age</th>\n",
       "      <th>sex</th>\n",
       "      <th>is_smoking</th>\n",
       "      <th>cigsPerDay</th>\n",
       "      <th>BPMeds</th>\n",
       "      <th>prevalentStroke</th>\n",
       "      <th>prevalentHyp</th>\n",
       "      <th>diabetes</th>\n",
       "      <th>totChol</th>\n",
       "      <th>sysBP</th>\n",
       "      <th>diaBP</th>\n",
       "      <th>BMI</th>\n",
       "      <th>heartRate</th>\n",
       "      <th>glucose</th>\n",
       "      <th>TenYearCHD</th>\n",
       "    </tr>\n",
       "  </thead>\n",
       "  <tbody>\n",
       "    <tr>\n",
       "      <th>0</th>\n",
       "      <td>64</td>\n",
       "      <td>0</td>\n",
       "      <td>1</td>\n",
       "      <td>3.0</td>\n",
       "      <td>0.0</td>\n",
       "      <td>0</td>\n",
       "      <td>0</td>\n",
       "      <td>0</td>\n",
       "      <td>221.0</td>\n",
       "      <td>148.0</td>\n",
       "      <td>85.0</td>\n",
       "      <td>25.38</td>\n",
       "      <td>90.0</td>\n",
       "      <td>80.0</td>\n",
       "      <td>1</td>\n",
       "    </tr>\n",
       "    <tr>\n",
       "      <th>1</th>\n",
       "      <td>36</td>\n",
       "      <td>1</td>\n",
       "      <td>0</td>\n",
       "      <td>0.0</td>\n",
       "      <td>0.0</td>\n",
       "      <td>0</td>\n",
       "      <td>1</td>\n",
       "      <td>0</td>\n",
       "      <td>212.0</td>\n",
       "      <td>168.0</td>\n",
       "      <td>98.0</td>\n",
       "      <td>29.77</td>\n",
       "      <td>72.0</td>\n",
       "      <td>75.0</td>\n",
       "      <td>0</td>\n",
       "    </tr>\n",
       "    <tr>\n",
       "      <th>2</th>\n",
       "      <td>46</td>\n",
       "      <td>0</td>\n",
       "      <td>1</td>\n",
       "      <td>10.0</td>\n",
       "      <td>0.0</td>\n",
       "      <td>0</td>\n",
       "      <td>0</td>\n",
       "      <td>0</td>\n",
       "      <td>250.0</td>\n",
       "      <td>116.0</td>\n",
       "      <td>71.0</td>\n",
       "      <td>20.35</td>\n",
       "      <td>88.0</td>\n",
       "      <td>94.0</td>\n",
       "      <td>0</td>\n",
       "    </tr>\n",
       "    <tr>\n",
       "      <th>3</th>\n",
       "      <td>50</td>\n",
       "      <td>1</td>\n",
       "      <td>1</td>\n",
       "      <td>20.0</td>\n",
       "      <td>0.0</td>\n",
       "      <td>0</td>\n",
       "      <td>1</td>\n",
       "      <td>0</td>\n",
       "      <td>233.0</td>\n",
       "      <td>158.0</td>\n",
       "      <td>88.0</td>\n",
       "      <td>28.26</td>\n",
       "      <td>68.0</td>\n",
       "      <td>94.0</td>\n",
       "      <td>1</td>\n",
       "    </tr>\n",
       "    <tr>\n",
       "      <th>4</th>\n",
       "      <td>64</td>\n",
       "      <td>0</td>\n",
       "      <td>1</td>\n",
       "      <td>30.0</td>\n",
       "      <td>0.0</td>\n",
       "      <td>0</td>\n",
       "      <td>0</td>\n",
       "      <td>0</td>\n",
       "      <td>241.0</td>\n",
       "      <td>136.5</td>\n",
       "      <td>85.0</td>\n",
       "      <td>26.42</td>\n",
       "      <td>70.0</td>\n",
       "      <td>77.0</td>\n",
       "      <td>0</td>\n",
       "    </tr>\n",
       "  </tbody>\n",
       "</table>\n",
       "</div>"
      ],
      "text/plain": [
       "   age  sex  is_smoking  cigsPerDay  BPMeds  prevalentStroke  prevalentHyp  \\\n",
       "0   64    0           1         3.0     0.0                0             0   \n",
       "1   36    1           0         0.0     0.0                0             1   \n",
       "2   46    0           1        10.0     0.0                0             0   \n",
       "3   50    1           1        20.0     0.0                0             1   \n",
       "4   64    0           1        30.0     0.0                0             0   \n",
       "\n",
       "   diabetes  totChol  sysBP  diaBP    BMI  heartRate  glucose  TenYearCHD  \n",
       "0         0    221.0  148.0   85.0  25.38       90.0     80.0           1  \n",
       "1         0    212.0  168.0   98.0  29.77       72.0     75.0           0  \n",
       "2         0    250.0  116.0   71.0  20.35       88.0     94.0           0  \n",
       "3         0    233.0  158.0   88.0  28.26       68.0     94.0           1  \n",
       "4         0    241.0  136.5   85.0  26.42       70.0     77.0           0  "
      ]
     },
     "execution_count": 20,
     "metadata": {},
     "output_type": "execute_result"
    }
   ],
   "source": [
    "df.head()"
   ]
  },
  {
   "cell_type": "markdown",
   "id": "d6f8af59",
   "metadata": {},
   "source": [
    "Although its a Classifcation problem i do not recommand usage of outlier treatment in Classification. Outliers do play High \n",
    "Impact in Regression problems.It is not good idea to remove the data by outlier treatment ,its better to do square root or \n",
    "log transformation in place of removing outliers. Instead of doing outlier and then doing feature scalling, the good\n",
    "idea is to feature scalling directly because after feature scalling many outliers aumatically come in to the range.if \n",
    "we are using random forest Bagging method feature scalling is also not required.(no standardization impact)"
   ]
  },
  {
   "cell_type": "code",
   "execution_count": 21,
   "id": "944a767d",
   "metadata": {},
   "outputs": [
    {
     "data": {
      "text/plain": [
       "0    2879\n",
       "1     511\n",
       "Name: TenYearCHD, dtype: int64"
      ]
     },
     "execution_count": 21,
     "metadata": {},
     "output_type": "execute_result"
    }
   ],
   "source": [
    "df.TenYearCHD.value_counts() #its a imbalanced dataset "
   ]
  },
  {
   "cell_type": "code",
   "execution_count": 22,
   "id": "cf5638ea",
   "metadata": {},
   "outputs": [
    {
     "data": {
      "text/plain": [
       "<AxesSubplot:xlabel='TenYearCHD', ylabel='count'>"
      ]
     },
     "execution_count": 22,
     "metadata": {},
     "output_type": "execute_result"
    },
    {
     "data": {
      "image/png": "[encoded data removed]",
      "text/plain": [
       "<Figure size 432x288 with 1 Axes>"
      ]
     },
     "metadata": {
      "needs_background": "light"
     },
     "output_type": "display_data"
    }
   ],
   "source": [
    "sns.countplot(x=\"TenYearCHD\", data=df)"
   ]
  },
  {
   "cell_type": "code",
   "execution_count": 23,
   "id": "a154e99f",
   "metadata": {},
   "outputs": [
    {
     "name": "stdout",
     "output_type": "stream",
     "text": [
      "0    1923\n",
      "1    1467\n",
      "Name: sex, dtype: int64\n"
     ]
    },
    {
     "data": {
      "text/plain": [
       "[Text(0.5, 0, 'gender of patients')]"
      ]
     },
     "execution_count": 23,
     "metadata": {},
     "output_type": "execute_result"
    },
    {
     "data": {
      "image/png": "[encoded data removed]",
      "text/plain": [
       "<Figure size 432x288 with 1 Axes>"
      ]
     },
     "metadata": {
      "needs_background": "light"
     },
     "output_type": "display_data"
    }
   ],
   "source": [
    "Gender_count = df.sex.value_counts()\n",
    "print(Gender_count)\n",
    "gender_count=sns.countplot(x=\"sex\", data=df,hue=\"TenYearCHD\")\n",
    "gender_count.set(xlabel=\"gender of patients\")\n",
    "# both male and female have equal chances of cardio vascular risk [0 : Female AND 1 : Male]"
   ]
  },
  {
   "cell_type": "code",
   "execution_count": 24,
   "id": "9dbfa52a",
   "metadata": {},
   "outputs": [
    {
     "data": {
      "image/png": "[encoded data removed]",
      "text/plain": [
       "<Figure size 432x288 with 1 Axes>"
      ]
     },
     "metadata": {
      "needs_background": "light"
     },
     "output_type": "display_data"
    }
   ],
   "source": [
    "sns.histplot(data=df,x=\"age\",hue=\"TenYearCHD\",bins=20,kde=True)\n",
    "plt.show()\n",
    "# condition (target) : 0 = no TenYearCHD, 1 = TenYearCHD\n",
    "# We can say that Cardiovascular risk is maximum risk at age 40-65 age"
   ]
  },
  {
   "cell_type": "code",
   "execution_count": 25,
   "id": "02dca936",
   "metadata": {},
   "outputs": [
    {
     "name": "stdout",
     "output_type": "stream",
     "text": [
      "0.0    3290\n",
      "1.0     100\n",
      "Name: BPMeds, dtype: int64\n"
     ]
    },
    {
     "data": {
      "text/plain": [
       "Text(0.5, 1.0, 'TenYearCHD vs. BPMeds')"
      ]
     },
     "execution_count": 25,
     "metadata": {},
     "output_type": "execute_result"
    },
    {
     "data": {
      "image/png": "[encoded data removed]",
      "text/plain": [
       "<Figure size 432x288 with 1 Axes>"
      ]
     },
     "metadata": {
      "needs_background": "light"
     },
     "output_type": "display_data"
    }
   ],
   "source": [
    "BPmeds_count = df.BPMeds.value_counts()\n",
    "print(BPmeds_count)\n",
    "sns.countplot(data=df, x='BPMeds', hue='TenYearCHD') \n",
    "plt.title('TenYearCHD vs. BPMeds')\n",
    "#Chances of cardio vascular risk is very low for people who are not under any BP Medication. "
   ]
  },
  {
   "cell_type": "code",
   "execution_count": 26,
   "id": "dd79996c",
   "metadata": {},
   "outputs": [
    {
     "name": "stdout",
     "output_type": "stream",
     "text": [
      "0    1703\n",
      "1    1687\n",
      "Name: is_smoking, dtype: int64\n"
     ]
    },
    {
     "data": {
      "text/plain": [
       "Text(0.5, 1.0, 'TenYearCHD vs. Smoking')"
      ]
     },
     "execution_count": 26,
     "metadata": {},
     "output_type": "execute_result"
    },
    {
     "data": {
      "image/png": "[encoded data removed]",
      "text/plain": [
       "<Figure size 432x288 with 1 Axes>"
      ]
     },
     "metadata": {
      "needs_background": "light"
     },
     "output_type": "display_data"
    }
   ],
   "source": [
    "smokeing_count = df.is_smoking.value_counts()\n",
    "print(smokeing_count)\n",
    "sns.countplot(data=df, x='is_smoking', hue='TenYearCHD') \n",
    "plt.title('TenYearCHD vs. Smoking')\n",
    "#There is similar cardio vascular risk ratios for both smokers and non smokers."
   ]
  },
  {
   "cell_type": "code",
   "execution_count": 27,
   "id": "70f9a0fa",
   "metadata": {},
   "outputs": [
    {
     "name": "stdout",
     "output_type": "stream",
     "text": [
      "0    3303\n",
      "1      87\n",
      "Name: diabetes, dtype: int64\n"
     ]
    },
    {
     "data": {
      "text/plain": [
       "Text(0.5, 1.0, 'TenYearCHD vs. Diabetes')"
      ]
     },
     "execution_count": 27,
     "metadata": {},
     "output_type": "execute_result"
    },
    {
     "data": {
      "image/png": "[encoded data removed]",
      "text/plain": [
       "<Figure size 432x288 with 1 Axes>"
      ]
     },
     "metadata": {
      "needs_background": "light"
     },
     "output_type": "display_data"
    }
   ],
   "source": [
    "diabatic_count = df.diabetes.value_counts()\n",
    "print(diabatic_count)\n",
    "sns.countplot(data=df, x='diabetes', hue='TenYearCHD') \n",
    "plt.title('TenYearCHD vs. Diabetes')\n",
    "#Cardio vascular risk is less for non diabetic patients and more in diabetic patients"
   ]
  },
  {
   "cell_type": "markdown",
   "id": "93adee01",
   "metadata": {},
   "source": [
    "* if there is high corelation between more than 2 independent variables then it is called Multi collinearity. Than we can \n",
    "  drop any of that equal Ind Variable. Same data we can plot in heatmap for more better understanding.\n",
    "* Actually, we are interested in classification, No need to get rid of collinear variables.Multicollinearity mostly occurs\n",
    "  in a regression model when two or more independent variable are highly correlated to eachother."
   ]
  },
  {
   "cell_type": "code",
   "execution_count": 28,
   "id": "695fbd6c",
   "metadata": {},
   "outputs": [
    {
     "data": {
      "text/plain": [
       "<AxesSubplot:>"
      ]
     },
     "execution_count": 28,
     "metadata": {},
     "output_type": "execute_result"
    },
    {
     "data": {
      "image/png": "[encoded data removed]",
      "text/plain": [
       "<Figure size 1080x864 with 2 Axes>"
      ]
     },
     "metadata": {
      "needs_background": "light"
     },
     "output_type": "display_data"
    }
   ],
   "source": [
    "df_corr = df.corr()\n",
    "plt.figure(figsize=(15,12))\n",
    "sns.heatmap(df.corr(),annot = True)"
   ]
  },
  {
   "cell_type": "markdown",
   "id": "21758579",
   "metadata": {},
   "source": [
    "EDA summary:\n",
    "1.)its a imbalanced dataset \n",
    "2.)Both male and female patients have equal chances of cardio vascular risk.\n",
    "3.)We can say that Cardiovascular risk is maximum at age 40-65 age.\n",
    "4.)Chances of cardio vascular risk is very low for people who are not under any BP Medication. \n",
    "5.)There is similar cardio vascular risk ratios for both smokers and non smokers. \n",
    "6.)Cardio vascular risk is less for non diabetic patients and more in diabetic patients."
   ]
  },
  {
   "cell_type": "code",
   "execution_count": 29,
   "id": "5b9a71ba",
   "metadata": {},
   "outputs": [],
   "source": [
    "#Splitting data into dependent and independent variables\n",
    "X=df.drop([\"TenYearCHD\"],axis=1)\n",
    "Y=df[\"TenYearCHD\"]"
   ]
  },
  {
   "cell_type": "code",
   "execution_count": 30,
   "id": "caa9c45f",
   "metadata": {},
   "outputs": [
    {
     "data": {
      "text/html": [
       "<div>\n",
       "<style scoped>\n",
       "    .dataframe tbody tr th:only-of-type {\n",
       "        vertical-align: middle;\n",
       "    }\n",
       "\n",
       "    .dataframe tbody tr th {\n",
       "        vertical-align: top;\n",
       "    }\n",
       "\n",
       "    .dataframe thead th {\n",
       "        text-align: right;\n",
       "    }\n",
       "</style>\n",
       "<table border=\"1\" class=\"dataframe\">\n",
       "  <thead>\n",
       "    <tr style=\"text-align: right;\">\n",
       "      <th></th>\n",
       "      <th>age</th>\n",
       "      <th>sex</th>\n",
       "      <th>is_smoking</th>\n",
       "      <th>cigsPerDay</th>\n",
       "      <th>BPMeds</th>\n",
       "      <th>prevalentStroke</th>\n",
       "      <th>prevalentHyp</th>\n",
       "      <th>diabetes</th>\n",
       "      <th>totChol</th>\n",
       "      <th>sysBP</th>\n",
       "      <th>diaBP</th>\n",
       "      <th>BMI</th>\n",
       "      <th>heartRate</th>\n",
       "      <th>glucose</th>\n",
       "    </tr>\n",
       "  </thead>\n",
       "  <tbody>\n",
       "    <tr>\n",
       "      <th>0</th>\n",
       "      <td>64</td>\n",
       "      <td>0</td>\n",
       "      <td>1</td>\n",
       "      <td>3.0</td>\n",
       "      <td>0.0</td>\n",
       "      <td>0</td>\n",
       "      <td>0</td>\n",
       "      <td>0</td>\n",
       "      <td>221.0</td>\n",
       "      <td>148.0</td>\n",
       "      <td>85.0</td>\n",
       "      <td>25.38</td>\n",
       "      <td>90.0</td>\n",
       "      <td>80.0</td>\n",
       "    </tr>\n",
       "    <tr>\n",
       "      <th>1</th>\n",
       "      <td>36</td>\n",
       "      <td>1</td>\n",
       "      <td>0</td>\n",
       "      <td>0.0</td>\n",
       "      <td>0.0</td>\n",
       "      <td>0</td>\n",
       "      <td>1</td>\n",
       "      <td>0</td>\n",
       "      <td>212.0</td>\n",
       "      <td>168.0</td>\n",
       "      <td>98.0</td>\n",
       "      <td>29.77</td>\n",
       "      <td>72.0</td>\n",
       "      <td>75.0</td>\n",
       "    </tr>\n",
       "    <tr>\n",
       "      <th>2</th>\n",
       "      <td>46</td>\n",
       "      <td>0</td>\n",
       "      <td>1</td>\n",
       "      <td>10.0</td>\n",
       "      <td>0.0</td>\n",
       "      <td>0</td>\n",
       "      <td>0</td>\n",
       "      <td>0</td>\n",
       "      <td>250.0</td>\n",
       "      <td>116.0</td>\n",
       "      <td>71.0</td>\n",
       "      <td>20.35</td>\n",
       "      <td>88.0</td>\n",
       "      <td>94.0</td>\n",
       "    </tr>\n",
       "    <tr>\n",
       "      <th>3</th>\n",
       "      <td>50</td>\n",
       "      <td>1</td>\n",
       "      <td>1</td>\n",
       "      <td>20.0</td>\n",
       "      <td>0.0</td>\n",
       "      <td>0</td>\n",
       "      <td>1</td>\n",
       "      <td>0</td>\n",
       "      <td>233.0</td>\n",
       "      <td>158.0</td>\n",
       "      <td>88.0</td>\n",
       "      <td>28.26</td>\n",
       "      <td>68.0</td>\n",
       "      <td>94.0</td>\n",
       "    </tr>\n",
       "    <tr>\n",
       "      <th>4</th>\n",
       "      <td>64</td>\n",
       "      <td>0</td>\n",
       "      <td>1</td>\n",
       "      <td>30.0</td>\n",
       "      <td>0.0</td>\n",
       "      <td>0</td>\n",
       "      <td>0</td>\n",
       "      <td>0</td>\n",
       "      <td>241.0</td>\n",
       "      <td>136.5</td>\n",
       "      <td>85.0</td>\n",
       "      <td>26.42</td>\n",
       "      <td>70.0</td>\n",
       "      <td>77.0</td>\n",
       "    </tr>\n",
       "  </tbody>\n",
       "</table>\n",
       "</div>"
      ],
      "text/plain": [
       "   age  sex  is_smoking  cigsPerDay  BPMeds  prevalentStroke  prevalentHyp  \\\n",
       "0   64    0           1         3.0     0.0                0             0   \n",
       "1   36    1           0         0.0     0.0                0             1   \n",
       "2   46    0           1        10.0     0.0                0             0   \n",
       "3   50    1           1        20.0     0.0                0             1   \n",
       "4   64    0           1        30.0     0.0                0             0   \n",
       "\n",
       "   diabetes  totChol  sysBP  diaBP    BMI  heartRate  glucose  \n",
       "0         0    221.0  148.0   85.0  25.38       90.0     80.0  \n",
       "1         0    212.0  168.0   98.0  29.77       72.0     75.0  \n",
       "2         0    250.0  116.0   71.0  20.35       88.0     94.0  \n",
       "3         0    233.0  158.0   88.0  28.26       68.0     94.0  \n",
       "4         0    241.0  136.5   85.0  26.42       70.0     77.0  "
      ]
     },
     "execution_count": 30,
     "metadata": {},
     "output_type": "execute_result"
    }
   ],
   "source": [
    "X.head()"
   ]
  },
  {
   "cell_type": "code",
   "execution_count": 31,
   "id": "5e860ee7",
   "metadata": {},
   "outputs": [
    {
     "data": {
      "text/plain": [
       "0    1\n",
       "1    0\n",
       "2    0\n",
       "3    1\n",
       "4    0\n",
       "Name: TenYearCHD, dtype: int64"
      ]
     },
     "execution_count": 31,
     "metadata": {},
     "output_type": "execute_result"
    }
   ],
   "source": [
    "Y.head()"
   ]
  },
  {
   "cell_type": "code",
   "execution_count": 32,
   "id": "3376b371",
   "metadata": {},
   "outputs": [
    {
     "data": {
      "text/html": [
       "<div>\n",
       "<style scoped>\n",
       "    .dataframe tbody tr th:only-of-type {\n",
       "        vertical-align: middle;\n",
       "    }\n",
       "\n",
       "    .dataframe tbody tr th {\n",
       "        vertical-align: top;\n",
       "    }\n",
       "\n",
       "    .dataframe thead th {\n",
       "        text-align: right;\n",
       "    }\n",
       "</style>\n",
       "<table border=\"1\" class=\"dataframe\">\n",
       "  <thead>\n",
       "    <tr style=\"text-align: right;\">\n",
       "      <th></th>\n",
       "      <th>age</th>\n",
       "      <th>sex</th>\n",
       "      <th>is_smoking</th>\n",
       "      <th>cigsPerDay</th>\n",
       "      <th>BPMeds</th>\n",
       "      <th>prevalentStroke</th>\n",
       "      <th>prevalentHyp</th>\n",
       "      <th>diabetes</th>\n",
       "      <th>totChol</th>\n",
       "      <th>sysBP</th>\n",
       "      <th>diaBP</th>\n",
       "      <th>BMI</th>\n",
       "      <th>heartRate</th>\n",
       "      <th>glucose</th>\n",
       "    </tr>\n",
       "  </thead>\n",
       "  <tbody>\n",
       "    <tr>\n",
       "      <th>0</th>\n",
       "      <td>1.682783</td>\n",
       "      <td>-0.873425</td>\n",
       "      <td>1.004731</td>\n",
       "      <td>-0.506751</td>\n",
       "      <td>-0.174342</td>\n",
       "      <td>-0.080821</td>\n",
       "      <td>-0.678658</td>\n",
       "      <td>-0.162295</td>\n",
       "      <td>-0.356539</td>\n",
       "      <td>0.690879</td>\n",
       "      <td>0.176093</td>\n",
       "      <td>-0.100635</td>\n",
       "      <td>1.171675</td>\n",
       "      <td>-0.074275</td>\n",
       "    </tr>\n",
       "    <tr>\n",
       "      <th>1</th>\n",
       "      <td>-1.576210</td>\n",
       "      <td>1.144919</td>\n",
       "      <td>-0.995291</td>\n",
       "      <td>-0.759679</td>\n",
       "      <td>-0.174342</td>\n",
       "      <td>-0.080821</td>\n",
       "      <td>1.473495</td>\n",
       "      <td>-0.162295</td>\n",
       "      <td>-0.556594</td>\n",
       "      <td>1.588193</td>\n",
       "      <td>1.257462</td>\n",
       "      <td>0.968422</td>\n",
       "      <td>-0.332292</td>\n",
       "      <td>-0.290185</td>\n",
       "    </tr>\n",
       "    <tr>\n",
       "      <th>2</th>\n",
       "      <td>-0.412284</td>\n",
       "      <td>-0.873425</td>\n",
       "      <td>1.004731</td>\n",
       "      <td>0.083414</td>\n",
       "      <td>-0.174342</td>\n",
       "      <td>-0.080821</td>\n",
       "      <td>-0.678658</td>\n",
       "      <td>-0.162295</td>\n",
       "      <td>0.288084</td>\n",
       "      <td>-0.744824</td>\n",
       "      <td>-0.988457</td>\n",
       "      <td>-1.325547</td>\n",
       "      <td>1.004567</td>\n",
       "      <td>0.530271</td>\n",
       "    </tr>\n",
       "    <tr>\n",
       "      <th>3</th>\n",
       "      <td>0.053287</td>\n",
       "      <td>1.144919</td>\n",
       "      <td>1.004731</td>\n",
       "      <td>0.926507</td>\n",
       "      <td>-0.174342</td>\n",
       "      <td>-0.080821</td>\n",
       "      <td>1.473495</td>\n",
       "      <td>-0.162295</td>\n",
       "      <td>-0.089799</td>\n",
       "      <td>1.139536</td>\n",
       "      <td>0.425640</td>\n",
       "      <td>0.600706</td>\n",
       "      <td>-0.666507</td>\n",
       "      <td>0.530271</td>\n",
       "    </tr>\n",
       "    <tr>\n",
       "      <th>4</th>\n",
       "      <td>1.682783</td>\n",
       "      <td>-0.873425</td>\n",
       "      <td>1.004731</td>\n",
       "      <td>1.769600</td>\n",
       "      <td>-0.174342</td>\n",
       "      <td>-0.080821</td>\n",
       "      <td>-0.678658</td>\n",
       "      <td>-0.162295</td>\n",
       "      <td>0.088028</td>\n",
       "      <td>0.174923</td>\n",
       "      <td>0.176093</td>\n",
       "      <td>0.152627</td>\n",
       "      <td>-0.499400</td>\n",
       "      <td>-0.203821</td>\n",
       "    </tr>\n",
       "    <tr>\n",
       "      <th>...</th>\n",
       "      <td>...</td>\n",
       "      <td>...</td>\n",
       "      <td>...</td>\n",
       "      <td>...</td>\n",
       "      <td>...</td>\n",
       "      <td>...</td>\n",
       "      <td>...</td>\n",
       "      <td>...</td>\n",
       "      <td>...</td>\n",
       "      <td>...</td>\n",
       "      <td>...</td>\n",
       "      <td>...</td>\n",
       "      <td>...</td>\n",
       "      <td>...</td>\n",
       "    </tr>\n",
       "    <tr>\n",
       "      <th>3385</th>\n",
       "      <td>1.217213</td>\n",
       "      <td>-0.873425</td>\n",
       "      <td>-0.995291</td>\n",
       "      <td>-0.759679</td>\n",
       "      <td>-0.174342</td>\n",
       "      <td>-0.080821</td>\n",
       "      <td>-0.678658</td>\n",
       "      <td>-0.162295</td>\n",
       "      <td>0.532596</td>\n",
       "      <td>-0.408331</td>\n",
       "      <td>-0.323000</td>\n",
       "      <td>0.849097</td>\n",
       "      <td>-0.499400</td>\n",
       "      <td>0.918908</td>\n",
       "    </tr>\n",
       "    <tr>\n",
       "      <th>3386</th>\n",
       "      <td>-0.412284</td>\n",
       "      <td>-0.873425</td>\n",
       "      <td>-0.995291</td>\n",
       "      <td>-0.759679</td>\n",
       "      <td>-0.174342</td>\n",
       "      <td>-0.080821</td>\n",
       "      <td>-0.678658</td>\n",
       "      <td>-0.162295</td>\n",
       "      <td>-0.845563</td>\n",
       "      <td>-1.372943</td>\n",
       "      <td>-2.236189</td>\n",
       "      <td>-0.933478</td>\n",
       "      <td>0.336137</td>\n",
       "      <td>0.098452</td>\n",
       "    </tr>\n",
       "    <tr>\n",
       "      <th>3387</th>\n",
       "      <td>-0.645069</td>\n",
       "      <td>1.144919</td>\n",
       "      <td>1.004731</td>\n",
       "      <td>-0.506751</td>\n",
       "      <td>-0.174342</td>\n",
       "      <td>-0.080821</td>\n",
       "      <td>1.473495</td>\n",
       "      <td>-0.162295</td>\n",
       "      <td>2.555377</td>\n",
       "      <td>1.408730</td>\n",
       "      <td>3.004287</td>\n",
       "      <td>0.761429</td>\n",
       "      <td>-0.248739</td>\n",
       "      <td>-0.419731</td>\n",
       "    </tr>\n",
       "    <tr>\n",
       "      <th>3388</th>\n",
       "      <td>1.217213</td>\n",
       "      <td>1.144919</td>\n",
       "      <td>-0.995291</td>\n",
       "      <td>-0.759679</td>\n",
       "      <td>-0.174342</td>\n",
       "      <td>-0.080821</td>\n",
       "      <td>1.473495</td>\n",
       "      <td>-0.162295</td>\n",
       "      <td>-1.023390</td>\n",
       "      <td>1.543327</td>\n",
       "      <td>1.839737</td>\n",
       "      <td>-0.677780</td>\n",
       "      <td>0.336137</td>\n",
       "      <td>0.141634</td>\n",
       "    </tr>\n",
       "    <tr>\n",
       "      <th>3389</th>\n",
       "      <td>0.518857</td>\n",
       "      <td>-0.873425</td>\n",
       "      <td>-0.995291</td>\n",
       "      <td>-0.759679</td>\n",
       "      <td>-0.174342</td>\n",
       "      <td>-0.080821</td>\n",
       "      <td>-0.678658</td>\n",
       "      <td>-0.162295</td>\n",
       "      <td>1.132761</td>\n",
       "      <td>-0.385898</td>\n",
       "      <td>-0.489364</td>\n",
       "      <td>0.995210</td>\n",
       "      <td>0.252584</td>\n",
       "      <td>0.443907</td>\n",
       "    </tr>\n",
       "  </tbody>\n",
       "</table>\n",
       "<p>3390 rows × 14 columns</p>\n",
       "</div>"
      ],
      "text/plain": [
       "           age       sex  is_smoking  cigsPerDay    BPMeds  prevalentStroke  \\\n",
       "0     1.682783 -0.873425    1.004731   -0.506751 -0.174342        -0.080821   \n",
       "1    -1.576210  1.144919   -0.995291   -0.759679 -0.174342        -0.080821   \n",
       "2    -0.412284 -0.873425    1.004731    0.083414 -0.174342        -0.080821   \n",
       "3     0.053287  1.144919    1.004731    0.926507 -0.174342        -0.080821   \n",
       "4     1.682783 -0.873425    1.004731    1.769600 -0.174342        -0.080821   \n",
       "...        ...       ...         ...         ...       ...              ...   \n",
       "3385  1.217213 -0.873425   -0.995291   -0.759679 -0.174342        -0.080821   \n",
       "3386 -0.412284 -0.873425   -0.995291   -0.759679 -0.174342        -0.080821   \n",
       "3387 -0.645069  1.144919    1.004731   -0.506751 -0.174342        -0.080821   \n",
       "3388  1.217213  1.144919   -0.995291   -0.759679 -0.174342        -0.080821   \n",
       "3389  0.518857 -0.873425   -0.995291   -0.759679 -0.174342        -0.080821   \n",
       "\n",
       "      prevalentHyp  diabetes   totChol     sysBP     diaBP       BMI  \\\n",
       "0        -0.678658 -0.162295 -0.356539  0.690879  0.176093 -0.100635   \n",
       "1         1.473495 -0.162295 -0.556594  1.588193  1.257462  0.968422   \n",
       "2        -0.678658 -0.162295  0.288084 -0.744824 -0.988457 -1.325547   \n",
       "3         1.473495 -0.162295 -0.089799  1.139536  0.425640  0.600706   \n",
       "4        -0.678658 -0.162295  0.088028  0.174923  0.176093  0.152627   \n",
       "...            ...       ...       ...       ...       ...       ...   \n",
       "3385     -0.678658 -0.162295  0.532596 -0.408331 -0.323000  0.849097   \n",
       "3386     -0.678658 -0.162295 -0.845563 -1.372943 -2.236189 -0.933478   \n",
       "3387      1.473495 -0.162295  2.555377  1.408730  3.004287  0.761429   \n",
       "3388      1.473495 -0.162295 -1.023390  1.543327  1.839737 -0.677780   \n",
       "3389     -0.678658 -0.162295  1.132761 -0.385898 -0.489364  0.995210   \n",
       "\n",
       "      heartRate   glucose  \n",
       "0      1.171675 -0.074275  \n",
       "1     -0.332292 -0.290185  \n",
       "2      1.004567  0.530271  \n",
       "3     -0.666507  0.530271  \n",
       "4     -0.499400 -0.203821  \n",
       "...         ...       ...  \n",
       "3385  -0.499400  0.918908  \n",
       "3386   0.336137  0.098452  \n",
       "3387  -0.248739 -0.419731  \n",
       "3388   0.336137  0.141634  \n",
       "3389   0.252584  0.443907  \n",
       "\n",
       "[3390 rows x 14 columns]"
      ]
     },
     "execution_count": 32,
     "metadata": {},
     "output_type": "execute_result"
    }
   ],
   "source": [
    "# Feature scaling standarization to bring all the values 0 and -3.\n",
    "from sklearn.preprocessing import StandardScaler\n",
    "scaljob=StandardScaler()\n",
    "X_scaled=scaljob.fit_transform(X)\n",
    "# we are getting the array value we sould change it in DATAFRAME \n",
    "X_scaled_DF=pd.DataFrame(X_scaled,index=X.index,columns=X.columns)\n",
    "X_scaled_DF"
   ]
  },
  {
   "cell_type": "code",
   "execution_count": 33,
   "id": "a9f0db5b",
   "metadata": {},
   "outputs": [
    {
     "name": "stdout",
     "output_type": "stream",
     "text": [
      "(2373, 14)\n",
      "(1017, 14)\n",
      "(2373,)\n",
      "(1017,)\n"
     ]
    }
   ],
   "source": [
    "from sklearn.model_selection import train_test_split\n",
    "X_train, X_test,Y_train,Y_test=train_test_split(X_scaled_DF,Y,train_size=0.70,random_state=101)\n",
    "print(X_train.shape)\n",
    "print(X_test.shape)\n",
    "print(Y_train.shape)\n",
    "print(Y_test.shape)"
   ]
  },
  {
   "cell_type": "code",
   "execution_count": 34,
   "id": "c01db7ea",
   "metadata": {},
   "outputs": [
    {
     "data": {
      "text/plain": [
       "0    1994\n",
       "1     379\n",
       "Name: TenYearCHD, dtype: int64"
      ]
     },
     "execution_count": 34,
     "metadata": {},
     "output_type": "execute_result"
    }
   ],
   "source": [
    "Y_train.value_counts()"
   ]
  },
  {
   "cell_type": "code",
   "execution_count": 35,
   "id": "d57426db",
   "metadata": {},
   "outputs": [
    {
     "data": {
      "text/plain": [
       "0    2879\n",
       "1     511\n",
       "Name: TenYearCHD, dtype: int64"
      ]
     },
     "execution_count": 35,
     "metadata": {},
     "output_type": "execute_result"
    }
   ],
   "source": [
    "Y.value_counts() #imbalance"
   ]
  },
  {
   "cell_type": "code",
   "execution_count": 36,
   "id": "a3b3b988",
   "metadata": {},
   "outputs": [
    {
     "name": "stdout",
     "output_type": "stream",
     "text": [
      "Bofore balancing X_train (2373, 14)\n",
      "***********************************\n",
      "Bofore balancing Y_train (2373,)\n",
      "***********************************\n",
      " no. of different class before balancing \n",
      " 0    1994\n",
      "1     379\n",
      "Name: TenYearCHD, dtype: int64\n",
      "***********************************\n"
     ]
    }
   ],
   "source": [
    "#BALANCING THE DATASET\n",
    "#Balancing should we done only on training data not on the entire dataset or on testing data\n",
    "from imblearn.over_sampling import SMOTE\n",
    "sm=SMOTE()\n",
    "X_train_smote, Y_train_smote = sm.fit_resample(X_train, Y_train)\n",
    "print(\"Bofore balancing X_train\", X_train.shape)\n",
    "print(\"*******\"*5)\n",
    "print(\"Bofore balancing Y_train\", Y_train.shape)\n",
    "print(\"*******\"*5)\n",
    "print(\" no. of different class before balancing \\n\", Y_train.value_counts())\n",
    "print(\"*******\"*5)"
   ]
  },
  {
   "cell_type": "code",
   "execution_count": 37,
   "id": "b9b7b39b",
   "metadata": {},
   "outputs": [
    {
     "name": "stdout",
     "output_type": "stream",
     "text": [
      "After balancing X_train (3988, 14)\n",
      "***********************************\n",
      "After balancing Y_train (3988,)\n",
      "***********************************\n",
      "After SMOTE method Dependent value counts\n"
     ]
    },
    {
     "data": {
      "text/plain": [
       "0    1994\n",
       "1    1994\n",
       "Name: TenYearCHD, dtype: int64"
      ]
     },
     "execution_count": 37,
     "metadata": {},
     "output_type": "execute_result"
    }
   ],
   "source": [
    "print(\"After balancing X_train\",X_train_smote.shape)\n",
    "print(\"*******\"*5)\n",
    "print(\"After balancing Y_train\",Y_train_smote.shape)\n",
    "print(\"*******\"*5)\n",
    "print(\"After SMOTE method Dependent value counts\")\n",
    "Y_train_smote.value_counts()"
   ]
  },
  {
   "cell_type": "code",
   "execution_count": 38,
   "id": "b2ecf5da",
   "metadata": {},
   "outputs": [],
   "source": [
    "from sklearn.metrics import confusion_matrix, accuracy_score, classification_report\n",
    "from sklearn.model_selection import GridSearchCV\n",
    "from sklearn.model_selection import RandomizedSearchCV"
   ]
  },
  {
   "cell_type": "code",
   "execution_count": 39,
   "id": "7a9f83be",
   "metadata": {},
   "outputs": [],
   "source": [
    "def evaluate(model, X_train, X_test, Y_train, Y_test):\n",
    "    y_test_pred = model.predict(X_test)\n",
    "    y_train_pred = model.predict(X_train)\n",
    "\n",
    "    print(\"TRAINIG RESULTS: \\n===============================\")\n",
    "    clf_report = pd.DataFrame(classification_report(Y_train, y_train_pred, output_dict=True))\n",
    "    print(f\"CONFUSION MATRIX:\\n{confusion_matrix(Y_train, y_train_pred)}\")\n",
    "    print(f\"ACCURACY SCORE:\\n{accuracy_score(Y_train, y_train_pred):.4f}\")\n",
    "    print(f\"CLASSIFICATION REPORT:\\n{clf_report}\")\n",
    "\n",
    "    print(\"TESTING RESULTS: \\n===============================\")\n",
    "    clf_report = pd.DataFrame(classification_report(Y_test, y_test_pred, output_dict=True))\n",
    "    print(f\"CONFUSION MATRIX:\\n{confusion_matrix(Y_test, y_test_pred)}\")\n",
    "    print(f\"ACCURACY SCORE:\\n{accuracy_score(Y_test, y_test_pred):.4f}\")\n",
    "    print(f\"CLASSIFICATION REPORT:\\n{clf_report}\")"
   ]
  },
  {
   "cell_type": "markdown",
   "id": "ed067754",
   "metadata": {},
   "source": [
    "# LOGISTIC REGRESSION"
   ]
  },
  {
   "cell_type": "code",
   "execution_count": 40,
   "id": "59801b55",
   "metadata": {},
   "outputs": [],
   "source": [
    "from sklearn.linear_model import LogisticRegression\n",
    "LRM_param_grid = {'C': [0.01, 0.1, 1, 10, 100],  \n",
    "                  'penalty':['l1', 'l2', 'elasticnet', 'none'],\n",
    "                  'solver': ['newton-cg', 'lbfgs', 'sag', 'saga']} \n",
    "LRM = GridSearchCV(LogisticRegression(),\n",
    "                        LRM_param_grid)"
   ]
  },
  {
   "cell_type": "code",
   "execution_count": 41,
   "id": "fc7f4f9e",
   "metadata": {},
   "outputs": [
    {
     "data": {
      "text/plain": [
       "GridSearchCV(estimator=LogisticRegression(),\n",
       "             param_grid={'C': [0.01, 0.1, 1, 10, 100],\n",
       "                         'penalty': ['l1', 'l2', 'elasticnet', 'none'],\n",
       "                         'solver': ['newton-cg', 'lbfgs', 'sag', 'saga']})"
      ]
     },
     "execution_count": 41,
     "metadata": {},
     "output_type": "execute_result"
    }
   ],
   "source": [
    "LRM.fit(X_train_smote,Y_train_smote)"
   ]
  },
  {
   "cell_type": "code",
   "execution_count": 42,
   "id": "ce83927d",
   "metadata": {},
   "outputs": [
    {
     "data": {
      "text/plain": [
       "{'C': 0.01, 'penalty': 'l1', 'solver': 'saga'}"
      ]
     },
     "execution_count": 42,
     "metadata": {},
     "output_type": "execute_result"
    }
   ],
   "source": [
    "LRM.best_params_"
   ]
  },
  {
   "cell_type": "code",
   "execution_count": 43,
   "id": "c98537c7",
   "metadata": {},
   "outputs": [
    {
     "data": {
      "text/plain": [
       "LogisticRegression(C=0.01, penalty='l1', solver='saga')"
      ]
     },
     "execution_count": 43,
     "metadata": {},
     "output_type": "execute_result"
    }
   ],
   "source": [
    "LRM.best_estimator_"
   ]
  },
  {
   "cell_type": "code",
   "execution_count": 44,
   "id": "3dd7632e",
   "metadata": {},
   "outputs": [
    {
     "name": "stdout",
     "output_type": "stream",
     "text": [
      "Logistic Regression Training Accuracy: 0.6750948166877371\n",
      "Logistic Regression Testing Accuracy: 0.6578171091445427\n"
     ]
    }
   ],
   "source": [
    "LRM_grid_ytrain_pred = LRM.predict(X_train)\n",
    "print(\"Logistic Regression Training Accuracy:\",accuracy_score(Y_train, LRM_grid_ytrain_pred))\n",
    "LRM_grid_y_pred = LRM.predict(X_test)\n",
    "print(\"Logistic Regression Testing Accuracy:\",accuracy_score(Y_test, LRM_grid_y_pred))"
   ]
  },
  {
   "cell_type": "code",
   "execution_count": 45,
   "id": "299de999",
   "metadata": {},
   "outputs": [
    {
     "name": "stdout",
     "output_type": "stream",
     "text": [
      "After cross validation the accuracy in logistic regression is: 0.6780412085490107\n"
     ]
    }
   ],
   "source": [
    "#cross validation\n",
    "from sklearn.model_selection import cross_val_score\n",
    "LRM_CVS_TRAIN = cross_val_score(estimator = LRM, X = X_train_smote, y = Y_train_smote, cv = 10)\n",
    "print(\"After cross validation the accuracy in logistic regression is:\",LRM_CVS_TRAIN.mean())"
   ]
  },
  {
   "cell_type": "code",
   "execution_count": 46,
   "id": "aa7f8638",
   "metadata": {},
   "outputs": [
    {
     "data": {
      "image/png": "[encoded data removed]",
      "text/plain": [
       "<Figure size 432x288 with 2 Axes>"
      ]
     },
     "metadata": {
      "needs_background": "light"
     },
     "output_type": "display_data"
    }
   ],
   "source": [
    "LRM_CM = confusion_matrix(Y_test, LRM_grid_y_pred)\n",
    "ax= plt.subplot()\n",
    "sns.heatmap(LRM_CM, annot=True, fmt='g',cmap='rocket_r');#cmap='rocket_r' for color inverse of the scale\n",
    "ax.set_xlabel('Predicted labels');\n",
    "ax.set_ylabel('True labels'); \n",
    "ax.set_title('Confusion Matrix'); "
   ]
  },
  {
   "cell_type": "code",
   "execution_count": 47,
   "id": "f40dfb4c",
   "metadata": {},
   "outputs": [
    {
     "name": "stdout",
     "output_type": "stream",
     "text": [
      "              precision    recall  f1-score   support\n",
      "\n",
      "           0       0.93      0.66      0.77       885\n",
      "           1       0.22      0.67      0.34       132\n",
      "\n",
      "    accuracy                           0.66      1017\n",
      "   macro avg       0.58      0.66      0.55      1017\n",
      "weighted avg       0.84      0.66      0.71      1017\n",
      "\n"
     ]
    }
   ],
   "source": [
    "print(classification_report(Y_test,LRM_grid_y_pred))"
   ]
  },
  {
   "cell_type": "code",
   "execution_count": 48,
   "id": "2e27381b",
   "metadata": {},
   "outputs": [
    {
     "data": {
      "text/plain": [
       "array([0.26723033, 0.66999532, 0.62740201, ..., 0.44970541, 0.36629667,\n",
       "       0.6178067 ])"
      ]
     },
     "execution_count": 48,
     "metadata": {},
     "output_type": "execute_result"
    }
   ],
   "source": [
    "from sklearn import metrics\n",
    "LMR_Proba_score_positive_class= LRM.predict_proba(X_test)[:,1]\n",
    "LMR_Proba_score_positive_class "
   ]
  },
  {
   "cell_type": "code",
   "execution_count": 49,
   "id": "cb0aa4a4",
   "metadata": {},
   "outputs": [
    {
     "name": "stdout",
     "output_type": "stream",
     "text": [
      "FPR [0.         0.         0.         0.00112994 0.00112994 0.00225989\n",
      " 0.00225989 0.00338983 0.00338983 0.00451977 0.00451977 0.00564972\n",
      " 0.00564972 0.00903955 0.00903955 0.01016949 0.01016949 0.01129944\n",
      " 0.01129944 0.01920904 0.01920904 0.02259887 0.02259887 0.02372881\n",
      " 0.02372881 0.04971751 0.04971751 0.0519774  0.0519774  0.05649718\n",
      " 0.05649718 0.06101695 0.06101695 0.06214689 0.06214689 0.06440678\n",
      " 0.06440678 0.06892655 0.06892655 0.07231638 0.07231638 0.07344633\n",
      " 0.07344633 0.07457627 0.07457627 0.0779661  0.0779661  0.08361582\n",
      " 0.08361582 0.08700565 0.08700565 0.08813559 0.08813559 0.08926554\n",
      " 0.08926554 0.09152542 0.09152542 0.09378531 0.09378531 0.09717514\n",
      " 0.09717514 0.09943503 0.09943503 0.10169492 0.10169492 0.10282486\n",
      " 0.10282486 0.12090395 0.12090395 0.13333333 0.13333333 0.13785311\n",
      " 0.13785311 0.13898305 0.13898305 0.14011299 0.14011299 0.14124294\n",
      " 0.14124294 0.14576271 0.14576271 0.1480226  0.1480226  0.1559322\n",
      " 0.1559322  0.15706215 0.15706215 0.16723164 0.16723164 0.18079096\n",
      " 0.18079096 0.1819209  0.1819209  0.18305085 0.18305085 0.18757062\n",
      " 0.18757062 0.19774011 0.19774011 0.19887006 0.19887006 0.21920904\n",
      " 0.21920904 0.22033898 0.22033898 0.22146893 0.22146893 0.22259887\n",
      " 0.22259887 0.22485876 0.22485876 0.22711864 0.22711864 0.23728814\n",
      " 0.23728814 0.24067797 0.24067797 0.24180791 0.24180791 0.2440678\n",
      " 0.2440678  0.25084746 0.25084746 0.25423729 0.25423729 0.25988701\n",
      " 0.25988701 0.26327684 0.26327684 0.28700565 0.28700565 0.29039548\n",
      " 0.29039548 0.29152542 0.29152542 0.30734463 0.30734463 0.31186441\n",
      " 0.31186441 0.31412429 0.31412429 0.3220339  0.3220339  0.32655367\n",
      " 0.32655367 0.33107345 0.33107345 0.34350282 0.34350282 0.34463277\n",
      " 0.34463277 0.34576271 0.34576271 0.37853107 0.37853107 0.39096045\n",
      " 0.39096045 0.4        0.4        0.41694915 0.41694915 0.42146893\n",
      " 0.42146893 0.44293785 0.44293785 0.44632768 0.44632768 0.47909605\n",
      " 0.47909605 0.48926554 0.48926554 0.4960452  0.4960452  0.50056497\n",
      " 0.50056497 0.50621469 0.50621469 0.51412429 0.51412429 0.51864407\n",
      " 0.51864407 0.52429379 0.52429379 0.53220339 0.53220339 0.53559322\n",
      " 0.53559322 0.55480226 0.55480226 0.57853107 0.57853107 0.58079096\n",
      " 0.58079096 0.58418079 0.58418079 0.59548023 0.59548023 0.63276836\n",
      " 0.63276836 0.66440678 0.66440678 0.69378531 0.69378531 0.70169492\n",
      " 0.70169492 0.70621469 0.70621469 0.71073446 0.71073446 0.72542373\n",
      " 0.72542373 0.77062147 0.77062147 0.77853107 0.77853107 0.8\n",
      " 0.8        0.80338983 0.80338983 0.84180791 0.84180791 0.84293785\n",
      " 0.84293785 0.86779661 0.86779661 0.91186441 0.91186441 0.99887006\n",
      " 0.99887006 1.        ]\n",
      "TPR [0.         0.00757576 0.03030303 0.03030303 0.03787879 0.03787879\n",
      " 0.04545455 0.04545455 0.0530303  0.0530303  0.06060606 0.06060606\n",
      " 0.06818182 0.06818182 0.07575758 0.07575758 0.08333333 0.08333333\n",
      " 0.09090909 0.09090909 0.09848485 0.09848485 0.10606061 0.10606061\n",
      " 0.11363636 0.11363636 0.12121212 0.12121212 0.13636364 0.13636364\n",
      " 0.14393939 0.14393939 0.15909091 0.15909091 0.16666667 0.16666667\n",
      " 0.17424242 0.17424242 0.18181818 0.18181818 0.18939394 0.18939394\n",
      " 0.1969697  0.1969697  0.21212121 0.21212121 0.21969697 0.21969697\n",
      " 0.23484848 0.23484848 0.24242424 0.24242424 0.25       0.25\n",
      " 0.25757576 0.25757576 0.26515152 0.26515152 0.27272727 0.27272727\n",
      " 0.28030303 0.28030303 0.28787879 0.28787879 0.29545455 0.29545455\n",
      " 0.3030303  0.3030303  0.31818182 0.31818182 0.32575758 0.32575758\n",
      " 0.33333333 0.33333333 0.34090909 0.34090909 0.35606061 0.35606061\n",
      " 0.37121212 0.37121212 0.37878788 0.37878788 0.38636364 0.38636364\n",
      " 0.39393939 0.39393939 0.40151515 0.40151515 0.40909091 0.40909091\n",
      " 0.41666667 0.41666667 0.42424242 0.42424242 0.43181818 0.43181818\n",
      " 0.43939394 0.43939394 0.45454545 0.45454545 0.46212121 0.46212121\n",
      " 0.46969697 0.46969697 0.48484848 0.48484848 0.49242424 0.49242424\n",
      " 0.5        0.5        0.50757576 0.50757576 0.51515152 0.51515152\n",
      " 0.52272727 0.52272727 0.53787879 0.53787879 0.54545455 0.54545455\n",
      " 0.5530303  0.5530303  0.56060606 0.56060606 0.56818182 0.56818182\n",
      " 0.58333333 0.58333333 0.59090909 0.59090909 0.59848485 0.59848485\n",
      " 0.60606061 0.60606061 0.61363636 0.61363636 0.62121212 0.62121212\n",
      " 0.62878788 0.62878788 0.63636364 0.63636364 0.64393939 0.64393939\n",
      " 0.65151515 0.65151515 0.65909091 0.65909091 0.66666667 0.66666667\n",
      " 0.67424242 0.67424242 0.68939394 0.68939394 0.6969697  0.6969697\n",
      " 0.70454545 0.70454545 0.71212121 0.71212121 0.71969697 0.71969697\n",
      " 0.72727273 0.72727273 0.74242424 0.74242424 0.75       0.75\n",
      " 0.76515152 0.76515152 0.77272727 0.77272727 0.78030303 0.78030303\n",
      " 0.78787879 0.78787879 0.79545455 0.79545455 0.8030303  0.8030303\n",
      " 0.81060606 0.81060606 0.81818182 0.81818182 0.83333333 0.83333333\n",
      " 0.84090909 0.84090909 0.84848485 0.84848485 0.85606061 0.85606061\n",
      " 0.86363636 0.86363636 0.87121212 0.87121212 0.87878788 0.87878788\n",
      " 0.88636364 0.88636364 0.89393939 0.89393939 0.90151515 0.90151515\n",
      " 0.90909091 0.90909091 0.91666667 0.91666667 0.92424242 0.92424242\n",
      " 0.93181818 0.93181818 0.93939394 0.93939394 0.9469697  0.9469697\n",
      " 0.95454545 0.95454545 0.96212121 0.96212121 0.96969697 0.96969697\n",
      " 0.97727273 0.97727273 0.98484848 0.98484848 0.99242424 0.99242424\n",
      " 1.         1.        ]\n",
      "thresholds [1.94739436 0.94739436 0.86370148 0.86139201 0.84646441 0.81522889\n",
      " 0.81085896 0.80846276 0.80405721 0.80061673 0.80038942 0.79963675\n",
      " 0.79896941 0.78887937 0.78268053 0.78011003 0.7799902  0.77927777\n",
      " 0.77461016 0.75816699 0.75581941 0.7511565  0.75085781 0.74548145\n",
      " 0.74326613 0.71314258 0.71164927 0.70849073 0.70629847 0.70234925\n",
      " 0.70051797 0.69978911 0.69853942 0.69797986 0.69787046 0.69277148\n",
      " 0.69043189 0.68957267 0.68839898 0.68234824 0.68136383 0.67962311\n",
      " 0.67789055 0.6768499  0.67589802 0.66955338 0.66892043 0.66673369\n",
      " 0.66557685 0.66328658 0.66174181 0.66067562 0.66015449 0.65955747\n",
      " 0.6592593  0.65771324 0.65687059 0.65603192 0.65597422 0.65412203\n",
      " 0.65407058 0.65214457 0.65175154 0.6514901  0.65143715 0.65088427\n",
      " 0.65032048 0.64018682 0.63922631 0.63239933 0.63237062 0.62985861\n",
      " 0.62956682 0.62893663 0.62879816 0.62800869 0.62740201 0.6257747\n",
      " 0.62410295 0.62266092 0.62141709 0.62080189 0.61981886 0.61834462\n",
      " 0.6181099  0.6178067  0.61677601 0.60938226 0.60885902 0.60378554\n",
      " 0.60351081 0.60296816 0.60269655 0.60206596 0.60182161 0.59788193\n",
      " 0.59765081 0.59200953 0.59046188 0.58893103 0.58862858 0.575989\n",
      " 0.57506439 0.57498499 0.57424104 0.57347721 0.57331152 0.57294741\n",
      " 0.57228812 0.5705894  0.56854329 0.56608213 0.56560843 0.55991275\n",
      " 0.55966288 0.55800227 0.55746438 0.5570912  0.55688687 0.55626988\n",
      " 0.55620768 0.54950981 0.54943313 0.54793074 0.54687726 0.54297985\n",
      " 0.54093916 0.53978239 0.53966168 0.53276671 0.53260973 0.53222552\n",
      " 0.53207783 0.52932514 0.52868077 0.52254262 0.52203983 0.52072335\n",
      " 0.51776618 0.51565539 0.51556483 0.51284964 0.51284781 0.50849953\n",
      " 0.507733   0.50541865 0.50448826 0.50030185 0.50015943 0.49951524\n",
      " 0.49915522 0.4986343  0.49763566 0.47538482 0.47445312 0.46765952\n",
      " 0.4670361  0.4623318  0.4621766  0.45595505 0.45558945 0.45399461\n",
      " 0.45343443 0.4430684  0.44218818 0.44112616 0.44098714 0.42902761\n",
      " 0.42808789 0.42249833 0.42188442 0.42095612 0.42087162 0.41985683\n",
      " 0.41961302 0.41592559 0.41586317 0.41280036 0.41274019 0.41149014\n",
      " 0.41010402 0.4085273  0.40821587 0.40624828 0.40550704 0.40375846\n",
      " 0.40368563 0.39606463 0.39603562 0.38720367 0.38661396 0.38515746\n",
      " 0.3847098  0.38451908 0.38425809 0.37813097 0.37794694 0.36107953\n",
      " 0.36101149 0.34808017 0.34786464 0.33363572 0.3332025  0.33047882\n",
      " 0.3298203  0.32572372 0.32557553 0.32379775 0.32368314 0.31894003\n",
      " 0.31879522 0.30369516 0.30255825 0.29902583 0.29883871 0.29261334\n",
      " 0.29257939 0.29117884 0.29114631 0.27199299 0.27197894 0.27145776\n",
      " 0.27084371 0.26280365 0.26214767 0.24246182 0.2399977  0.1542757\n",
      " 0.15150569 0.1415678 ]\n"
     ]
    }
   ],
   "source": [
    "fpr1, tpr1, thresholds1 = metrics.roc_curve(Y_test, LMR_Proba_score_positive_class, pos_label=1)\n",
    "print(\"FPR\",fpr1)\n",
    "print(\"TPR\",tpr1)\n",
    "print(\"thresholds\",thresholds1)"
   ]
  },
  {
   "cell_type": "code",
   "execution_count": 50,
   "id": "cbd04e22",
   "metadata": {},
   "outputs": [
    {
     "name": "stdout",
     "output_type": "stream",
     "text": [
      "AUC SCORE: 0.7094675569251842\n"
     ]
    }
   ],
   "source": [
    "from sklearn.metrics import roc_auc_score\n",
    "LMR_auc_score = roc_auc_score(Y_test, LMR_Proba_score_positive_class)\n",
    "print(\"AUC SCORE:\",LMR_auc_score)"
   ]
  },
  {
   "cell_type": "code",
   "execution_count": 51,
   "id": "a586a4a4",
   "metadata": {},
   "outputs": [
    {
     "data": {
      "image/png": "[encoded data removed]",
      "text/plain": [
       "<Figure size 576x396 with 1 Axes>"
      ]
     },
     "metadata": {},
     "output_type": "display_data"
    }
   ],
   "source": [
    "import matplotlib.pyplot as plt\n",
    "plt.style.use('seaborn')\n",
    "plt.plot(fpr1, tpr1, linestyle='--',color='red', label='Logistic Regression')\n",
    "plt.plot([0, 1], [0, 1], linestyle='--', label='No Skill')\n",
    "plt.title('ROC curve')\n",
    "plt.xlabel('False Positive Rate')\n",
    "plt.ylabel('True Positive rate')\n",
    "plt.legend(loc='best')\n",
    "plt.savefig('ROC', dpi=300)\n",
    "plt.show()"
   ]
  },
  {
   "cell_type": "markdown",
   "id": "2e211f05",
   "metadata": {},
   "source": [
    "# KNN CLASSIFIER"
   ]
  },
  {
   "cell_type": "code",
   "execution_count": 52,
   "id": "dba321af",
   "metadata": {},
   "outputs": [],
   "source": [
    "from sklearn.neighbors import KNeighborsClassifier\n",
    "KNN_param_grid = {'n_neighbors': list(range(1,100)), \n",
    "                  'leaf_size': list(range(1,100)),\n",
    "                  'algorithm': ['auto', 'ball_tree', 'kd_tree', 'brute'],\n",
    "                  'p': [1,2],\n",
    "                  'weights': ['uniform','distance']}\n",
    "\n",
    "#GridSearchCV took a lot of time so using a faster alternative RandomizedSearchCV\n",
    "KNN = RandomizedSearchCV(KNeighborsClassifier(),\n",
    "                   KNN_param_grid)"
   ]
  },
  {
   "cell_type": "code",
   "execution_count": 53,
   "id": "57606fb0",
   "metadata": {},
   "outputs": [
    {
     "data": {
      "text/plain": [
       "RandomizedSearchCV(estimator=KNeighborsClassifier(),\n",
       "                   param_distributions={'algorithm': ['auto', 'ball_tree',\n",
       "                                                      'kd_tree', 'brute'],\n",
       "                                        'leaf_size': [1, 2, 3, 4, 5, 6, 7, 8, 9,\n",
       "                                                      10, 11, 12, 13, 14, 15,\n",
       "                                                      16, 17, 18, 19, 20, 21,\n",
       "                                                      22, 23, 24, 25, 26, 27,\n",
       "                                                      28, 29, 30, ...],\n",
       "                                        'n_neighbors': [1, 2, 3, 4, 5, 6, 7, 8,\n",
       "                                                        9, 10, 11, 12, 13, 14,\n",
       "                                                        15, 16, 17, 18, 19, 20,\n",
       "                                                        21, 22, 23, 24, 25, 26,\n",
       "                                                        27, 28, 29, 30, ...],\n",
       "                                        'p': [1, 2],\n",
       "                                        'weights': ['uniform', 'distance']})"
      ]
     },
     "execution_count": 53,
     "metadata": {},
     "output_type": "execute_result"
    }
   ],
   "source": [
    "KNN.fit(X_train_smote,Y_train_smote)"
   ]
  },
  {
   "cell_type": "code",
   "execution_count": 54,
   "id": "fd5997e1",
   "metadata": {},
   "outputs": [
    {
     "data": {
      "text/plain": [
       "{'weights': 'distance',\n",
       " 'p': 1,\n",
       " 'n_neighbors': 9,\n",
       " 'leaf_size': 61,\n",
       " 'algorithm': 'auto'}"
      ]
     },
     "execution_count": 54,
     "metadata": {},
     "output_type": "execute_result"
    }
   ],
   "source": [
    "KNN.best_params_"
   ]
  },
  {
   "cell_type": "code",
   "execution_count": 55,
   "id": "e85864f5",
   "metadata": {},
   "outputs": [
    {
     "data": {
      "text/plain": [
       "KNeighborsClassifier(leaf_size=61, n_neighbors=9, p=1, weights='distance')"
      ]
     },
     "execution_count": 55,
     "metadata": {},
     "output_type": "execute_result"
    }
   ],
   "source": [
    "KNN.best_estimator_"
   ]
  },
  {
   "cell_type": "code",
   "execution_count": 56,
   "id": "904a2fe3",
   "metadata": {},
   "outputs": [
    {
     "name": "stdout",
     "output_type": "stream",
     "text": [
      "KNN Training Accuracy: 1.0\n",
      "KNN Testing Accuracy: 0.591937069813176\n"
     ]
    }
   ],
   "source": [
    "KNN_grid_ytrain_pred = KNN.predict(X_train)\n",
    "print(\"KNN Training Accuracy:\",accuracy_score(Y_train, KNN_grid_ytrain_pred))\n",
    "KNN_grid_y_pred = KNN.predict(X_test)\n",
    "print(\"KNN Testing Accuracy:\",accuracy_score(Y_test, KNN_grid_y_pred))"
   ]
  },
  {
   "cell_type": "code",
   "execution_count": 57,
   "id": "e80d0b87",
   "metadata": {},
   "outputs": [
    {
     "name": "stdout",
     "output_type": "stream",
     "text": [
      "After cross validation the accuracy in KNN Classifier is: 0.8430290550496846\n"
     ]
    }
   ],
   "source": [
    "from sklearn.model_selection import cross_val_score\n",
    "KNN_CVS_TRAIN = cross_val_score(estimator = KNN, X = X_train_smote, y = Y_train_smote, cv = 10)\n",
    "print(\"After cross validation the accuracy in KNN Classifier is:\",KNN_CVS_TRAIN.mean())"
   ]
  },
  {
   "cell_type": "code",
   "execution_count": 58,
   "id": "7002d2a7",
   "metadata": {},
   "outputs": [
    {
     "data": {
      "image/png": "[encoded data removed]",
      "text/plain": [
       "<Figure size 576x396 with 2 Axes>"
      ]
     },
     "metadata": {},
     "output_type": "display_data"
    }
   ],
   "source": [
    "KNN_CM = confusion_matrix(Y_test, KNN_grid_y_pred)\n",
    "ax= plt.subplot()\n",
    "sns.heatmap(KNN_CM, annot=True, fmt='g',cmap='rocket_r');#cmap='rocket_r' for color inverse of the scale\n",
    "ax.set_xlabel('Predicted labels');\n",
    "ax.set_ylabel('True labels'); \n",
    "ax.set_title('Confusion Matrix'); "
   ]
  },
  {
   "cell_type": "code",
   "execution_count": 59,
   "id": "d6183865",
   "metadata": {},
   "outputs": [
    {
     "name": "stdout",
     "output_type": "stream",
     "text": [
      "              precision    recall  f1-score   support\n",
      "\n",
      "           0       0.90      0.60      0.72       885\n",
      "           1       0.17      0.57      0.27       132\n",
      "\n",
      "    accuracy                           0.59      1017\n",
      "   macro avg       0.54      0.58      0.49      1017\n",
      "weighted avg       0.81      0.59      0.66      1017\n",
      "\n"
     ]
    }
   ],
   "source": [
    "print(classification_report(Y_test,KNN_grid_y_pred))"
   ]
  },
  {
   "cell_type": "code",
   "execution_count": 60,
   "id": "735809fd",
   "metadata": {},
   "outputs": [
    {
     "data": {
      "text/plain": [
       "array([0.        , 0.7362821 , 0.78924466, ..., 0.88160955, 0.        ,\n",
       "       0.7759932 ])"
      ]
     },
     "execution_count": 60,
     "metadata": {},
     "output_type": "execute_result"
    }
   ],
   "source": [
    "from sklearn import metrics\n",
    "KNN_Proba_score_positive_class= KNN.predict_proba(X_test)[:,1]\n",
    "KNN_Proba_score_positive_class "
   ]
  },
  {
   "cell_type": "code",
   "execution_count": 61,
   "id": "d198feb4",
   "metadata": {},
   "outputs": [
    {
     "name": "stdout",
     "output_type": "stream",
     "text": [
      "FPR [0.         0.01694915 0.01694915 0.02033898 0.02033898 0.02146893\n",
      " 0.02146893 0.02485876 0.02485876 0.03502825 0.03502825 0.03728814\n",
      " 0.03728814 0.03954802 0.03954802 0.04067797 0.04067797 0.04293785\n",
      " 0.04293785 0.04745763 0.04745763 0.04971751 0.04971751 0.05423729\n",
      " 0.05423729 0.05649718 0.05649718 0.06666667 0.06666667 0.07570621\n",
      " 0.07570621 0.07909605 0.07909605 0.08474576 0.08474576 0.08700565\n",
      " 0.08700565 0.10169492 0.10169492 0.1039548  0.1039548  0.11412429\n",
      " 0.11412429 0.11525424 0.11525424 0.11751412 0.11751412 0.11864407\n",
      " 0.11864407 0.12881356 0.12881356 0.13785311 0.13785311 0.15819209\n",
      " 0.15819209 0.15932203 0.15932203 0.16723164 0.16723164 0.17853107\n",
      " 0.17853107 0.1819209  0.1819209  0.18757062 0.18757062 0.21129944\n",
      " 0.21129944 0.22033898 0.22033898 0.22937853 0.22937853 0.23276836\n",
      " 0.23276836 0.24067797 0.24067797 0.25423729 0.25423729 0.25536723\n",
      " 0.25536723 0.25875706 0.25875706 0.26440678 0.26440678 0.26666667\n",
      " 0.26666667 0.2700565  0.2700565  0.27457627 0.27457627 0.2779661\n",
      " 0.2779661  0.27909605 0.27909605 0.28248588 0.28248588 0.30282486\n",
      " 0.30282486 0.30960452 0.30960452 0.31073446 0.31073446 0.31412429\n",
      " 0.31412429 0.32316384 0.32316384 0.34237288 0.34237288 0.34576271\n",
      " 0.34576271 0.35932203 0.35932203 0.36271186 0.36271186 0.36497175\n",
      " 0.36497175 0.39435028 0.39435028 0.4        0.4        0.41129944\n",
      " 0.41129944 0.41694915 0.41694915 0.44745763 0.44745763 0.45649718\n",
      " 0.45649718 0.46327684 0.46327684 0.46553672 0.46553672 0.48700565\n",
      " 0.48700565 0.49039548 0.49039548 0.49491525 0.49491525 0.49717514\n",
      " 0.49717514 0.49943503 0.49943503 0.50282486 0.50282486 0.50734463\n",
      " 0.50734463 0.51525424 0.51525424 0.53446328 0.53446328 0.53785311\n",
      " 0.53785311 0.54237288 0.54237288 0.55254237 0.55254237 0.56158192\n",
      " 0.56158192 0.56384181 0.56384181 0.56949153 0.56949153 0.59548023\n",
      " 0.59548023 0.6079096  0.6079096  0.63954802 0.63954802 0.66101695\n",
      " 0.66101695 0.66666667 0.66666667 0.68587571 0.68587571 0.71186441\n",
      " 0.71186441 0.72429379 0.72429379 0.7480226  0.7480226  0.75706215\n",
      " 0.75706215 0.76497175 0.76497175 0.76836158 0.76836158 0.76949153\n",
      " 0.76949153 0.77175141 0.77175141 0.78418079 0.78418079 0.79435028\n",
      " 1.        ]\n",
      "TPR [0.         0.08333333 0.09090909 0.09090909 0.09848485 0.09848485\n",
      " 0.10606061 0.10606061 0.11363636 0.11363636 0.12121212 0.12121212\n",
      " 0.12878788 0.12878788 0.13636364 0.13636364 0.14393939 0.14393939\n",
      " 0.15151515 0.15151515 0.15909091 0.15909091 0.16666667 0.16666667\n",
      " 0.17424242 0.17424242 0.18181818 0.18181818 0.18939394 0.18939394\n",
      " 0.1969697  0.1969697  0.20454545 0.20454545 0.21212121 0.21212121\n",
      " 0.21969697 0.21969697 0.23484848 0.23484848 0.24242424 0.24242424\n",
      " 0.25       0.25       0.25757576 0.25757576 0.26515152 0.26515152\n",
      " 0.27272727 0.27272727 0.28030303 0.28030303 0.28787879 0.28787879\n",
      " 0.3030303  0.3030303  0.31060606 0.31060606 0.31818182 0.31818182\n",
      " 0.32575758 0.32575758 0.33333333 0.33333333 0.34848485 0.34848485\n",
      " 0.35606061 0.35606061 0.36363636 0.36363636 0.37121212 0.37121212\n",
      " 0.37878788 0.37878788 0.38636364 0.38636364 0.39393939 0.39393939\n",
      " 0.40151515 0.40151515 0.40909091 0.40909091 0.41666667 0.41666667\n",
      " 0.42424242 0.42424242 0.43181818 0.43181818 0.43939394 0.43939394\n",
      " 0.4469697  0.4469697  0.45454545 0.45454545 0.46212121 0.46212121\n",
      " 0.46969697 0.46969697 0.47727273 0.47727273 0.48484848 0.48484848\n",
      " 0.50757576 0.50757576 0.51515152 0.51515152 0.52272727 0.52272727\n",
      " 0.53030303 0.53030303 0.53787879 0.53787879 0.54545455 0.54545455\n",
      " 0.5530303  0.5530303  0.56060606 0.56060606 0.56818182 0.56818182\n",
      " 0.57575758 0.57575758 0.58333333 0.58333333 0.59090909 0.59090909\n",
      " 0.59848485 0.59848485 0.61363636 0.61363636 0.62121212 0.62121212\n",
      " 0.63636364 0.63636364 0.64393939 0.64393939 0.65151515 0.65151515\n",
      " 0.65909091 0.65909091 0.66666667 0.66666667 0.67424242 0.67424242\n",
      " 0.68181818 0.68181818 0.6969697  0.6969697  0.70454545 0.70454545\n",
      " 0.71969697 0.71969697 0.72727273 0.72727273 0.73484848 0.73484848\n",
      " 0.74242424 0.74242424 0.75       0.75       0.75757576 0.75757576\n",
      " 0.76515152 0.76515152 0.77272727 0.77272727 0.78030303 0.78030303\n",
      " 0.78787879 0.78787879 0.79545455 0.79545455 0.8030303  0.8030303\n",
      " 0.81060606 0.81060606 0.81818182 0.81818182 0.82575758 0.82575758\n",
      " 0.83333333 0.83333333 0.84848485 0.84848485 0.85606061 0.85606061\n",
      " 0.86363636 0.86363636 0.87878788 0.87878788 0.88636364 0.88636364\n",
      " 1.        ]\n",
      "thresholds [2.         1.         0.92236746 0.91087096 0.91018103 0.90698295\n",
      " 0.90401833 0.90216811 0.90215071 0.8985561  0.89818592 0.89752879\n",
      " 0.8967222  0.89458517 0.89409165 0.89337518 0.89334779 0.89311218\n",
      " 0.89213996 0.89090196 0.89048127 0.88980291 0.8894805  0.88897895\n",
      " 0.88794151 0.88667926 0.88531224 0.87853686 0.87814393 0.86866537\n",
      " 0.86740265 0.85926041 0.85628738 0.82719183 0.82653714 0.81628369\n",
      " 0.81415864 0.79151756 0.78965871 0.78965003 0.78924466 0.78249738\n",
      " 0.78238475 0.78188062 0.78073829 0.780031   0.77975368 0.7792158\n",
      " 0.77887978 0.7759932  0.77500027 0.7715641  0.77146386 0.75965135\n",
      " 0.75813012 0.75781321 0.75748713 0.74948402 0.74905335 0.71331459\n",
      " 0.70986487 0.70272445 0.70045054 0.69241025 0.69048089 0.6735373\n",
      " 0.6733916  0.66710553 0.66643386 0.66194448 0.66143724 0.65936124\n",
      " 0.65918791 0.65433063 0.65357001 0.64902458 0.64822072 0.64765587\n",
      " 0.64708873 0.64621709 0.64615163 0.64274831 0.64115425 0.63996941\n",
      " 0.63902379 0.63495509 0.63131724 0.63031    0.63026489 0.62505536\n",
      " 0.62450776 0.62368873 0.62247946 0.61983452 0.61864426 0.57958202\n",
      " 0.57890653 0.56942574 0.56916968 0.56824742 0.56659182 0.56498858\n",
      " 0.56481186 0.55994463 0.5589248  0.55049685 0.54999827 0.54759436\n",
      " 0.5475682  0.54249904 0.54069066 0.53859621 0.53845949 0.53497552\n",
      " 0.53495965 0.52132225 0.5175237  0.51406478 0.51276499 0.49020579\n",
      " 0.49016063 0.47798623 0.47608614 0.44092055 0.44023845 0.43737263\n",
      " 0.43466397 0.43308231 0.43161966 0.43107273 0.43089831 0.42167372\n",
      " 0.42096336 0.41860834 0.41752137 0.41478821 0.41326657 0.41285754\n",
      " 0.41019668 0.40730619 0.40663764 0.40587068 0.40521632 0.39568489\n",
      " 0.3952141  0.37436364 0.36693303 0.33166497 0.33039462 0.3259176\n",
      " 0.32525454 0.32343728 0.32309491 0.32029155 0.32024515 0.31693868\n",
      " 0.3160193  0.31378887 0.31347549 0.31176198 0.31157546 0.3006095\n",
      " 0.29962608 0.29004718 0.2898538  0.22082433 0.21878489 0.20936281\n",
      " 0.20897801 0.20751801 0.20728587 0.20048024 0.19997297 0.18684576\n",
      " 0.18637829 0.11048094 0.10969511 0.10224375 0.10213082 0.10024641\n",
      " 0.10024285 0.09889846 0.09862348 0.09734217 0.09673974 0.09640647\n",
      " 0.09631967 0.09588381 0.09560923 0.09358372 0.09355574 0.08437245\n",
      " 0.        ]\n"
     ]
    }
   ],
   "source": [
    "fpr2, tpr2, thresholds2 = metrics.roc_curve(Y_test, KNN_Proba_score_positive_class, pos_label=1)\n",
    "print(\"FPR\",fpr2)\n",
    "print(\"TPR\",tpr2)\n",
    "print(\"thresholds\",thresholds2)"
   ]
  },
  {
   "cell_type": "code",
   "execution_count": 62,
   "id": "3fc02797",
   "metadata": {},
   "outputs": [
    {
     "name": "stdout",
     "output_type": "stream",
     "text": [
      "AUC SCORE: 0.6201549392227359\n"
     ]
    }
   ],
   "source": [
    "from sklearn.metrics import roc_auc_score\n",
    "KNN_auc_score = roc_auc_score(Y_test, KNN_Proba_score_positive_class)\n",
    "print(\"AUC SCORE:\",KNN_auc_score)"
   ]
  },
  {
   "cell_type": "code",
   "execution_count": 63,
   "id": "8c7e4f17",
   "metadata": {},
   "outputs": [
    {
     "data": {
      "image/png": "[encoded data removed]",
      "text/plain": [
       "<Figure size 576x396 with 1 Axes>"
      ]
     },
     "metadata": {},
     "output_type": "display_data"
    }
   ],
   "source": [
    "plt.style.use('seaborn')\n",
    "plt.plot(fpr2, tpr2, linestyle='--',color='red', label='KNeighbours Classifier')\n",
    "plt.plot([0, 1], [0, 1], linestyle='--', label='No Skill')\n",
    "plt.title('ROC curve')\n",
    "plt.xlabel('False Positive Rate')\n",
    "plt.ylabel('True Positive rate')\n",
    "plt.legend(loc='best')\n",
    "plt.savefig('ROC', dpi=300)\n",
    "plt.show()"
   ]
  },
  {
   "cell_type": "markdown",
   "id": "d4eb5d84",
   "metadata": {},
   "source": [
    "# SUPPORT VECTOR MACHINE"
   ]
  },
  {
   "cell_type": "code",
   "execution_count": 64,
   "id": "a624bfe0",
   "metadata": {},
   "outputs": [],
   "source": [
    "from sklearn.svm import SVC\n",
    "SVM_param_rand = {'C': [0.1, 1, 10, 100, 1000], \n",
    "                  'gamma': [0.1,0.01,0.001,0.0001], \n",
    "                  'kernel': ['rbf']} \n",
    "\n",
    "SVM = GridSearchCV(SVC(),\n",
    "                        SVM_param_rand)"
   ]
  },
  {
   "cell_type": "code",
   "execution_count": 65,
   "id": "e22ce5fa",
   "metadata": {},
   "outputs": [
    {
     "data": {
      "text/plain": [
       "GridSearchCV(estimator=SVC(),\n",
       "             param_grid={'C': [0.1, 1, 10, 100, 1000],\n",
       "                         'gamma': [0.1, 0.01, 0.001, 0.0001],\n",
       "                         'kernel': ['rbf']})"
      ]
     },
     "execution_count": 65,
     "metadata": {},
     "output_type": "execute_result"
    }
   ],
   "source": [
    "SVM.fit(X_train_smote,Y_train_smote)"
   ]
  },
  {
   "cell_type": "code",
   "execution_count": 66,
   "id": "fbb0fb0a",
   "metadata": {},
   "outputs": [
    {
     "data": {
      "text/plain": [
       "{'C': 1000, 'gamma': 0.1, 'kernel': 'rbf'}"
      ]
     },
     "execution_count": 66,
     "metadata": {},
     "output_type": "execute_result"
    }
   ],
   "source": [
    "SVM.best_params_"
   ]
  },
  {
   "cell_type": "code",
   "execution_count": 67,
   "id": "961d979d",
   "metadata": {},
   "outputs": [
    {
     "data": {
      "text/plain": [
       "SVC(C=1000, gamma=0.1)"
      ]
     },
     "execution_count": 67,
     "metadata": {},
     "output_type": "execute_result"
    }
   ],
   "source": [
    "SVM.best_estimator_"
   ]
  },
  {
   "cell_type": "code",
   "execution_count": 68,
   "id": "844d4c30",
   "metadata": {},
   "outputs": [
    {
     "name": "stdout",
     "output_type": "stream",
     "text": [
      "SVM Training Accuracy: 0.9873577749683944\n",
      "SVM Testing Accuracy: 0.7551622418879056\n"
     ]
    }
   ],
   "source": [
    "SVM_grid_ytrain_pred = SVM.predict(X_train)\n",
    "print(\"SVM Training Accuracy:\",accuracy_score(Y_train, SVM_grid_ytrain_pred))\n",
    "SVM_grid_y_pred = SVM.predict(X_test)\n",
    "print(\"SVM Testing Accuracy:\",accuracy_score(Y_test, SVM_grid_y_pred))"
   ]
  },
  {
   "cell_type": "code",
   "execution_count": 69,
   "id": "8692254f",
   "metadata": {},
   "outputs": [
    {
     "name": "stdout",
     "output_type": "stream",
     "text": [
      "After cross validation the accuracy in SVM Classifier is: 0.8889201647334417\n"
     ]
    }
   ],
   "source": [
    "from sklearn.model_selection import cross_val_score\n",
    "SVM_CVS_TRAIN = cross_val_score(estimator = SVM, X = X_train_smote, y = Y_train_smote, cv = 10)\n",
    "print(\"After cross validation the accuracy in SVM Classifier is:\",SVM_CVS_TRAIN.mean())"
   ]
  },
  {
   "cell_type": "code",
   "execution_count": 70,
   "id": "2f00f6e9",
   "metadata": {},
   "outputs": [
    {
     "data": {
      "image/png": "[encoded data removed]",
      "text/plain": [
       "<Figure size 576x396 with 2 Axes>"
      ]
     },
     "metadata": {},
     "output_type": "display_data"
    }
   ],
   "source": [
    "SVM_CM = confusion_matrix(Y_test, SVM_grid_y_pred)\n",
    "ax= plt.subplot()\n",
    "sns.heatmap(SVM_CM, annot=True, fmt='g',cmap='rocket_r');#cmap='rocket_r' for color inverse of the scale\n",
    "ax.set_xlabel('Predicted labels');\n",
    "ax.set_ylabel('True labels'); \n",
    "ax.set_title('Confusion Matrix'); "
   ]
  },
  {
   "cell_type": "code",
   "execution_count": 71,
   "id": "839b66e6",
   "metadata": {},
   "outputs": [
    {
     "name": "stdout",
     "output_type": "stream",
     "text": [
      "              precision    recall  f1-score   support\n",
      "\n",
      "           0       0.88      0.83      0.85       885\n",
      "           1       0.19      0.28      0.23       132\n",
      "\n",
      "    accuracy                           0.76      1017\n",
      "   macro avg       0.54      0.55      0.54      1017\n",
      "weighted avg       0.80      0.76      0.77      1017\n",
      "\n"
     ]
    }
   ],
   "source": [
    "print(classification_report(Y_test,SVM_grid_y_pred))"
   ]
  },
  {
   "cell_type": "markdown",
   "id": "385976ca",
   "metadata": {},
   "source": [
    "# DECISION TREE CLASSIFIER"
   ]
  },
  {
   "cell_type": "code",
   "execution_count": 72,
   "id": "751d18f1",
   "metadata": {},
   "outputs": [],
   "source": [
    "from sklearn.tree import DecisionTreeClassifier\n",
    "DTC_param_grid = {\"criterion\":[\"gini\",\"entropy\"],\n",
    "                  \"max_depth\": range(1,10),\n",
    "                  \"min_samples_split\":range(1,10),\n",
    "                  'min_samples_leaf':range(1,20)}\n",
    "\n",
    "DTC = GridSearchCV(DecisionTreeClassifier(),\n",
    "                   DTC_param_grid)"
   ]
  },
  {
   "cell_type": "code",
   "execution_count": 73,
   "id": "b5c38797",
   "metadata": {},
   "outputs": [
    {
     "data": {
      "text/plain": [
       "GridSearchCV(estimator=DecisionTreeClassifier(),\n",
       "             param_grid={'criterion': ['gini', 'entropy'],\n",
       "                         'max_depth': range(1, 10),\n",
       "                         'min_samples_leaf': range(1, 20),\n",
       "                         'min_samples_split': range(1, 10)})"
      ]
     },
     "execution_count": 73,
     "metadata": {},
     "output_type": "execute_result"
    }
   ],
   "source": [
    "DTC.fit(X_train_smote,Y_train_smote)"
   ]
  },
  {
   "cell_type": "code",
   "execution_count": 74,
   "id": "c025576e",
   "metadata": {},
   "outputs": [
    {
     "data": {
      "text/plain": [
       "{'criterion': 'gini',\n",
       " 'max_depth': 9,\n",
       " 'min_samples_leaf': 1,\n",
       " 'min_samples_split': 5}"
      ]
     },
     "execution_count": 74,
     "metadata": {},
     "output_type": "execute_result"
    }
   ],
   "source": [
    "DTC.best_params_"
   ]
  },
  {
   "cell_type": "code",
   "execution_count": 75,
   "id": "663147f1",
   "metadata": {},
   "outputs": [
    {
     "data": {
      "text/plain": [
       "DecisionTreeClassifier(max_depth=9, min_samples_split=5)"
      ]
     },
     "execution_count": 75,
     "metadata": {},
     "output_type": "execute_result"
    }
   ],
   "source": [
    "DTC.best_estimator_"
   ]
  },
  {
   "cell_type": "code",
   "execution_count": 76,
   "id": "fc2501e2",
   "metadata": {},
   "outputs": [
    {
     "name": "stdout",
     "output_type": "stream",
     "text": [
      "Decision Tree Training Accuracy: 0.8103666245259166\n",
      "Decision Tree Testing Accuracy: 0.6637168141592921\n"
     ]
    }
   ],
   "source": [
    "DTC_grid_ytrain_pred = DTC.predict(X_train)\n",
    "print(\"Decision Tree Training Accuracy:\",accuracy_score(Y_train, DTC_grid_ytrain_pred))\n",
    "DTC_grid_y_pred = DTC.predict(X_test)\n",
    "print(\"Decision Tree Testing Accuracy:\",accuracy_score(Y_test, DTC_grid_y_pred))"
   ]
  },
  {
   "cell_type": "code",
   "execution_count": 77,
   "id": "f5cbe4b1",
   "metadata": {},
   "outputs": [
    {
     "name": "stdout",
     "output_type": "stream",
     "text": [
      "After cross validation the accuracy in DT Classifier is: 0.7402224153348195\n"
     ]
    }
   ],
   "source": [
    "from sklearn.model_selection import cross_val_score\n",
    "DTC_CVS_TRAIN = cross_val_score(estimator = DTC, X = X_train_smote, y = Y_train_smote, cv = 10)\n",
    "print(\"After cross validation the accuracy in DT Classifier is:\",DTC_CVS_TRAIN.mean())"
   ]
  },
  {
   "cell_type": "code",
   "execution_count": 78,
   "id": "fbddd2e8",
   "metadata": {},
   "outputs": [
    {
     "data": {
      "image/png": "[encoded data removed]",
      "text/plain": [
       "<Figure size 576x396 with 2 Axes>"
      ]
     },
     "metadata": {},
     "output_type": "display_data"
    }
   ],
   "source": [
    "DTC_CM = confusion_matrix(Y_test, DTC_grid_y_pred)\n",
    "ax= plt.subplot()\n",
    "sns.heatmap(DTC_CM, annot=True, fmt='g',cmap='rocket_r');#cmap='rocket_r' for color inverse of the scale\n",
    "ax.set_xlabel('Predicted labels');\n",
    "ax.set_ylabel('True labels'); \n",
    "ax.set_title('Confusion Matrix'); "
   ]
  },
  {
   "cell_type": "code",
   "execution_count": 79,
   "id": "ade7b72b",
   "metadata": {},
   "outputs": [
    {
     "name": "stdout",
     "output_type": "stream",
     "text": [
      "              precision    recall  f1-score   support\n",
      "\n",
      "           0       0.90      0.69      0.78       885\n",
      "           1       0.18      0.45      0.26       132\n",
      "\n",
      "    accuracy                           0.66      1017\n",
      "   macro avg       0.54      0.57      0.52      1017\n",
      "weighted avg       0.80      0.66      0.71      1017\n",
      "\n"
     ]
    }
   ],
   "source": [
    "print(classification_report(Y_test,DTC_grid_y_pred))"
   ]
  },
  {
   "cell_type": "code",
   "execution_count": 80,
   "id": "dbc2c2e6",
   "metadata": {},
   "outputs": [
    {
     "data": {
      "text/plain": [
       "array([0.        , 1.        , 0.33333333, ..., 0.16666667, 0.21782178,\n",
       "       0.87335092])"
      ]
     },
     "execution_count": 80,
     "metadata": {},
     "output_type": "execute_result"
    }
   ],
   "source": [
    "from sklearn import metrics\n",
    "DTC_Proba_score_positive_class= DTC.predict_proba(X_test)[:,1]\n",
    "DTC_Proba_score_positive_class "
   ]
  },
  {
   "cell_type": "code",
   "execution_count": 81,
   "id": "60c36de2",
   "metadata": {},
   "outputs": [
    {
     "name": "stdout",
     "output_type": "stream",
     "text": [
      "FPR [0.         0.04971751 0.05423729 0.06214689 0.06327684 0.09378531\n",
      " 0.09717514 0.09943503 0.10734463 0.11864407 0.13220339 0.13785311\n",
      " 0.15932203 0.17175141 0.17288136 0.2079096  0.21016949 0.21355932\n",
      " 0.21581921 0.22711864 0.23841808 0.28474576 0.29378531 0.30508475\n",
      " 0.31751412 0.3220339  0.32542373 0.37514124 0.39096045 0.39887006\n",
      " 0.41694915 0.44180791 0.45988701 0.46666667 0.47118644 0.4779661\n",
      " 0.52881356 0.56384181 0.56497175 0.56949153 0.5740113  0.58870056\n",
      " 0.58983051 0.59661017 0.60903955 0.61694915 0.63615819 0.64632768\n",
      " 0.64971751 0.66327684 0.68813559 1.        ]\n",
      "TPR [0.         0.04545455 0.06060606 0.06060606 0.06060606 0.13636364\n",
      " 0.15151515 0.15909091 0.15909091 0.20454545 0.21969697 0.22727273\n",
      " 0.23484848 0.27272727 0.28030303 0.34848485 0.34848485 0.34848485\n",
      " 0.35606061 0.36363636 0.39393939 0.43181818 0.45454545 0.45454545\n",
      " 0.47727273 0.47727273 0.48484848 0.50757576 0.56060606 0.56060606\n",
      " 0.57575758 0.59090909 0.62121212 0.65151515 0.65151515 0.65151515\n",
      " 0.67424242 0.71212121 0.71212121 0.71212121 0.71969697 0.71969697\n",
      " 0.71969697 0.72727273 0.73484848 0.73484848 0.74242424 0.75757576\n",
      " 0.75757576 0.78030303 0.78787879 1.        ]\n",
      "thresholds [2.         1.         0.97959184 0.94444444 0.9375     0.87335092\n",
      " 0.85714286 0.83333333 0.82758621 0.8041958  0.78378378 0.775\n",
      " 0.76056338 0.75490196 0.75       0.72586873 0.71428571 0.6875\n",
      " 0.66666667 0.64516129 0.64150943 0.61988304 0.61111111 0.54761905\n",
      " 0.5        0.47368421 0.45454545 0.43604651 0.4084507  0.4\n",
      " 0.38095238 0.33333333 0.30379747 0.26315789 0.26086957 0.25\n",
      " 0.21782178 0.20289855 0.2        0.16666667 0.15384615 0.14705882\n",
      " 0.14285714 0.125      0.12121212 0.12       0.10810811 0.1\n",
      " 0.08333333 0.01886792 0.01587302 0.        ]\n"
     ]
    }
   ],
   "source": [
    "fpr3, tpr3, thresholds3 = metrics.roc_curve(Y_test, DTC_Proba_score_positive_class, pos_label=1)\n",
    "print(\"FPR\",fpr3)\n",
    "print(\"TPR\",tpr3)\n",
    "print(\"thresholds\",thresholds3)"
   ]
  },
  {
   "cell_type": "code",
   "execution_count": 82,
   "id": "29da5820",
   "metadata": {},
   "outputs": [
    {
     "name": "stdout",
     "output_type": "stream",
     "text": [
      "AUC SCORE: 0.5960965588084232\n"
     ]
    }
   ],
   "source": [
    "from sklearn.metrics import roc_auc_score\n",
    "DTC_auc_score = roc_auc_score(Y_test, DTC_Proba_score_positive_class)\n",
    "print(\"AUC SCORE:\",DTC_auc_score)"
   ]
  },
  {
   "cell_type": "code",
   "execution_count": 83,
   "id": "8960325b",
   "metadata": {},
   "outputs": [
    {
     "data": {
      "image/png": "[encoded data removed]",
      "text/plain": [
       "<Figure size 576x396 with 1 Axes>"
      ]
     },
     "metadata": {},
     "output_type": "display_data"
    }
   ],
   "source": [
    "plt.style.use('seaborn')\n",
    "plt.plot(fpr3, tpr3, linestyle='--',color='red', label='Decision Tree Classifier')\n",
    "plt.plot([0, 1], [0, 1], linestyle='--', label='No Skill')\n",
    "plt.title('ROC curve')\n",
    "plt.xlabel('False Positive Rate')\n",
    "plt.ylabel('True Positive rate')\n",
    "plt.legend(loc='best')\n",
    "plt.savefig('ROC', dpi=300)\n",
    "plt.show()"
   ]
  },
  {
   "cell_type": "markdown",
   "id": "ef12382e",
   "metadata": {},
   "source": [
    "# RANDOM FOREST CLASSIFIER"
   ]
  },
  {
   "cell_type": "code",
   "execution_count": 84,
   "id": "439b396c",
   "metadata": {},
   "outputs": [],
   "source": [
    "from sklearn.ensemble import RandomForestClassifier    \n",
    "RFC_param_grid = {'n_estimators': [10,80,200,800,2000,5000], \n",
    "                  'max_features': ['sqrt', 'log2'],\n",
    "                  'max_depth': [10,20,30,40,50,100],\n",
    "                  'min_samples_split': [2,5,10,20],\n",
    "                  'min_samples_leaf': [1,2,7,15]} \n",
    "\n",
    "RFC = RandomizedSearchCV(RandomForestClassifier(),\n",
    "                        RFC_param_grid,\n",
    "                        n_iter=40,\n",
    "                        n_jobs= -1)"
   ]
  },
  {
   "cell_type": "code",
   "execution_count": 85,
   "id": "1aaaeb10",
   "metadata": {},
   "outputs": [
    {
     "data": {
      "text/plain": [
       "RandomizedSearchCV(estimator=RandomForestClassifier(), n_iter=40, n_jobs=-1,\n",
       "                   param_distributions={'max_depth': [10, 20, 30, 40, 50, 100],\n",
       "                                        'max_features': ['sqrt', 'log2'],\n",
       "                                        'min_samples_leaf': [1, 2, 7, 15],\n",
       "                                        'min_samples_split': [2, 5, 10, 20],\n",
       "                                        'n_estimators': [10, 80, 200, 800, 2000,\n",
       "                                                         5000]})"
      ]
     },
     "execution_count": 85,
     "metadata": {},
     "output_type": "execute_result"
    }
   ],
   "source": [
    "RFC.fit(X_train_smote,Y_train_smote)"
   ]
  },
  {
   "cell_type": "code",
   "execution_count": 86,
   "id": "5f54a724",
   "metadata": {},
   "outputs": [
    {
     "data": {
      "text/plain": [
       "{'n_estimators': 2000,\n",
       " 'min_samples_split': 2,\n",
       " 'min_samples_leaf': 1,\n",
       " 'max_features': 'sqrt',\n",
       " 'max_depth': 50}"
      ]
     },
     "execution_count": 86,
     "metadata": {},
     "output_type": "execute_result"
    }
   ],
   "source": [
    "RFC.best_params_"
   ]
  },
  {
   "cell_type": "code",
   "execution_count": 87,
   "id": "a796da10",
   "metadata": {},
   "outputs": [
    {
     "data": {
      "text/plain": [
       "DecisionTreeClassifier(max_depth=9, min_samples_split=5)"
      ]
     },
     "execution_count": 87,
     "metadata": {},
     "output_type": "execute_result"
    }
   ],
   "source": [
    "DTC.best_estimator_"
   ]
  },
  {
   "cell_type": "code",
   "execution_count": 88,
   "id": "63cff3d2",
   "metadata": {},
   "outputs": [
    {
     "name": "stdout",
     "output_type": "stream",
     "text": [
      "Random Forest Training Accuracy: 1.0\n",
      "Random Forest Testing Accuracy: 0.7944936086529006\n"
     ]
    }
   ],
   "source": [
    "RFC_grid_ytrain_pred = RFC.predict(X_train)\n",
    "print(\"Random Forest Training Accuracy:\",accuracy_score(Y_train, RFC_grid_ytrain_pred))\n",
    "RFC_grid_y_pred = RFC.predict(X_test)\n",
    "print(\"Random Forest Testing Accuracy:\",accuracy_score(Y_test, RFC_grid_y_pred))"
   ]
  },
  {
   "cell_type": "code",
   "execution_count": 89,
   "id": "15fb2c78",
   "metadata": {},
   "outputs": [
    {
     "name": "stdout",
     "output_type": "stream",
     "text": [
      "After cross validation the accuracy in RF Classifier is: 0.9002071762320373\n"
     ]
    }
   ],
   "source": [
    "from sklearn.model_selection import cross_val_score\n",
    "RFC_CVS_TRAIN = cross_val_score(estimator = RFC, X = X_train_smote, y = Y_train_smote, cv = 10)\n",
    "print(\"After cross validation the accuracy in RF Classifier is:\",RFC_CVS_TRAIN.mean())"
   ]
  },
  {
   "cell_type": "code",
   "execution_count": 90,
   "id": "4328e6a7",
   "metadata": {},
   "outputs": [
    {
     "data": {
      "image/png": "[encoded data removed]",
      "text/plain": [
       "<Figure size 576x396 with 2 Axes>"
      ]
     },
     "metadata": {},
     "output_type": "display_data"
    }
   ],
   "source": [
    "RFC_CM = confusion_matrix(Y_test, RFC_grid_y_pred)\n",
    "ax= plt.subplot()\n",
    "sns.heatmap(RFC_CM, annot=True, fmt='g',cmap='rocket_r');#cmap='rocket_r' for color inverse of the scale\n",
    "ax.set_xlabel('Predicted labels');\n",
    "ax.set_ylabel('True labels'); \n",
    "ax.set_title('Confusion Matrix'); "
   ]
  },
  {
   "cell_type": "code",
   "execution_count": 91,
   "id": "26091a6e",
   "metadata": {},
   "outputs": [
    {
     "name": "stdout",
     "output_type": "stream",
     "text": [
      "              precision    recall  f1-score   support\n",
      "\n",
      "           0       0.90      0.86      0.88       885\n",
      "           1       0.26      0.33      0.29       132\n",
      "\n",
      "    accuracy                           0.79      1017\n",
      "   macro avg       0.58      0.60      0.59      1017\n",
      "weighted avg       0.81      0.79      0.80      1017\n",
      "\n"
     ]
    }
   ],
   "source": [
    "print(classification_report(Y_test,RFC_grid_y_pred))"
   ]
  },
  {
   "cell_type": "code",
   "execution_count": 92,
   "id": "c23dae8b",
   "metadata": {},
   "outputs": [
    {
     "data": {
      "text/plain": [
       "array([0.152 , 0.3095, 0.506 , ..., 0.3255, 0.2   , 0.6135])"
      ]
     },
     "execution_count": 92,
     "metadata": {},
     "output_type": "execute_result"
    }
   ],
   "source": [
    "from sklearn import metrics\n",
    "RFC_Proba_score_positive_class= RFC.predict_proba(X_test)[:,1]\n",
    "RFC_Proba_score_positive_class "
   ]
  },
  {
   "cell_type": "code",
   "execution_count": 93,
   "id": "76245a48",
   "metadata": {},
   "outputs": [
    {
     "name": "stdout",
     "output_type": "stream",
     "text": [
      "FPR [0.         0.         0.00112994 0.00112994 0.00225989 0.00338983\n",
      " 0.00564972 0.00564972 0.00677966 0.00677966 0.0079096  0.00903955\n",
      " 0.00903955 0.01016949 0.01242938 0.01694915 0.01694915 0.0180791\n",
      " 0.0180791  0.01920904 0.01920904 0.02033898 0.02033898 0.02711864\n",
      " 0.02711864 0.02937853 0.03163842 0.03502825 0.03502825 0.03615819\n",
      " 0.03615819 0.03728814 0.03841808 0.03954802 0.04293785 0.04519774\n",
      " 0.04519774 0.05310734 0.05536723 0.05536723 0.05762712 0.06214689\n",
      " 0.06666667 0.06666667 0.07231638 0.07231638 0.07344633 0.07457627\n",
      " 0.07570621 0.07570621 0.0779661  0.08248588 0.08248588 0.08361582\n",
      " 0.08361582 0.08587571 0.08700565 0.08813559 0.09039548 0.09152542\n",
      " 0.09265537 0.0960452  0.09717514 0.09717514 0.09943503 0.09943503\n",
      " 0.10056497 0.10282486 0.10508475 0.10508475 0.10960452 0.12090395\n",
      " 0.12316384 0.12429379 0.12655367 0.13220339 0.13220339 0.13220339\n",
      " 0.13220339 0.13333333 0.13333333 0.13559322 0.13785311 0.14011299\n",
      " 0.14124294 0.1480226  0.15028249 0.15141243 0.15141243 0.1559322\n",
      " 0.15819209 0.15932203 0.16045198 0.16158192 0.16384181 0.16497175\n",
      " 0.16723164 0.16836158 0.17062147 0.17627119 0.17853107 0.18079096\n",
      " 0.18305085 0.18418079 0.18531073 0.19096045 0.19322034 0.19322034\n",
      " 0.19774011 0.19887006 0.19887006 0.20112994 0.20338983 0.20451977\n",
      " 0.20677966 0.21129944 0.21468927 0.21468927 0.21920904 0.22033898\n",
      " 0.22146893 0.22372881 0.2259887  0.23050847 0.23163842 0.23389831\n",
      " 0.23954802 0.23954802 0.24180791 0.2440678  0.2440678  0.24745763\n",
      " 0.24745763 0.24858757 0.24858757 0.24971751 0.24971751 0.26101695\n",
      " 0.26327684 0.26327684 0.26553672 0.26553672 0.26666667 0.26666667\n",
      " 0.26892655 0.2700565  0.27118644 0.27570621 0.27683616 0.27909605\n",
      " 0.28361582 0.29039548 0.29039548 0.29152542 0.29378531 0.2960452\n",
      " 0.29830508 0.30056497 0.30169492 0.30282486 0.30508475 0.30847458\n",
      " 0.30960452 0.31186441 0.31186441 0.31412429 0.31751412 0.31751412\n",
      " 0.31864407 0.32090395 0.3220339  0.32316384 0.32542373 0.32542373\n",
      " 0.32768362 0.32881356 0.33107345 0.33333333 0.33785311 0.33898305\n",
      " 0.33898305 0.34237288 0.34576271 0.35028249 0.35254237 0.35480226\n",
      " 0.35480226 0.35706215 0.36045198 0.36158192 0.36158192 0.36384181\n",
      " 0.36497175 0.36723164 0.36836158 0.37062147 0.37853107 0.38079096\n",
      " 0.38418079 0.38644068 0.38757062 0.38757062 0.38983051 0.3920904\n",
      " 0.39435028 0.39661017 0.39887006 0.40112994 0.40225989 0.40338983\n",
      " 0.40677966 0.41468927 0.41468927 0.41694915 0.42033898 0.42485876\n",
      " 0.4259887  0.42824859 0.43163842 0.43163842 0.43389831 0.43389831\n",
      " 0.43502825 0.43728814 0.43954802 0.43954802 0.44180791 0.44293785\n",
      " 0.44632768 0.44858757 0.44971751 0.45310734 0.45536723 0.45649718\n",
      " 0.45988701 0.46214689 0.46553672 0.46892655 0.48022599 0.48248588\n",
      " 0.48700565 0.49039548 0.49039548 0.49152542 0.49152542 0.49265537\n",
      " 0.49717514 0.49830508 0.49943503 0.5039548  0.5039548  0.50734463\n",
      " 0.50960452 0.51186441 0.51412429 0.51525424 0.51638418 0.51864407\n",
      " 0.5220339  0.52316384 0.52429379 0.52542373 0.52881356 0.53107345\n",
      " 0.53446328 0.53672316 0.54237288 0.54576271 0.54576271 0.54915254\n",
      " 0.55141243 0.55254237 0.55706215 0.55819209 0.55932203 0.56158192\n",
      " 0.56384181 0.56723164 0.56949153 0.57175141 0.57288136 0.57514124\n",
      " 0.57627119 0.57966102 0.5819209  0.58418079 0.58644068 0.58870056\n",
      " 0.58983051 0.59322034 0.59435028 0.59887006 0.60225989 0.60451977\n",
      " 0.60677966 0.60903955 0.61242938 0.61468927 0.61920904 0.62146893\n",
      " 0.62259887 0.62485876 0.62711864 0.62824859 0.63163842 0.63163842\n",
      " 0.63276836 0.63502825 0.63615819 0.63954802 0.6440678  0.64519774\n",
      " 0.6519774  0.65536723 0.65649718 0.66327684 0.66440678 0.66666667\n",
      " 0.66779661 0.6700565  0.67118644 0.67344633 0.68022599 0.68248588\n",
      " 0.68361582 0.68587571 0.69039548 0.69152542 0.69378531 0.6960452\n",
      " 0.69943503 0.69943503 0.70056497 0.70282486 0.70734463 0.70960452\n",
      " 0.71186441 0.71412429 0.71638418 0.7220339  0.72429379 0.72655367\n",
      " 0.72768362 0.7299435  0.73220339 0.73672316 0.73785311 0.74011299\n",
      " 0.74011299 0.74237288 0.75141243 0.75367232 0.7559322  0.75932203\n",
      " 0.76271186 0.76610169 0.76836158 0.77062147 0.77288136 0.77627119\n",
      " 0.77853107 0.78079096 0.78531073 0.78644068 0.78757062 0.78983051\n",
      " 0.79435028 0.79661017 0.79887006 0.80112994 0.80338983 0.8079096\n",
      " 0.81016949 0.81242938 0.81581921 0.81920904 0.82146893 0.82259887\n",
      " 0.82711864 0.83050847 0.83050847 0.83163842 0.83389831 0.83728814\n",
      " 0.83954802 0.84067797 0.8440678  0.84519774 0.84858757 0.85310734\n",
      " 0.85649718 0.85875706 0.86214689 0.86327684 0.86327684 0.86666667\n",
      " 0.86892655 0.87457627 0.87909605 0.88022599 0.88700565 0.89039548\n",
      " 0.89378531 0.8960452  0.89830508 0.90056497 0.90282486 0.90734463\n",
      " 0.90960452 0.91073446 0.91299435 0.91412429 0.91864407 0.91977401\n",
      " 0.9220339  0.92316384 0.92542373 0.92655367 0.92881356 0.93107345\n",
      " 0.93333333 0.93672316 0.94350282 0.94576271 0.9480226  0.9480226\n",
      " 0.95141243 0.9559322  0.96497175 0.96610169 0.96723164 0.96723164\n",
      " 0.97288136 0.97514124 0.97627119 0.97853107 0.9819209  0.98531073\n",
      " 0.98644068 0.98870056 0.9920904  1.        ]\n",
      "TPR [0.         0.00757576 0.00757576 0.02272727 0.02272727 0.03030303\n",
      " 0.03030303 0.03787879 0.03787879 0.06818182 0.07575758 0.07575758\n",
      " 0.08333333 0.08333333 0.08333333 0.08333333 0.09090909 0.09090909\n",
      " 0.09848485 0.09848485 0.10606061 0.10606061 0.11363636 0.11363636\n",
      " 0.12121212 0.12121212 0.12121212 0.12121212 0.12878788 0.12878788\n",
      " 0.14393939 0.14393939 0.15151515 0.15151515 0.15151515 0.15151515\n",
      " 0.15909091 0.15909091 0.15909091 0.17424242 0.17424242 0.17424242\n",
      " 0.17424242 0.18181818 0.18181818 0.18939394 0.18939394 0.1969697\n",
      " 0.1969697  0.20454545 0.20454545 0.20454545 0.21969697 0.21969697\n",
      " 0.23484848 0.23484848 0.24242424 0.24242424 0.24242424 0.24242424\n",
      " 0.25       0.25       0.25       0.26515152 0.26515152 0.27272727\n",
      " 0.27272727 0.27272727 0.27272727 0.28030303 0.28030303 0.28030303\n",
      " 0.28030303 0.28030303 0.28030303 0.28030303 0.28787879 0.3030303\n",
      " 0.31060606 0.31060606 0.31818182 0.32575758 0.32575758 0.32575758\n",
      " 0.33333333 0.33333333 0.33333333 0.33333333 0.34090909 0.34090909\n",
      " 0.34090909 0.34090909 0.34848485 0.34848485 0.34848485 0.34848485\n",
      " 0.34848485 0.34848485 0.34848485 0.34848485 0.35606061 0.35606061\n",
      " 0.36363636 0.36363636 0.37121212 0.37121212 0.37878788 0.38636364\n",
      " 0.38636364 0.38636364 0.39393939 0.39393939 0.39393939 0.39393939\n",
      " 0.39393939 0.39393939 0.39393939 0.40151515 0.40151515 0.40909091\n",
      " 0.40909091 0.40909091 0.40909091 0.42424242 0.42424242 0.43181818\n",
      " 0.43181818 0.4469697  0.4469697  0.4469697  0.45454545 0.45454545\n",
      " 0.46212121 0.46212121 0.46969697 0.46969697 0.47727273 0.47727273\n",
      " 0.47727273 0.49242424 0.49242424 0.5        0.5        0.51515152\n",
      " 0.51515152 0.52272727 0.52272727 0.52272727 0.52272727 0.52272727\n",
      " 0.52272727 0.52272727 0.53030303 0.53030303 0.53030303 0.53030303\n",
      " 0.53030303 0.53030303 0.53787879 0.53787879 0.53787879 0.53787879\n",
      " 0.53787879 0.53787879 0.54545455 0.54545455 0.5530303  0.56060606\n",
      " 0.56060606 0.56060606 0.56818182 0.56818182 0.56818182 0.57575758\n",
      " 0.57575758 0.59090909 0.59090909 0.59090909 0.59090909 0.59848485\n",
      " 0.60606061 0.60606061 0.60606061 0.60606061 0.60606061 0.60606061\n",
      " 0.61363636 0.61363636 0.62121212 0.62121212 0.63636364 0.63636364\n",
      " 0.63636364 0.63636364 0.63636364 0.63636364 0.63636364 0.63636364\n",
      " 0.63636364 0.63636364 0.63636364 0.64393939 0.64393939 0.64393939\n",
      " 0.64393939 0.64393939 0.64393939 0.64393939 0.65151515 0.65151515\n",
      " 0.65151515 0.65151515 0.65909091 0.65909091 0.65909091 0.65909091\n",
      " 0.65909091 0.65909091 0.65909091 0.67424242 0.67424242 0.68181818\n",
      " 0.68181818 0.68181818 0.68181818 0.68939394 0.68939394 0.6969697\n",
      " 0.6969697  0.6969697  0.6969697  0.6969697  0.6969697  0.70454545\n",
      " 0.70454545 0.71212121 0.71212121 0.71212121 0.71212121 0.71212121\n",
      " 0.71212121 0.71212121 0.71969697 0.71969697 0.72727273 0.72727273\n",
      " 0.72727273 0.72727273 0.73484848 0.73484848 0.75       0.75\n",
      " 0.75       0.75757576 0.75757576 0.76515152 0.76515152 0.76515152\n",
      " 0.76515152 0.77272727 0.77272727 0.78030303 0.78030303 0.78030303\n",
      " 0.78030303 0.78030303 0.78030303 0.78030303 0.78787879 0.78787879\n",
      " 0.78787879 0.78787879 0.78787879 0.79545455 0.79545455 0.8030303\n",
      " 0.8030303  0.8030303  0.8030303  0.8030303  0.81060606 0.81060606\n",
      " 0.81060606 0.81060606 0.81060606 0.81060606 0.81818182 0.81818182\n",
      " 0.81818182 0.81818182 0.81818182 0.81818182 0.81818182 0.81818182\n",
      " 0.81818182 0.81818182 0.81818182 0.81818182 0.81818182 0.81818182\n",
      " 0.82575758 0.82575758 0.83333333 0.83333333 0.84848485 0.85606061\n",
      " 0.85606061 0.85606061 0.86363636 0.86363636 0.86363636 0.86363636\n",
      " 0.86363636 0.86363636 0.86363636 0.86363636 0.86363636 0.87121212\n",
      " 0.87121212 0.87121212 0.87121212 0.87121212 0.87121212 0.87121212\n",
      " 0.87878788 0.88636364 0.88636364 0.88636364 0.88636364 0.88636364\n",
      " 0.88636364 0.89393939 0.89393939 0.89393939 0.89393939 0.89393939\n",
      " 0.89393939 0.89393939 0.89393939 0.89393939 0.89393939 0.89393939\n",
      " 0.89393939 0.89393939 0.89393939 0.89393939 0.90151515 0.90151515\n",
      " 0.90909091 0.90909091 0.90909091 0.91666667 0.91666667 0.91666667\n",
      " 0.91666667 0.91666667 0.91666667 0.91666667 0.91666667 0.91666667\n",
      " 0.91666667 0.91666667 0.91666667 0.91666667 0.92424242 0.92424242\n",
      " 0.92424242 0.92424242 0.92424242 0.92424242 0.92424242 0.92424242\n",
      " 0.92424242 0.92424242 0.92424242 0.92424242 0.93181818 0.93181818\n",
      " 0.93181818 0.93181818 0.93939394 0.9469697  0.9469697  0.9469697\n",
      " 0.9469697  0.9469697  0.9469697  0.95454545 0.95454545 0.95454545\n",
      " 0.95454545 0.95454545 0.95454545 0.95454545 0.96212121 0.96212121\n",
      " 0.96212121 0.96212121 0.96212121 0.96212121 0.96212121 0.96212121\n",
      " 0.96212121 0.96212121 0.96212121 0.96212121 0.96212121 0.96212121\n",
      " 0.96212121 0.96212121 0.96212121 0.96212121 0.96212121 0.96212121\n",
      " 0.96212121 0.96212121 0.96212121 0.96212121 0.96212121 0.96212121\n",
      " 0.96969697 0.96969697 0.96969697 0.96969697 0.96969697 0.97727273\n",
      " 0.97727273 0.97727273 0.97727273 0.98484848 0.98484848 0.99242424\n",
      " 0.99242424 0.99242424 1.         1.         1.         1.\n",
      " 1.         1.         1.         1.        ]\n",
      "thresholds [1.9065 0.9065 0.8255 0.799  0.7895 0.7855 0.7775 0.775  0.767  0.741\n",
      " 0.7375 0.73   0.7285 0.7265 0.72   0.696  0.6895 0.6785 0.6745 0.666\n",
      " 0.665  0.6625 0.6575 0.6445 0.638  0.6335 0.6305 0.626  0.6245 0.622\n",
      " 0.62   0.6175 0.6165 0.615  0.6145 0.609  0.6085 0.5935 0.5925 0.59\n",
      " 0.5875 0.585  0.5805 0.578  0.571  0.5705 0.5695 0.5675 0.5665 0.566\n",
      " 0.5655 0.561  0.559  0.5585 0.554  0.5515 0.551  0.55   0.549  0.5475\n",
      " 0.5465 0.546  0.544  0.534  0.5315 0.5305 0.5295 0.529  0.528  0.5265\n",
      " 0.525  0.515  0.5145 0.514  0.5135 0.5075 0.507  0.506  0.5045 0.503\n",
      " 0.5025 0.502  0.5    0.499  0.498  0.492  0.4905 0.49   0.4895 0.487\n",
      " 0.4865 0.486  0.4855 0.484  0.4825 0.481  0.4805 0.48   0.478  0.473\n",
      " 0.4725 0.4715 0.4695 0.4665 0.4635 0.4585 0.458  0.4565 0.454  0.453\n",
      " 0.4515 0.45   0.4495 0.447  0.446  0.4445 0.4415 0.441  0.439  0.4385\n",
      " 0.4375 0.437  0.436  0.4335 0.433  0.4325 0.428  0.427  0.4235 0.4225\n",
      " 0.4215 0.419  0.418  0.4175 0.416  0.414  0.4135 0.403  0.402  0.4015\n",
      " 0.401  0.4    0.3995 0.398  0.3975 0.3965 0.396  0.395  0.3945 0.394\n",
      " 0.3915 0.39   0.389  0.3885 0.388  0.3855 0.385  0.384  0.3835 0.383\n",
      " 0.3825 0.382  0.3815 0.381  0.3795 0.3785 0.378  0.3775 0.377  0.3755\n",
      " 0.375  0.3745 0.374  0.373  0.3715 0.37   0.3695 0.367  0.365  0.3645\n",
      " 0.364  0.3615 0.36   0.358  0.357  0.356  0.3555 0.3535 0.353  0.352\n",
      " 0.3515 0.35   0.3495 0.349  0.3485 0.348  0.343  0.3425 0.337  0.335\n",
      " 0.3345 0.3335 0.332  0.3315 0.329  0.3285 0.3275 0.326  0.3255 0.3245\n",
      " 0.324  0.3185 0.318  0.317  0.3165 0.316  0.315  0.3145 0.3135 0.3125\n",
      " 0.312  0.3115 0.311  0.3105 0.3095 0.308  0.3055 0.305  0.3035 0.303\n",
      " 0.3025 0.3015 0.3005 0.2995 0.298  0.297  0.294  0.292  0.2865 0.2855\n",
      " 0.283  0.2805 0.28   0.279  0.2775 0.2765 0.2755 0.275  0.274  0.27\n",
      " 0.269  0.2685 0.268  0.267  0.266  0.265  0.2645 0.264  0.2615 0.26\n",
      " 0.2575 0.2565 0.255  0.2545 0.252  0.2515 0.247  0.2455 0.244  0.2425\n",
      " 0.24   0.2395 0.238  0.2375 0.237  0.2365 0.2355 0.235  0.233  0.232\n",
      " 0.2315 0.231  0.2305 0.229  0.228  0.2265 0.226  0.2255 0.225  0.224\n",
      " 0.2235 0.2225 0.2195 0.219  0.218  0.2175 0.217  0.216  0.213  0.212\n",
      " 0.2115 0.211  0.21   0.209  0.208  0.2075 0.206  0.2045 0.204  0.202\n",
      " 0.201  0.2005 0.2    0.1995 0.1985 0.1955 0.195  0.1945 0.194  0.1935\n",
      " 0.193  0.192  0.187  0.1865 0.185  0.1845 0.183  0.181  0.1805 0.1795\n",
      " 0.179  0.1785 0.178  0.1775 0.177  0.1745 0.174  0.1685 0.1675 0.167\n",
      " 0.165  0.1645 0.164  0.1635 0.162  0.161  0.1605 0.1595 0.1585 0.1575\n",
      " 0.155  0.1545 0.1535 0.1525 0.15   0.1485 0.147  0.146  0.145  0.1435\n",
      " 0.1415 0.1405 0.139  0.138  0.137  0.136  0.1355 0.1345 0.133  0.1325\n",
      " 0.1315 0.131  0.1295 0.1275 0.127  0.124  0.1225 0.1215 0.1195 0.118\n",
      " 0.1175 0.117  0.1155 0.1145 0.1125 0.112  0.111  0.1105 0.107  0.106\n",
      " 0.1035 0.103  0.1025 0.1015 0.1005 0.0985 0.0975 0.095  0.094  0.093\n",
      " 0.0905 0.084  0.0835 0.081  0.0805 0.079  0.0785 0.0715 0.071  0.0705\n",
      " 0.07   0.0695 0.0675 0.067  0.0655 0.0645 0.0615 0.0605 0.06   0.0565\n",
      " 0.056  0.054  0.052  0.051  0.0505 0.05   0.0475 0.0455 0.038  0.0375\n",
      " 0.037  0.0355 0.0305 0.0295 0.0285 0.027  0.022  0.0215 0.0205 0.0185\n",
      " 0.018  0.0045]\n"
     ]
    }
   ],
   "source": [
    "fpr4, tpr4, thresholds4 = metrics.roc_curve(Y_test, RFC_Proba_score_positive_class, pos_label=1)\n",
    "print(\"FPR\",fpr4)\n",
    "print(\"TPR\",tpr4)\n",
    "print(\"thresholds\",thresholds4)"
   ]
  },
  {
   "cell_type": "code",
   "execution_count": 94,
   "id": "b748eddd",
   "metadata": {},
   "outputs": [
    {
     "name": "stdout",
     "output_type": "stream",
     "text": [
      "AUC SCORE: 0.6715117274439308\n"
     ]
    }
   ],
   "source": [
    "from sklearn.metrics import roc_auc_score\n",
    "RFC_auc_score = roc_auc_score(Y_test, RFC_Proba_score_positive_class)\n",
    "print(\"AUC SCORE:\",RFC_auc_score)"
   ]
  },
  {
   "cell_type": "code",
   "execution_count": 95,
   "id": "af46463e",
   "metadata": {},
   "outputs": [
    {
     "data": {
      "image/png": "[encoded data removed]",
      "text/plain": [
       "<Figure size 576x396 with 1 Axes>"
      ]
     },
     "metadata": {},
     "output_type": "display_data"
    }
   ],
   "source": [
    "plt.style.use('seaborn')\n",
    "plt.plot(fpr3, tpr3, linestyle='--',color='red', label='Random Forest Classifier')\n",
    "plt.plot([0, 1], [0, 1], linestyle='--', label='No Skill')\n",
    "plt.title('ROC curve')\n",
    "plt.xlabel('False Positive Rate')\n",
    "plt.ylabel('True Positive rate')\n",
    "plt.legend(loc='best')\n",
    "plt.savefig('ROC', dpi=300)\n",
    "plt.show()"
   ]
  },
  {
   "cell_type": "markdown",
   "id": "03232d1b",
   "metadata": {},
   "source": [
    "# BAGGING CLASSIFIER"
   ]
  },
  {
   "cell_type": "code",
   "execution_count": 96,
   "id": "cf665f6a",
   "metadata": {},
   "outputs": [],
   "source": [
    "from sklearn.ensemble import BaggingClassifier\n",
    "from sklearn.tree import DecisionTreeClassifier\n",
    "BAG_param_grid = {'base_estimator__max_depth' : [1, 2, 3, 4, 5],\n",
    "                  'max_samples' : [0.05, 0.1, 0.2, 0.5]}\n",
    "BAG = GridSearchCV(BaggingClassifier(DecisionTreeClassifier(),\n",
    "                                           n_estimators = 100, max_features = 0.5),\n",
    "                                           BAG_param_grid)"
   ]
  },
  {
   "cell_type": "code",
   "execution_count": 97,
   "id": "27eb44b7",
   "metadata": {},
   "outputs": [
    {
     "data": {
      "text/plain": [
       "GridSearchCV(estimator=BaggingClassifier(base_estimator=DecisionTreeClassifier(),\n",
       "                                         max_features=0.5, n_estimators=100),\n",
       "             param_grid={'base_estimator__max_depth': [1, 2, 3, 4, 5],\n",
       "                         'max_samples': [0.05, 0.1, 0.2, 0.5]})"
      ]
     },
     "execution_count": 97,
     "metadata": {},
     "output_type": "execute_result"
    }
   ],
   "source": [
    "BAG.fit(X_train_smote,Y_train_smote)"
   ]
  },
  {
   "cell_type": "code",
   "execution_count": 98,
   "id": "b3c6779e",
   "metadata": {},
   "outputs": [
    {
     "data": {
      "text/plain": [
       "{'base_estimator__max_depth': 5, 'max_samples': 0.5}"
      ]
     },
     "execution_count": 98,
     "metadata": {},
     "output_type": "execute_result"
    }
   ],
   "source": [
    "BAG.best_params_"
   ]
  },
  {
   "cell_type": "code",
   "execution_count": 99,
   "id": "4b4a0821",
   "metadata": {},
   "outputs": [
    {
     "data": {
      "text/plain": [
       "BaggingClassifier(base_estimator=DecisionTreeClassifier(max_depth=5),\n",
       "                  max_features=0.5, max_samples=0.5, n_estimators=100)"
      ]
     },
     "execution_count": 99,
     "metadata": {},
     "output_type": "execute_result"
    }
   ],
   "source": [
    "BAG.best_estimator_"
   ]
  },
  {
   "cell_type": "code",
   "execution_count": 100,
   "id": "7f60ec3f",
   "metadata": {},
   "outputs": [
    {
     "name": "stdout",
     "output_type": "stream",
     "text": [
      "Bagging Training Accuracy: 0.7416772018541931\n",
      "Bagging Testing Accuracy: 0.6873156342182891\n"
     ]
    }
   ],
   "source": [
    "BAG_grid_ytrain_pred = BAG.predict(X_train)\n",
    "print(\"Bagging Training Accuracy:\",accuracy_score(Y_train, BAG_grid_ytrain_pred))\n",
    "BAG_grid_y_pred = BAG.predict(X_test)\n",
    "print(\"Bagging Testing Accuracy:\",accuracy_score(Y_test, BAG_grid_y_pred))"
   ]
  },
  {
   "cell_type": "code",
   "execution_count": 101,
   "id": "d0d76490",
   "metadata": {},
   "outputs": [
    {
     "name": "stdout",
     "output_type": "stream",
     "text": [
      "After cross validation the accuracy in Bagging Classifier is: 0.7389856550925051\n"
     ]
    }
   ],
   "source": [
    "from sklearn.model_selection import cross_val_score\n",
    "BAG_CVS_TRAIN = cross_val_score(estimator = BAG, X = X_train_smote, y = Y_train_smote, cv = 10)\n",
    "print(\"After cross validation the accuracy in Bagging Classifier is:\",BAG_CVS_TRAIN.mean())"
   ]
  },
  {
   "cell_type": "code",
   "execution_count": 102,
   "id": "7a845b85",
   "metadata": {},
   "outputs": [
    {
     "data": {
      "image/png": "[encoded data removed]",
      "text/plain": [
       "<Figure size 576x396 with 2 Axes>"
      ]
     },
     "metadata": {},
     "output_type": "display_data"
    }
   ],
   "source": [
    "BAG_CM = confusion_matrix(Y_test, BAG_grid_y_pred)\n",
    "ax= plt.subplot()\n",
    "sns.heatmap(BAG_CM, annot=True, fmt='g',cmap='rocket_r');#cmap='rocket_r' for color inverse of the scale\n",
    "ax.set_xlabel('Predicted labels');\n",
    "ax.set_ylabel('True labels'); \n",
    "ax.set_title('Confusion Matrix'); "
   ]
  },
  {
   "cell_type": "code",
   "execution_count": 103,
   "id": "966eda7a",
   "metadata": {},
   "outputs": [
    {
     "name": "stdout",
     "output_type": "stream",
     "text": [
      "              precision    recall  f1-score   support\n",
      "\n",
      "           0       0.91      0.71      0.80       885\n",
      "           1       0.22      0.55      0.31       132\n",
      "\n",
      "    accuracy                           0.69      1017\n",
      "   macro avg       0.57      0.63      0.55      1017\n",
      "weighted avg       0.82      0.69      0.73      1017\n",
      "\n"
     ]
    }
   ],
   "source": [
    "print(classification_report(Y_test,BAG_grid_y_pred))"
   ]
  },
  {
   "cell_type": "code",
   "execution_count": 104,
   "id": "fe6fdb62",
   "metadata": {},
   "outputs": [
    {
     "data": {
      "text/plain": [
       "array([0.2983313 , 0.43707075, 0.59884316, ..., 0.49315746, 0.38093507,\n",
       "       0.58294703])"
      ]
     },
     "execution_count": 104,
     "metadata": {},
     "output_type": "execute_result"
    }
   ],
   "source": [
    "from sklearn import metrics\n",
    "BAG_Proba_score_positive_class= BAG.predict_proba(X_test)[:,1]\n",
    "BAG_Proba_score_positive_class "
   ]
  },
  {
   "cell_type": "code",
   "execution_count": 105,
   "id": "4520fcda",
   "metadata": {},
   "outputs": [
    {
     "name": "stdout",
     "output_type": "stream",
     "text": [
      "FPR [0.         0.         0.         0.00112994 0.00112994 0.00225989\n",
      " 0.00225989 0.00338983 0.00338983 0.00677966 0.00677966 0.0079096\n",
      " 0.0079096  0.01129944 0.01129944 0.01242938 0.01242938 0.01355932\n",
      " 0.01355932 0.01581921 0.01581921 0.02937853 0.02937853 0.03276836\n",
      " 0.03276836 0.03389831 0.03389831 0.03615819 0.03615819 0.04180791\n",
      " 0.04180791 0.04632768 0.04632768 0.04745763 0.04745763 0.04971751\n",
      " 0.04971751 0.05649718 0.05649718 0.05762712 0.05762712 0.05988701\n",
      " 0.05988701 0.06101695 0.06101695 0.06327684 0.06327684 0.06892655\n",
      " 0.06892655 0.07231638 0.07231638 0.08022599 0.08022599 0.08135593\n",
      " 0.08135593 0.08474576 0.08474576 0.08587571 0.08587571 0.08700565\n",
      " 0.08700565 0.08813559 0.08813559 0.10169492 0.10169492 0.10621469\n",
      " 0.10621469 0.11073446 0.11073446 0.11412429 0.11412429 0.11638418\n",
      " 0.11638418 0.11864407 0.11864407 0.12429379 0.12429379 0.13107345\n",
      " 0.13107345 0.14011299 0.14011299 0.15028249 0.15028249 0.15367232\n",
      " 0.15367232 0.16158192 0.16158192 0.16271186 0.16271186 0.16836158\n",
      " 0.16836158 0.17175141 0.17175141 0.17288136 0.17288136 0.18870056\n",
      " 0.18870056 0.2079096  0.2079096  0.22146893 0.22146893 0.23502825\n",
      " 0.23502825 0.2519774  0.2519774  0.25649718 0.25649718 0.26214689\n",
      " 0.26214689 0.26327684 0.26327684 0.26666667 0.26666667 0.26779661\n",
      " 0.26779661 0.28700565 0.28700565 0.29378531 0.29378531 0.2960452\n",
      " 0.2960452  0.29830508 0.29830508 0.3039548  0.3039548  0.31186441\n",
      " 0.31186441 0.32429379 0.32429379 0.33220339 0.33220339 0.33446328\n",
      " 0.33446328 0.33559322 0.33559322 0.33898305 0.33898305 0.35141243\n",
      " 0.35141243 0.35932203 0.35932203 0.36723164 0.36723164 0.37175141\n",
      " 0.37175141 0.37740113 0.37740113 0.38531073 0.38531073 0.39887006\n",
      " 0.39887006 0.4        0.4        0.40112994 0.40112994 0.41242938\n",
      " 0.41242938 0.42824859 0.42824859 0.42937853 0.42937853 0.44293785\n",
      " 0.44293785 0.44971751 0.44971751 0.46892655 0.46892655 0.47344633\n",
      " 0.47344633 0.50621469 0.50621469 0.50960452 0.50960452 0.52655367\n",
      " 0.52655367 0.53333333 0.53333333 0.54011299 0.54011299 0.55141243\n",
      " 0.55141243 0.57062147 0.57062147 0.57175141 0.57175141 0.5819209\n",
      " 0.5819209  0.58418079 0.58418079 0.58644068 0.58644068 0.58870056\n",
      " 0.58870056 0.5920904  0.5920904  0.61242938 0.61242938 0.61468927\n",
      " 0.61468927 0.64971751 0.64971751 0.66214689 0.66214689 0.70621469\n",
      " 0.70621469 0.80564972 0.80564972 0.81016949 0.81016949 0.81129944\n",
      " 0.81129944 0.82372881 0.82372881 0.83502825 0.83502825 0.87683616\n",
      " 0.87683616 0.94576271 0.94576271 0.94915254 0.94915254 0.97966102\n",
      " 0.97966102 0.98757062 0.98757062 1.        ]\n",
      "TPR [0.         0.00757576 0.01515152 0.01515152 0.03787879 0.03787879\n",
      " 0.04545455 0.04545455 0.0530303  0.0530303  0.06060606 0.06060606\n",
      " 0.06818182 0.06818182 0.07575758 0.07575758 0.08333333 0.08333333\n",
      " 0.09090909 0.09090909 0.09848485 0.09848485 0.10606061 0.10606061\n",
      " 0.11363636 0.11363636 0.12121212 0.12121212 0.12878788 0.12878788\n",
      " 0.13636364 0.13636364 0.14393939 0.14393939 0.15151515 0.15151515\n",
      " 0.15909091 0.15909091 0.16666667 0.16666667 0.17424242 0.17424242\n",
      " 0.18181818 0.18181818 0.18939394 0.18939394 0.1969697  0.1969697\n",
      " 0.20454545 0.20454545 0.21969697 0.21969697 0.23484848 0.23484848\n",
      " 0.24242424 0.24242424 0.26515152 0.26515152 0.28030303 0.28030303\n",
      " 0.3030303  0.3030303  0.31060606 0.31060606 0.31818182 0.31818182\n",
      " 0.32575758 0.32575758 0.33333333 0.33333333 0.34090909 0.34090909\n",
      " 0.34848485 0.34848485 0.35606061 0.35606061 0.36363636 0.36363636\n",
      " 0.37121212 0.37121212 0.37878788 0.37878788 0.38636364 0.38636364\n",
      " 0.39393939 0.39393939 0.40151515 0.40151515 0.40909091 0.40909091\n",
      " 0.41666667 0.41666667 0.42424242 0.42424242 0.43181818 0.43181818\n",
      " 0.4469697  0.4469697  0.45454545 0.45454545 0.48484848 0.48484848\n",
      " 0.49242424 0.49242424 0.5        0.5        0.50757576 0.50757576\n",
      " 0.51515152 0.51515152 0.52272727 0.52272727 0.53030303 0.53030303\n",
      " 0.53787879 0.53787879 0.54545455 0.54545455 0.5530303  0.5530303\n",
      " 0.56060606 0.56060606 0.56818182 0.56818182 0.57575758 0.57575758\n",
      " 0.58333333 0.58333333 0.59090909 0.59090909 0.59848485 0.59848485\n",
      " 0.60606061 0.60606061 0.61363636 0.61363636 0.62121212 0.62121212\n",
      " 0.63636364 0.63636364 0.64393939 0.64393939 0.65151515 0.65151515\n",
      " 0.65909091 0.65909091 0.66666667 0.66666667 0.68181818 0.68181818\n",
      " 0.68939394 0.68939394 0.70454545 0.70454545 0.72727273 0.72727273\n",
      " 0.73484848 0.73484848 0.74242424 0.74242424 0.75       0.75\n",
      " 0.75757576 0.75757576 0.76515152 0.76515152 0.77272727 0.77272727\n",
      " 0.78030303 0.78030303 0.78787879 0.78787879 0.79545455 0.79545455\n",
      " 0.8030303  0.8030303  0.81060606 0.81060606 0.81818182 0.81818182\n",
      " 0.82575758 0.82575758 0.83333333 0.83333333 0.84090909 0.84090909\n",
      " 0.84848485 0.84848485 0.85606061 0.85606061 0.86363636 0.86363636\n",
      " 0.87121212 0.87121212 0.87878788 0.87878788 0.88636364 0.88636364\n",
      " 0.90151515 0.90151515 0.90909091 0.90909091 0.91666667 0.91666667\n",
      " 0.92424242 0.92424242 0.93181818 0.93181818 0.93939394 0.93939394\n",
      " 0.9469697  0.9469697  0.95454545 0.95454545 0.96212121 0.96212121\n",
      " 0.96969697 0.96969697 0.97727273 0.97727273 0.98484848 0.98484848\n",
      " 0.99242424 0.99242424 1.         1.        ]\n",
      "thresholds [1.77522195 0.77522195 0.74361515 0.73710875 0.72523593 0.72494017\n",
      " 0.72297811 0.72287676 0.71260137 0.69959325 0.69428133 0.69401913\n",
      " 0.69291167 0.68413545 0.68090497 0.67937396 0.67635402 0.67395567\n",
      " 0.67297232 0.66923517 0.66910798 0.66127397 0.66049047 0.65460478\n",
      " 0.65348355 0.65247359 0.65240156 0.64992816 0.64948377 0.6442541\n",
      " 0.64322931 0.6413355  0.64111948 0.63916439 0.63863617 0.63824182\n",
      " 0.63653858 0.62886683 0.62870077 0.62858256 0.62746178 0.62604812\n",
      " 0.62545344 0.6244858  0.62368516 0.62309911 0.62220204 0.61623087\n",
      " 0.61557438 0.61306188 0.61047526 0.60646815 0.60495306 0.6042359\n",
      " 0.60311334 0.60125762 0.60011007 0.59939076 0.59833881 0.59817425\n",
      " 0.59612824 0.59553184 0.59459901 0.58357868 0.58357103 0.58015627\n",
      " 0.57969633 0.57818283 0.57642006 0.576064   0.57473268 0.57392242\n",
      " 0.57337636 0.5708506  0.56999793 0.56565997 0.5655265  0.56212887\n",
      " 0.5618523  0.55916688 0.55850551 0.55463801 0.55367955 0.55348017\n",
      " 0.55306794 0.54751118 0.54732618 0.54703909 0.54682636 0.54600494\n",
      " 0.54336227 0.54008297 0.53951074 0.53924426 0.53898429 0.53468558\n",
      " 0.53437064 0.52756327 0.52713722 0.52374763 0.52325048 0.51929569\n",
      " 0.51758101 0.51263228 0.51252705 0.51131649 0.51068734 0.50809385\n",
      " 0.50777858 0.50683189 0.50637557 0.50487814 0.5047203  0.5045489\n",
      " 0.50428189 0.50108085 0.50084863 0.49972953 0.49949455 0.49931927\n",
      " 0.49893862 0.49875058 0.49859497 0.49703126 0.49608381 0.49162724\n",
      " 0.49059262 0.48597214 0.48592627 0.48395625 0.483212   0.48287605\n",
      " 0.48254283 0.48178551 0.48071866 0.4801785  0.48000461 0.47392922\n",
      " 0.47329578 0.47132003 0.47120896 0.46804107 0.46781677 0.46496271\n",
      " 0.46393985 0.4623244  0.46208714 0.45939685 0.45916179 0.45656634\n",
      " 0.45585914 0.4558053  0.45475993 0.45444658 0.45114923 0.44899821\n",
      " 0.44821846 0.44453177 0.44422351 0.44355301 0.4429694  0.43660299\n",
      " 0.4365291  0.43368681 0.43296024 0.42810992 0.42809828 0.4270234\n",
      " 0.42669471 0.41793395 0.41746436 0.41676836 0.41596825 0.41051536\n",
      " 0.41022654 0.40859361 0.40829983 0.40534231 0.40532905 0.40233735\n",
      " 0.40221251 0.39604422 0.39499174 0.39359769 0.3934929  0.3899148\n",
      " 0.38982928 0.38926186 0.38919448 0.38901901 0.38761506 0.38653851\n",
      " 0.38642307 0.38529114 0.38501957 0.37839482 0.37837206 0.37723787\n",
      " 0.37656591 0.36094936 0.36026774 0.35470896 0.35326438 0.3316375\n",
      " 0.33131542 0.28983822 0.28965172 0.28768556 0.2869363  0.28624416\n",
      " 0.28611183 0.2803649  0.28032022 0.27715162 0.27711816 0.2521573\n",
      " 0.2513893  0.19204695 0.19148074 0.18157956 0.18082129 0.12620675\n",
      " 0.12498695 0.11309555 0.10838303 0.06166672]\n"
     ]
    }
   ],
   "source": [
    "fpr5, tpr5, thresholds5 = metrics.roc_curve(Y_test, BAG_Proba_score_positive_class, pos_label=1)\n",
    "print(\"FPR\",fpr5)\n",
    "print(\"TPR\",tpr5)\n",
    "print(\"thresholds\",thresholds5)"
   ]
  },
  {
   "cell_type": "code",
   "execution_count": 106,
   "id": "042ba919",
   "metadata": {},
   "outputs": [
    {
     "name": "stdout",
     "output_type": "stream",
     "text": [
      "AUC SCORE: 0.7027050162643383\n"
     ]
    }
   ],
   "source": [
    "from sklearn.metrics import roc_auc_score\n",
    "BAG_auc_score = roc_auc_score(Y_test, BAG_Proba_score_positive_class)\n",
    "print(\"AUC SCORE:\",BAG_auc_score)"
   ]
  },
  {
   "cell_type": "code",
   "execution_count": 107,
   "id": "2a441406",
   "metadata": {},
   "outputs": [
    {
     "data": {
      "image/png": "[encoded data removed]",
      "text/plain": [
       "<Figure size 576x396 with 1 Axes>"
      ]
     },
     "metadata": {},
     "output_type": "display_data"
    }
   ],
   "source": [
    "plt.style.use('seaborn')\n",
    "plt.plot(fpr5, tpr5, linestyle='--',color='red', label='Bagging Classifier')\n",
    "plt.plot([0, 1], [0, 1], linestyle='--', label='No Skill')\n",
    "plt.title('ROC curve')\n",
    "plt.xlabel('False Positive Rate')\n",
    "plt.ylabel('True Positive rate')\n",
    "plt.legend(loc='best')\n",
    "plt.savefig('ROC', dpi=300)\n",
    "plt.show()"
   ]
  },
  {
   "cell_type": "markdown",
   "id": "5fa7f123",
   "metadata": {},
   "source": [
    "# EXTRA TREES CLASSIFIER"
   ]
  },
  {
   "cell_type": "code",
   "execution_count": 108,
   "id": "36901f27",
   "metadata": {},
   "outputs": [],
   "source": [
    "from sklearn.ensemble import ExtraTreesClassifier\n",
    "ETC_param_grid = {\"criterion\":[\"gini\",\"entropy\"],\n",
    "                  \"max_depth\": range(1,10),\n",
    "                  \"min_samples_split\":range(1,10),\n",
    "                  \"max_features\":[\"auto\", \"sqrt\", \"log2\"]\n",
    "                }\n",
    "ETC = GridSearchCV(ExtraTreesClassifier(),\n",
    "                        ETC_param_grid)"
   ]
  },
  {
   "cell_type": "code",
   "execution_count": 109,
   "id": "04e8204a",
   "metadata": {},
   "outputs": [
    {
     "data": {
      "text/plain": [
       "GridSearchCV(estimator=ExtraTreesClassifier(),\n",
       "             param_grid={'criterion': ['gini', 'entropy'],\n",
       "                         'max_depth': range(1, 10),\n",
       "                         'max_features': ['auto', 'sqrt', 'log2'],\n",
       "                         'min_samples_split': range(1, 10)})"
      ]
     },
     "execution_count": 109,
     "metadata": {},
     "output_type": "execute_result"
    }
   ],
   "source": [
    "ETC.fit(X_train_smote,Y_train_smote)"
   ]
  },
  {
   "cell_type": "code",
   "execution_count": 110,
   "id": "0b4c8ac8",
   "metadata": {},
   "outputs": [
    {
     "data": {
      "text/plain": [
       "{'criterion': 'gini',\n",
       " 'max_depth': 9,\n",
       " 'max_features': 'log2',\n",
       " 'min_samples_split': 6}"
      ]
     },
     "execution_count": 110,
     "metadata": {},
     "output_type": "execute_result"
    }
   ],
   "source": [
    "ETC.best_params_"
   ]
  },
  {
   "cell_type": "code",
   "execution_count": 111,
   "id": "226510cd",
   "metadata": {},
   "outputs": [
    {
     "data": {
      "text/plain": [
       "ExtraTreesClassifier(max_depth=9, max_features='log2', min_samples_split=6)"
      ]
     },
     "execution_count": 111,
     "metadata": {},
     "output_type": "execute_result"
    }
   ],
   "source": [
    "ETC.best_estimator_"
   ]
  },
  {
   "cell_type": "code",
   "execution_count": 112,
   "id": "c29713cc",
   "metadata": {},
   "outputs": [
    {
     "name": "stdout",
     "output_type": "stream",
     "text": [
      "Extra Tree Training Accuracy: 0.7673830594184576\n",
      "Extra Testing Accuracy: 0.7050147492625368\n"
     ]
    }
   ],
   "source": [
    "ETC_grid_ytrain_pred = ETC.predict(X_train)\n",
    "print(\"Extra Tree Training Accuracy:\",accuracy_score(Y_train, ETC_grid_ytrain_pred))\n",
    "ETC_grid_y_pred = ETC.predict(X_test)\n",
    "print(\"Extra Testing Accuracy:\",accuracy_score(Y_test, ETC_grid_y_pred))"
   ]
  },
  {
   "cell_type": "code",
   "execution_count": 113,
   "id": "564e3876",
   "metadata": {},
   "outputs": [
    {
     "name": "stdout",
     "output_type": "stream",
     "text": [
      "After cross validation the accuracy in Extra Tree Classifier is: 0.7191735620458181\n"
     ]
    }
   ],
   "source": [
    "from sklearn.model_selection import cross_val_score\n",
    "ETC_CVS_TRAIN = cross_val_score(estimator = ETC, X = X_train_smote, y = Y_train_smote, cv = 10)\n",
    "print(\"After cross validation the accuracy in Extra Tree Classifier is:\",ETC_CVS_TRAIN.mean())"
   ]
  },
  {
   "cell_type": "code",
   "execution_count": 114,
   "id": "ca51af2d",
   "metadata": {},
   "outputs": [
    {
     "data": {
      "image/png": "[encoded data removed]",
      "text/plain": [
       "<Figure size 576x396 with 2 Axes>"
      ]
     },
     "metadata": {},
     "output_type": "display_data"
    }
   ],
   "source": [
    "ETC_CM = confusion_matrix(Y_test, ETC_grid_y_pred)\n",
    "ax= plt.subplot()\n",
    "sns.heatmap(ETC_CM, annot=True, fmt='g',cmap='rocket_r');#cmap='rocket_r' for color inverse of the scale\n",
    "ax.set_xlabel('Predicted labels');\n",
    "ax.set_ylabel('True labels'); \n",
    "ax.set_title('Confusion Matrix'); "
   ]
  },
  {
   "cell_type": "code",
   "execution_count": 115,
   "id": "eb8a681c",
   "metadata": {},
   "outputs": [
    {
     "name": "stdout",
     "output_type": "stream",
     "text": [
      "              precision    recall  f1-score   support\n",
      "\n",
      "           0       0.92      0.73      0.81       885\n",
      "           1       0.23      0.56      0.33       132\n",
      "\n",
      "    accuracy                           0.71      1017\n",
      "   macro avg       0.58      0.64      0.57      1017\n",
      "weighted avg       0.83      0.71      0.75      1017\n",
      "\n"
     ]
    }
   ],
   "source": [
    "print(classification_report(Y_test,ETC_grid_y_pred))"
   ]
  },
  {
   "cell_type": "code",
   "execution_count": 116,
   "id": "145d46dd",
   "metadata": {},
   "outputs": [
    {
     "data": {
      "text/plain": [
       "array([0.27669054, 0.49450208, 0.62040889, ..., 0.51836141, 0.35149445,\n",
       "       0.6174033 ])"
      ]
     },
     "execution_count": 116,
     "metadata": {},
     "output_type": "execute_result"
    }
   ],
   "source": [
    "from sklearn import metrics\n",
    "ETC_Proba_score_positive_class= ETC.predict_proba(X_test)[:,1]\n",
    "ETC_Proba_score_positive_class "
   ]
  },
  {
   "cell_type": "code",
   "execution_count": 117,
   "id": "355f5f62",
   "metadata": {},
   "outputs": [
    {
     "name": "stdout",
     "output_type": "stream",
     "text": [
      "FPR [0.         0.         0.         0.00112994 0.00112994 0.00225989\n",
      " 0.00225989 0.00564972 0.00564972 0.01016949 0.01016949 0.01242938\n",
      " 0.01242938 0.01920904 0.01920904 0.02033898 0.02033898 0.02937853\n",
      " 0.02937853 0.03276836 0.03276836 0.03389831 0.03389831 0.03841808\n",
      " 0.03841808 0.0440678  0.0440678  0.04519774 0.04519774 0.04632768\n",
      " 0.04632768 0.05536723 0.05536723 0.05875706 0.05875706 0.05988701\n",
      " 0.05988701 0.06101695 0.06101695 0.06779661 0.06779661 0.07231638\n",
      " 0.07231638 0.0779661  0.0779661  0.08022599 0.08022599 0.08248588\n",
      " 0.08248588 0.09265537 0.09265537 0.09830508 0.09830508 0.09943503\n",
      " 0.09943503 0.10621469 0.10621469 0.10734463 0.10734463 0.10960452\n",
      " 0.10960452 0.11073446 0.11073446 0.11864407 0.11864407 0.12316384\n",
      " 0.12316384 0.13220339 0.13220339 0.14915254 0.14915254 0.15141243\n",
      " 0.15141243 0.15706215 0.15706215 0.15819209 0.15819209 0.15932203\n",
      " 0.15932203 0.16610169 0.16610169 0.1819209  0.1819209  0.18531073\n",
      " 0.18531073 0.19322034 0.19322034 0.21694915 0.21694915 0.23050847\n",
      " 0.23050847 0.23276836 0.23276836 0.23615819 0.23615819 0.23954802\n",
      " 0.23954802 0.2440678  0.2440678  0.24632768 0.24632768 0.25762712\n",
      " 0.25762712 0.26440678 0.26440678 0.26779661 0.26779661 0.27344633\n",
      " 0.27344633 0.27457627 0.27457627 0.28022599 0.28022599 0.28813559\n",
      " 0.28813559 0.29039548 0.29039548 0.30282486 0.30282486 0.30847458\n",
      " 0.30847458 0.30960452 0.30960452 0.31638418 0.31638418 0.31751412\n",
      " 0.31751412 0.32542373 0.32542373 0.33333333 0.33333333 0.33559322\n",
      " 0.33559322 0.3480226  0.3480226  0.34915254 0.34915254 0.35480226\n",
      " 0.35480226 0.3559322  0.3559322  0.37175141 0.37175141 0.40338983\n",
      " 0.40338983 0.4259887  0.4259887  0.42711864 0.42711864 0.43728814\n",
      " 0.43728814 0.46779661 0.46779661 0.47344633 0.47344633 0.47570621\n",
      " 0.47570621 0.49717514 0.49717514 0.51073446 0.51073446 0.51186441\n",
      " 0.51186441 0.52090395 0.52090395 0.5220339  0.5220339  0.52316384\n",
      " 0.52316384 0.53220339 0.53220339 0.55141243 0.55141243 0.5559322\n",
      " 0.5559322  0.56497175 0.56497175 0.57740113 0.57740113 0.58870056\n",
      " 0.58870056 0.61581921 0.61581921 0.61694915 0.61694915 0.6519774\n",
      " 0.6519774  0.66666667 0.66666667 0.71525424 0.71525424 0.71977401\n",
      " 0.71977401 0.7480226  0.7480226  0.76723164 0.76723164 0.7740113\n",
      " 0.7740113  0.79887006 0.79887006 0.8440678  0.8440678  0.89152542\n",
      " 0.89152542 0.9039548  0.9039548  0.94915254 0.94915254 0.96384181\n",
      " 0.96384181 1.        ]\n",
      "TPR [0.         0.00757576 0.02272727 0.02272727 0.04545455 0.04545455\n",
      " 0.06060606 0.06060606 0.06818182 0.06818182 0.07575758 0.07575758\n",
      " 0.08333333 0.08333333 0.09848485 0.09848485 0.10606061 0.10606061\n",
      " 0.11363636 0.11363636 0.12121212 0.12121212 0.14393939 0.14393939\n",
      " 0.15151515 0.15151515 0.17424242 0.17424242 0.18181818 0.18181818\n",
      " 0.18939394 0.18939394 0.1969697  0.1969697  0.21212121 0.21212121\n",
      " 0.22727273 0.22727273 0.24242424 0.24242424 0.25       0.25\n",
      " 0.25757576 0.25757576 0.26515152 0.26515152 0.27272727 0.27272727\n",
      " 0.28030303 0.28030303 0.28787879 0.28787879 0.31060606 0.31060606\n",
      " 0.32575758 0.32575758 0.33333333 0.33333333 0.34090909 0.34090909\n",
      " 0.34848485 0.34848485 0.35606061 0.35606061 0.36363636 0.36363636\n",
      " 0.37121212 0.37121212 0.37878788 0.37878788 0.38636364 0.38636364\n",
      " 0.40151515 0.40151515 0.40909091 0.40909091 0.41666667 0.41666667\n",
      " 0.42424242 0.42424242 0.43181818 0.43181818 0.43939394 0.43939394\n",
      " 0.45454545 0.45454545 0.46212121 0.46212121 0.46969697 0.46969697\n",
      " 0.47727273 0.47727273 0.5        0.5        0.50757576 0.50757576\n",
      " 0.52272727 0.52272727 0.53030303 0.53030303 0.53787879 0.53787879\n",
      " 0.54545455 0.54545455 0.5530303  0.5530303  0.56060606 0.56060606\n",
      " 0.56818182 0.56818182 0.57575758 0.57575758 0.58333333 0.58333333\n",
      " 0.59090909 0.59090909 0.59848485 0.59848485 0.62121212 0.62121212\n",
      " 0.62878788 0.62878788 0.63636364 0.63636364 0.64393939 0.64393939\n",
      " 0.65151515 0.65151515 0.65909091 0.65909091 0.66666667 0.66666667\n",
      " 0.67424242 0.67424242 0.68181818 0.68181818 0.68939394 0.68939394\n",
      " 0.6969697  0.6969697  0.70454545 0.70454545 0.71212121 0.71212121\n",
      " 0.71969697 0.71969697 0.72727273 0.72727273 0.73484848 0.73484848\n",
      " 0.74242424 0.74242424 0.75       0.75       0.75757576 0.75757576\n",
      " 0.76515152 0.76515152 0.77272727 0.77272727 0.78030303 0.78030303\n",
      " 0.78787879 0.78787879 0.79545455 0.79545455 0.8030303  0.8030303\n",
      " 0.81060606 0.81060606 0.81818182 0.81818182 0.83333333 0.83333333\n",
      " 0.84090909 0.84090909 0.84848485 0.84848485 0.86363636 0.86363636\n",
      " 0.87121212 0.87121212 0.87878788 0.87878788 0.88636364 0.88636364\n",
      " 0.89393939 0.89393939 0.90151515 0.90151515 0.90909091 0.90909091\n",
      " 0.91666667 0.91666667 0.92424242 0.92424242 0.93181818 0.93181818\n",
      " 0.93939394 0.93939394 0.9469697  0.9469697  0.95454545 0.95454545\n",
      " 0.96212121 0.96212121 0.96969697 0.96969697 0.97727273 0.97727273\n",
      " 1.         1.        ]\n",
      "thresholds [1.84889359 0.84889359 0.7692356  0.76201847 0.7517865  0.74168305\n",
      " 0.73052119 0.7132574  0.70771683 0.68739263 0.68699462 0.68547896\n",
      " 0.68515938 0.66846611 0.66733269 0.66440354 0.6626692  0.65126351\n",
      " 0.65089949 0.64835359 0.64832979 0.64507628 0.64075241 0.63666723\n",
      " 0.63661524 0.6319494  0.6285245  0.62852188 0.62799003 0.62768447\n",
      " 0.62748929 0.62336801 0.6232902  0.62178284 0.62154533 0.62146331\n",
      " 0.620257   0.61868807 0.61741425 0.61522791 0.61394172 0.61271502\n",
      " 0.61245957 0.60849734 0.60814443 0.60735027 0.60708068 0.60650337\n",
      " 0.60564316 0.59864705 0.59737143 0.59557949 0.59539857 0.59524896\n",
      " 0.59516092 0.59414292 0.59315587 0.59298402 0.59230988 0.58971806\n",
      " 0.588961   0.58895675 0.58871032 0.58482032 0.58374425 0.58316941\n",
      " 0.58132709 0.57473752 0.57434227 0.56174008 0.5610496  0.5582718\n",
      " 0.55593991 0.5540451  0.55342219 0.5534009  0.55327896 0.55240156\n",
      " 0.5523463  0.54889872 0.54880948 0.54033234 0.54018098 0.53800974\n",
      " 0.53702183 0.53480142 0.53335539 0.52261172 0.52218944 0.51810754\n",
      " 0.51761425 0.51702956 0.51486811 0.51388443 0.5136345  0.51304532\n",
      " 0.5127572  0.51025211 0.51019498 0.50977547 0.5095003  0.5064649\n",
      " 0.50625204 0.50475448 0.504511   0.50337997 0.5032618  0.50115543\n",
      " 0.49992298 0.49988736 0.49887215 0.49752283 0.49751917 0.49439495\n",
      " 0.49434836 0.49333837 0.49311577 0.48946524 0.48837716 0.48743849\n",
      " 0.48727443 0.48709838 0.48658927 0.48282214 0.48239838 0.4823357\n",
      " 0.48207962 0.47849953 0.47726875 0.47397433 0.47385165 0.47318465\n",
      " 0.47303481 0.46599027 0.46594773 0.46591253 0.46582924 0.46397763\n",
      " 0.46154042 0.46140446 0.46116645 0.45317981 0.45313049 0.44483135\n",
      " 0.44482698 0.43822701 0.43808937 0.43742945 0.43660684 0.43342934\n",
      " 0.43341104 0.42520585 0.42512996 0.42201902 0.42194224 0.42147621\n",
      " 0.42055532 0.41439242 0.41409895 0.41073421 0.41039712 0.41014598\n",
      " 0.41014561 0.4067689  0.40656275 0.40629407 0.40519    0.4051653\n",
      " 0.40480513 0.40216102 0.40126313 0.39695822 0.39658957 0.3952174\n",
      " 0.39515199 0.39204028 0.39172934 0.38980782 0.38857176 0.3846847\n",
      " 0.38388423 0.37475633 0.37470921 0.37466293 0.37457375 0.36356094\n",
      " 0.36311317 0.35923362 0.35919246 0.34245407 0.34163823 0.34059355\n",
      " 0.34038953 0.331828   0.33161359 0.31938305 0.319121   0.3169954\n",
      " 0.31695768 0.30766075 0.3074411  0.28328184 0.28246431 0.25656494\n",
      " 0.25616814 0.24531665 0.24393799 0.20573609 0.20534379 0.18530178\n",
      " 0.18203855 0.11670011]\n"
     ]
    }
   ],
   "source": [
    "fpr6, tpr6, thresholds6 = metrics.roc_curve(Y_test, ETC_Proba_score_positive_class, pos_label=1)\n",
    "print(\"FPR\",fpr6)\n",
    "print(\"TPR\",tpr6)\n",
    "print(\"thresholds\",thresholds6)"
   ]
  },
  {
   "cell_type": "code",
   "execution_count": 118,
   "id": "da510686",
   "metadata": {},
   "outputs": [
    {
     "name": "stdout",
     "output_type": "stream",
     "text": [
      "AUC SCORE: 0.7099811676082862\n"
     ]
    }
   ],
   "source": [
    "from sklearn.metrics import roc_auc_score\n",
    "ETC_auc_score = roc_auc_score(Y_test, ETC_Proba_score_positive_class)\n",
    "print(\"AUC SCORE:\",ETC_auc_score)"
   ]
  },
  {
   "cell_type": "code",
   "execution_count": 119,
   "id": "d21786f6",
   "metadata": {},
   "outputs": [
    {
     "data": {
      "image/png": "[encoded data removed]",
      "text/plain": [
       "<Figure size 576x396 with 1 Axes>"
      ]
     },
     "metadata": {},
     "output_type": "display_data"
    }
   ],
   "source": [
    "plt.style.use('seaborn')\n",
    "plt.plot(fpr6, tpr6, linestyle='--',color='red', label='Extra Tree Classifier')\n",
    "plt.plot([0, 1], [0, 1], linestyle='--', label='No Skill')\n",
    "plt.title('ROC curve')\n",
    "plt.xlabel('False Positive Rate')\n",
    "plt.ylabel('True Positive rate')\n",
    "plt.legend(loc='best')\n",
    "plt.savefig('ROC', dpi=300)\n",
    "plt.show()"
   ]
  },
  {
   "cell_type": "markdown",
   "id": "2a043b07",
   "metadata": {},
   "source": [
    "# ADA BOOSTING"
   ]
  },
  {
   "cell_type": "code",
   "execution_count": 120,
   "id": "58bb4976",
   "metadata": {},
   "outputs": [],
   "source": [
    "from sklearn.ensemble import AdaBoostClassifier\n",
    "ADA_param_grid = {'algorithm': ['SAMME', 'SAMME.R'],\n",
    "                  'n_estimators' : [50,100]\n",
    "                 }\n",
    "ADA = GridSearchCV(AdaBoostClassifier(DecisionTreeClassifier(max_depth= 1)),\n",
    "                         ADA_param_grid)"
   ]
  },
  {
   "cell_type": "code",
   "execution_count": 121,
   "id": "ef4cd866",
   "metadata": {},
   "outputs": [
    {
     "data": {
      "text/plain": [
       "GridSearchCV(estimator=AdaBoostClassifier(base_estimator=DecisionTreeClassifier(max_depth=1)),\n",
       "             param_grid={'algorithm': ['SAMME', 'SAMME.R'],\n",
       "                         'n_estimators': [50, 100]})"
      ]
     },
     "execution_count": 121,
     "metadata": {},
     "output_type": "execute_result"
    }
   ],
   "source": [
    "ADA.fit(X_train_smote,Y_train_smote)"
   ]
  },
  {
   "cell_type": "code",
   "execution_count": 122,
   "id": "12c5c85c",
   "metadata": {},
   "outputs": [
    {
     "data": {
      "text/plain": [
       "{'algorithm': 'SAMME.R', 'n_estimators': 100}"
      ]
     },
     "execution_count": 122,
     "metadata": {},
     "output_type": "execute_result"
    }
   ],
   "source": [
    "ADA.best_params_"
   ]
  },
  {
   "cell_type": "code",
   "execution_count": 123,
   "id": "5d312d6e",
   "metadata": {},
   "outputs": [
    {
     "data": {
      "text/plain": [
       "AdaBoostClassifier(base_estimator=DecisionTreeClassifier(max_depth=1),\n",
       "                   n_estimators=100)"
      ]
     },
     "execution_count": 123,
     "metadata": {},
     "output_type": "execute_result"
    }
   ],
   "source": [
    "ADA.best_estimator_"
   ]
  },
  {
   "cell_type": "code",
   "execution_count": 124,
   "id": "7d7d8055",
   "metadata": {},
   "outputs": [
    {
     "name": "stdout",
     "output_type": "stream",
     "text": [
      "ADA Boosting Training Accuracy: 0.7383059418457648\n",
      "ADA Bosting Testing Accuracy: 0.7059980334316618\n"
     ]
    }
   ],
   "source": [
    "ADA_grid_ytrain_pred = ADA.predict(X_train)\n",
    "print(\"ADA Boosting Training Accuracy:\",accuracy_score(Y_train, ADA_grid_ytrain_pred))\n",
    "ADA_grid_y_pred = ADA.predict(X_test)\n",
    "print(\"ADA Bosting Testing Accuracy:\",accuracy_score(Y_test, ADA_grid_y_pred))"
   ]
  },
  {
   "cell_type": "code",
   "execution_count": 125,
   "id": "0511487b",
   "metadata": {},
   "outputs": [
    {
     "name": "stdout",
     "output_type": "stream",
     "text": [
      "After cross validation the accuracy in ADA Classifier is: 0.7475145149305424\n"
     ]
    }
   ],
   "source": [
    "from sklearn.model_selection import cross_val_score\n",
    "ADA_CVS_TRAIN = cross_val_score(estimator = ADA, X = X_train_smote, y = Y_train_smote, cv = 10)\n",
    "print(\"After cross validation the accuracy in ADA Classifier is:\",ADA_CVS_TRAIN.mean())"
   ]
  },
  {
   "cell_type": "code",
   "execution_count": 126,
   "id": "2b1a8c14",
   "metadata": {},
   "outputs": [
    {
     "data": {
      "image/png": "[encoded data removed]",
      "text/plain": [
       "<Figure size 576x396 with 2 Axes>"
      ]
     },
     "metadata": {},
     "output_type": "display_data"
    }
   ],
   "source": [
    "ADA_CM = confusion_matrix(Y_test, ADA_grid_y_pred)\n",
    "ax= plt.subplot()\n",
    "sns.heatmap(ADA_CM, annot=True, fmt='g',cmap='rocket_r');#cmap='rocket_r' for color inverse of the scale\n",
    "ax.set_xlabel('Predicted labels');\n",
    "ax.set_ylabel('True labels'); \n",
    "ax.set_title('Confusion Matrix'); "
   ]
  },
  {
   "cell_type": "code",
   "execution_count": 127,
   "id": "b5b3edd5",
   "metadata": {},
   "outputs": [
    {
     "name": "stdout",
     "output_type": "stream",
     "text": [
      "              precision    recall  f1-score   support\n",
      "\n",
      "           0       0.91      0.74      0.81       885\n",
      "           1       0.22      0.49      0.30       132\n",
      "\n",
      "    accuracy                           0.71      1017\n",
      "   macro avg       0.56      0.62      0.56      1017\n",
      "weighted avg       0.82      0.71      0.75      1017\n",
      "\n"
     ]
    }
   ],
   "source": [
    "print(classification_report(Y_test,ADA_grid_y_pred))"
   ]
  },
  {
   "cell_type": "code",
   "execution_count": 128,
   "id": "6d42fba1",
   "metadata": {},
   "outputs": [
    {
     "data": {
      "text/plain": [
       "array([0.49603102, 0.50455992, 0.50106088, ..., 0.49751194, 0.49485158,\n",
       "       0.50350368])"
      ]
     },
     "execution_count": 128,
     "metadata": {},
     "output_type": "execute_result"
    }
   ],
   "source": [
    "from sklearn import metrics\n",
    "ADA_Proba_score_positive_class= ADA.predict_proba(X_test)[:,1]\n",
    "ADA_Proba_score_positive_class "
   ]
  },
  {
   "cell_type": "code",
   "execution_count": 129,
   "id": "9340b3b6",
   "metadata": {},
   "outputs": [
    {
     "name": "stdout",
     "output_type": "stream",
     "text": [
      "FPR [0.         0.         0.         0.00338983 0.00338983 0.00451977\n",
      " 0.00451977 0.01129944 0.01129944 0.02033898 0.02033898 0.02146893\n",
      " 0.02146893 0.02259887 0.02259887 0.02485876 0.02485876 0.03050847\n",
      " 0.03050847 0.03163842 0.03163842 0.04067797 0.04067797 0.04180791\n",
      " 0.04180791 0.05762712 0.05762712 0.06101695 0.06101695 0.06666667\n",
      " 0.06666667 0.07570621 0.07570621 0.08022599 0.08022599 0.08361582\n",
      " 0.08361582 0.08587571 0.08587571 0.09039548 0.09039548 0.10282486\n",
      " 0.10282486 0.10621469 0.10621469 0.10960452 0.10960452 0.11073446\n",
      " 0.11073446 0.11412429 0.11412429 0.12542373 0.12542373 0.12768362\n",
      " 0.12768362 0.14463277 0.14463277 0.15254237 0.15254237 0.15367232\n",
      " 0.15367232 0.15706215 0.15706215 0.16158192 0.16158192 0.16723164\n",
      " 0.16723164 0.17062147 0.17062147 0.17288136 0.17288136 0.1740113\n",
      " 0.1740113  0.17514124 0.17514124 0.17627119 0.17627119 0.17740113\n",
      " 0.18870056 0.18870056 0.18983051 0.18983051 0.1920904  0.1920904\n",
      " 0.19322034 0.19435028 0.19435028 0.20112994 0.20112994 0.20225989\n",
      " 0.20225989 0.2079096  0.2079096  0.21694915 0.21694915 0.22259887\n",
      " 0.22259887 0.22711864 0.22711864 0.23615819 0.23615819 0.23728814\n",
      " 0.23728814 0.24632768 0.24632768 0.26440678 0.26440678 0.27118644\n",
      " 0.27118644 0.30169492 0.30169492 0.31299435 0.31412429 0.31638418\n",
      " 0.31638418 0.33446328 0.33446328 0.35367232 0.35367232 0.36836158\n",
      " 0.36836158 0.37062147 0.37062147 0.3740113  0.3740113  0.37514124\n",
      " 0.37514124 0.37966102 0.37966102 0.38079096 0.38079096 0.38305085\n",
      " 0.38305085 0.40112994 0.40112994 0.4079096  0.4079096  0.41468927\n",
      " 0.41468927 0.41694915 0.41694915 0.43163842 0.43163842 0.4440678\n",
      " 0.4440678  0.4519774  0.4519774  0.45423729 0.45423729 0.46666667\n",
      " 0.46666667 0.4700565  0.4700565  0.47344633 0.47344633 0.47570621\n",
      " 0.47570621 0.48022599 0.48248588 0.48926554 0.48926554 0.4960452\n",
      " 0.4960452  0.51412429 0.51412429 0.52090395 0.52090395 0.52429379\n",
      " 0.52429379 0.54011299 0.54011299 0.54576271 0.54576271 0.57062147\n",
      " 0.57062147 0.5819209  0.58418079 0.59435028 0.59435028 0.60677966\n",
      " 0.60677966 0.61581921 0.61581921 0.62372881 0.62372881 0.66666667\n",
      " 0.66666667 0.67457627 0.67457627 0.67909605 0.67909605 0.68248588\n",
      " 0.68248588 0.69265537 0.69265537 0.69943503 0.69943503 0.71751412\n",
      " 0.71977401 0.72316384 0.72316384 0.72768362 0.72768362 0.76158192\n",
      " 0.76158192 0.76497175 0.76497175 0.80112994 0.80112994 0.81129944\n",
      " 0.81129944 0.81468927 0.81694915 0.84293785 0.84293785 0.89265537\n",
      " 0.89265537 0.92542373 0.92542373 0.97514124 0.97740113 0.98983051\n",
      " 0.98983051 0.99548023 0.99548023 1.        ]\n",
      "TPR [0.         0.00757576 0.03030303 0.03030303 0.03787879 0.03787879\n",
      " 0.04545455 0.04545455 0.0530303  0.0530303  0.06060606 0.06060606\n",
      " 0.06818182 0.06818182 0.07575758 0.07575758 0.08333333 0.08333333\n",
      " 0.09090909 0.09090909 0.10606061 0.10606061 0.11363636 0.11363636\n",
      " 0.12121212 0.12121212 0.12878788 0.12878788 0.14393939 0.14393939\n",
      " 0.16666667 0.16666667 0.17424242 0.17424242 0.18939394 0.18939394\n",
      " 0.1969697  0.1969697  0.20454545 0.20454545 0.21212121 0.21212121\n",
      " 0.21969697 0.21969697 0.22727273 0.22727273 0.23484848 0.23484848\n",
      " 0.24242424 0.24242424 0.25       0.25       0.25757576 0.25757576\n",
      " 0.26515152 0.26515152 0.28030303 0.28030303 0.28787879 0.28787879\n",
      " 0.29545455 0.29545455 0.3030303  0.3030303  0.31818182 0.31818182\n",
      " 0.32575758 0.32575758 0.33333333 0.33333333 0.34090909 0.34090909\n",
      " 0.34848485 0.34848485 0.35606061 0.35606061 0.36363636 0.37121212\n",
      " 0.37121212 0.37878788 0.37878788 0.38636364 0.38636364 0.39393939\n",
      " 0.40151515 0.40151515 0.41666667 0.41666667 0.42424242 0.42424242\n",
      " 0.43939394 0.43939394 0.4469697  0.4469697  0.45454545 0.45454545\n",
      " 0.46212121 0.46212121 0.46969697 0.46969697 0.47727273 0.47727273\n",
      " 0.48484848 0.48484848 0.49242424 0.49242424 0.50757576 0.50757576\n",
      " 0.51515152 0.51515152 0.53030303 0.53030303 0.53787879 0.53787879\n",
      " 0.54545455 0.54545455 0.5530303  0.5530303  0.56060606 0.56060606\n",
      " 0.57575758 0.57575758 0.58333333 0.58333333 0.59090909 0.59090909\n",
      " 0.59848485 0.59848485 0.60606061 0.60606061 0.61363636 0.61363636\n",
      " 0.62121212 0.62121212 0.62878788 0.62878788 0.63636364 0.63636364\n",
      " 0.65151515 0.65151515 0.65909091 0.65909091 0.66666667 0.66666667\n",
      " 0.67424242 0.67424242 0.68939394 0.68939394 0.6969697  0.6969697\n",
      " 0.70454545 0.70454545 0.71212121 0.71212121 0.73484848 0.73484848\n",
      " 0.74242424 0.74242424 0.74242424 0.74242424 0.75757576 0.75757576\n",
      " 0.76515152 0.76515152 0.77272727 0.77272727 0.78030303 0.78030303\n",
      " 0.78787879 0.78787879 0.79545455 0.79545455 0.8030303  0.8030303\n",
      " 0.81060606 0.81060606 0.81060606 0.81060606 0.82575758 0.82575758\n",
      " 0.83333333 0.83333333 0.84090909 0.84090909 0.84848485 0.84848485\n",
      " 0.85606061 0.85606061 0.86363636 0.86363636 0.87121212 0.87121212\n",
      " 0.87878788 0.87878788 0.89393939 0.89393939 0.90151515 0.90151515\n",
      " 0.90151515 0.90151515 0.90909091 0.90909091 0.91666667 0.91666667\n",
      " 0.92424242 0.92424242 0.93181818 0.93181818 0.93939394 0.93939394\n",
      " 0.9469697  0.9469697  0.9469697  0.9469697  0.95454545 0.95454545\n",
      " 0.96212121 0.96212121 0.97727273 0.97727273 0.97727273 0.97727273\n",
      " 0.99242424 0.99242424 1.         1.        ]\n",
      "thresholds [1.51350897 0.51350897 0.50702201 0.50673254 0.50668543 0.50635092\n",
      " 0.50625786 0.50492399 0.50488861 0.50451284 0.50438536 0.50436149\n",
      " 0.50428124 0.50427663 0.50423842 0.50410727 0.5040831  0.50398002\n",
      " 0.50393238 0.50389132 0.50386237 0.50357671 0.50355204 0.50350368\n",
      " 0.50347802 0.50305393 0.50303268 0.50294109 0.50276841 0.50264967\n",
      " 0.50261069 0.50241366 0.50236577 0.50232581 0.50228512 0.50221641\n",
      " 0.50220176 0.50215611 0.50215167 0.5020637  0.50205371 0.50191409\n",
      " 0.50191072 0.50185851 0.5018534  0.50183465 0.50182208 0.50178793\n",
      " 0.50177891 0.50174533 0.50173614 0.50158497 0.50158    0.50153004\n",
      " 0.50151914 0.50134201 0.50132041 0.50128163 0.50127907 0.50127162\n",
      " 0.5012546  0.50119675 0.50119227 0.50116554 0.50113785 0.50107067\n",
      " 0.50106088 0.50103534 0.50101194 0.50097516 0.50097023 0.50096758\n",
      " 0.50092966 0.50092942 0.50092914 0.5009087  0.50088986 0.50088701\n",
      " 0.50073385 0.50070143 0.50069749 0.50069339 0.50066499 0.5006485\n",
      " 0.50064171 0.50063643 0.50059365 0.50057045 0.50054883 0.50052004\n",
      " 0.500508   0.50045612 0.50043356 0.50039148 0.50038617 0.50035834\n",
      " 0.50034978 0.50033424 0.50032884 0.50024281 0.50023872 0.5002253\n",
      " 0.50021132 0.50015276 0.50014138 0.4999864  0.49995241 0.49990762\n",
      " 0.49989686 0.4996911  0.49968257 0.49957346 0.49955686 0.49954201\n",
      " 0.49952871 0.49936223 0.49933683 0.49915646 0.49915116 0.49904919\n",
      " 0.49904319 0.49902488 0.49902186 0.49901328 0.49899999 0.49898576\n",
      " 0.49897516 0.49891536 0.49891284 0.49891232 0.49891109 0.49890296\n",
      " 0.49888829 0.49878776 0.49878281 0.49874831 0.49874817 0.49867142\n",
      " 0.49865498 0.49864124 0.49863781 0.49853474 0.49853246 0.49842651\n",
      " 0.49841653 0.49835317 0.4983491  0.49834212 0.498338   0.4982484\n",
      " 0.49823936 0.49822254 0.49821548 0.49819731 0.49815173 0.49813205\n",
      " 0.4981274  0.49809801 0.49809663 0.49805845 0.49799363 0.49791817\n",
      " 0.49791728 0.49777634 0.49777345 0.49773545 0.49770783 0.49769782\n",
      " 0.4976968  0.49763677 0.49763612 0.49760137 0.4975915  0.49737715\n",
      " 0.49737092 0.49729316 0.49728658 0.49720357 0.49719751 0.49711017\n",
      " 0.49711007 0.49705682 0.49704532 0.49696406 0.49695659 0.49663936\n",
      " 0.49660562 0.49653749 0.49652756 0.49643034 0.49642317 0.49641661\n",
      " 0.49641278 0.49631542 0.49629246 0.49620562 0.49617691 0.49600451\n",
      " 0.49599748 0.49597771 0.49596857 0.4958896  0.49588038 0.49549188\n",
      " 0.49547327 0.49543133 0.49542598 0.49507601 0.4950737  0.49488652\n",
      " 0.49488114 0.4948566  0.49485258 0.49450858 0.49450829 0.49364191\n",
      " 0.49360966 0.49288581 0.49284648 0.49074598 0.49072765 0.49002261\n",
      " 0.48985983 0.4884118  0.4882274  0.48345209]\n"
     ]
    }
   ],
   "source": [
    "fpr7, tpr7, thresholds7 = metrics.roc_curve(Y_test, ADA_Proba_score_positive_class, pos_label=1)\n",
    "print(\"FPR\",fpr7)\n",
    "print(\"TPR\",tpr7)\n",
    "print(\"thresholds\",thresholds7)"
   ]
  },
  {
   "cell_type": "code",
   "execution_count": 130,
   "id": "7dcfd3c9",
   "metadata": {},
   "outputs": [
    {
     "name": "stdout",
     "output_type": "stream",
     "text": [
      "AUC SCORE: 0.6658662900188326\n"
     ]
    }
   ],
   "source": [
    "from sklearn.metrics import roc_auc_score\n",
    "ADA_auc_score = roc_auc_score(Y_test, ADA_Proba_score_positive_class)\n",
    "print(\"AUC SCORE:\",ADA_auc_score)"
   ]
  },
  {
   "cell_type": "code",
   "execution_count": 131,
   "id": "cd78bf4d",
   "metadata": {},
   "outputs": [
    {
     "data": {
      "image/png": "[encoded data removed]",
      "text/plain": [
       "<Figure size 576x396 with 1 Axes>"
      ]
     },
     "metadata": {},
     "output_type": "display_data"
    }
   ],
   "source": [
    "plt.style.use('seaborn')\n",
    "plt.plot(fpr7, tpr7, linestyle='--',color='red', label='ADA Boost Classifier')\n",
    "plt.plot([0, 1], [0, 1], linestyle='--', label='No Skill')\n",
    "plt.title('ROC curve')\n",
    "plt.xlabel('False Positive Rate')\n",
    "plt.ylabel('True Positive rate')\n",
    "plt.legend(loc='best')\n",
    "plt.savefig('ROC', dpi=300)\n",
    "plt.show()"
   ]
  },
  {
   "cell_type": "markdown",
   "id": "50671e69",
   "metadata": {},
   "source": [
    "# Gradient Boosting"
   ]
  },
  {
   "cell_type": "code",
   "execution_count": 132,
   "id": "d5d9c3ed",
   "metadata": {},
   "outputs": [],
   "source": [
    "from sklearn.ensemble import GradientBoostingClassifier\n",
    "GBC_param_grid = {'n_estimators': [10,80,200,800,2000,5000], \n",
    "                  'max_features': ['sqrt', 'log2'],\n",
    "                  'max_depth': [10,20,30,40,50,100],\n",
    "                  'min_samples_split': [2,5,10,20],\n",
    "                  'min_samples_leaf': [1,2,7,15],\n",
    "                  'loss': ['deviance', 'exponential'],\n",
    "                  'learning_rate':[0.01,0.1,0.5],\n",
    "                  'subsample':[0.7, 0.8,0.9, 1]} \n",
    "\n",
    "GBC = RandomizedSearchCV(GradientBoostingClassifier(),\n",
    "                        GBC_param_grid,\n",
    "                        n_jobs= -1)"
   ]
  },
  {
   "cell_type": "code",
   "execution_count": 133,
   "id": "c4e4cfcb",
   "metadata": {},
   "outputs": [
    {
     "data": {
      "text/plain": [
       "RandomizedSearchCV(estimator=GradientBoostingClassifier(), n_jobs=-1,\n",
       "                   param_distributions={'learning_rate': [0.01, 0.1, 0.5],\n",
       "                                        'loss': ['deviance', 'exponential'],\n",
       "                                        'max_depth': [10, 20, 30, 40, 50, 100],\n",
       "                                        'max_features': ['sqrt', 'log2'],\n",
       "                                        'min_samples_leaf': [1, 2, 7, 15],\n",
       "                                        'min_samples_split': [2, 5, 10, 20],\n",
       "                                        'n_estimators': [10, 80, 200, 800, 2000,\n",
       "                                                         5000],\n",
       "                                        'subsample': [0.7, 0.8, 0.9, 1]})"
      ]
     },
     "execution_count": 133,
     "metadata": {},
     "output_type": "execute_result"
    }
   ],
   "source": [
    "GBC.fit(X_train_smote,Y_train_smote)"
   ]
  },
  {
   "cell_type": "code",
   "execution_count": 134,
   "id": "9b347253",
   "metadata": {},
   "outputs": [
    {
     "data": {
      "text/plain": [
       "{'subsample': 0.9,\n",
       " 'n_estimators': 2000,\n",
       " 'min_samples_split': 10,\n",
       " 'min_samples_leaf': 1,\n",
       " 'max_features': 'log2',\n",
       " 'max_depth': 20,\n",
       " 'loss': 'deviance',\n",
       " 'learning_rate': 0.1}"
      ]
     },
     "execution_count": 134,
     "metadata": {},
     "output_type": "execute_result"
    }
   ],
   "source": [
    "GBC.best_params_"
   ]
  },
  {
   "cell_type": "code",
   "execution_count": 135,
   "id": "a949ca48",
   "metadata": {},
   "outputs": [
    {
     "data": {
      "text/plain": [
       "GradientBoostingClassifier(max_depth=20, max_features='log2',\n",
       "                           min_samples_split=10, n_estimators=2000,\n",
       "                           subsample=0.9)"
      ]
     },
     "execution_count": 135,
     "metadata": {},
     "output_type": "execute_result"
    }
   ],
   "source": [
    "GBC.best_estimator_"
   ]
  },
  {
   "cell_type": "code",
   "execution_count": 136,
   "id": "246f00dd",
   "metadata": {},
   "outputs": [
    {
     "name": "stdout",
     "output_type": "stream",
     "text": [
      "Gradient Boosting Training Accuracy: 1.0\n",
      "Gradient Boosting Testing Accuracy: 0.8308751229105211\n"
     ]
    }
   ],
   "source": [
    "GBC_grid_ytrain_pred = GBC.predict(X_train)\n",
    "print(\"Gradient Boosting Training Accuracy:\",accuracy_score(Y_train, GBC_grid_ytrain_pred))\n",
    "GBC_grid_y_pred = GBC.predict(X_test)\n",
    "print(\"Gradient Boosting Testing Accuracy:\",accuracy_score(Y_test, GBC_grid_y_pred))"
   ]
  },
  {
   "cell_type": "code",
   "execution_count": 137,
   "id": "a0d49ca4",
   "metadata": {},
   "outputs": [
    {
     "name": "stdout",
     "output_type": "stream",
     "text": [
      "After cross validation the accuracy in Gradient Boosting Classifier is: 0.9217780632485736\n"
     ]
    }
   ],
   "source": [
    "from sklearn.model_selection import cross_val_score\n",
    "GBC_CVS_TRAIN = cross_val_score(estimator = GBC, X = X_train_smote, y = Y_train_smote, cv = 10)\n",
    "print(\"After cross validation the accuracy in Gradient Boosting Classifier is:\",GBC_CVS_TRAIN.mean())"
   ]
  },
  {
   "cell_type": "code",
   "execution_count": 138,
   "id": "92fc6f08",
   "metadata": {},
   "outputs": [
    {
     "data": {
      "image/png": "[encoded data removed]",
      "text/plain": [
       "<Figure size 576x396 with 2 Axes>"
      ]
     },
     "metadata": {},
     "output_type": "display_data"
    }
   ],
   "source": [
    "GBC_CM = confusion_matrix(Y_test, GBC_grid_y_pred)\n",
    "ax= plt.subplot()\n",
    "sns.heatmap(GBC_CM, annot=True, fmt='g',cmap='rocket_r');#cmap='rocket_r' for color inverse of the scale\n",
    "ax.set_xlabel('Predicted labels');\n",
    "ax.set_ylabel('True labels'); \n",
    "ax.set_title('Confusion Matrix'); "
   ]
  },
  {
   "cell_type": "code",
   "execution_count": 139,
   "id": "cd768547",
   "metadata": {},
   "outputs": [
    {
     "name": "stdout",
     "output_type": "stream",
     "text": [
      "              precision    recall  f1-score   support\n",
      "\n",
      "           0       0.89      0.92      0.90       885\n",
      "           1       0.30      0.22      0.25       132\n",
      "\n",
      "    accuracy                           0.83      1017\n",
      "   macro avg       0.59      0.57      0.58      1017\n",
      "weighted avg       0.81      0.83      0.82      1017\n",
      "\n"
     ]
    }
   ],
   "source": [
    "print(classification_report(Y_test,GBC_grid_y_pred))"
   ]
  },
  {
   "cell_type": "code",
   "execution_count": 140,
   "id": "0ce10ff1",
   "metadata": {},
   "outputs": [
    {
     "data": {
      "text/plain": [
       "array([8.38464628e-07, 1.00750386e-03, 9.45247516e-02, ...,\n",
       "       2.52043823e-03, 2.27922572e-06, 2.44603701e-02])"
      ]
     },
     "execution_count": 140,
     "metadata": {},
     "output_type": "execute_result"
    }
   ],
   "source": [
    "from sklearn import metrics\n",
    "GBC_Proba_score_positive_class= GBC.predict_proba(X_test)[:,1]\n",
    "GBC_Proba_score_positive_class "
   ]
  },
  {
   "cell_type": "code",
   "execution_count": 141,
   "id": "7bd9cd46",
   "metadata": {},
   "outputs": [
    {
     "name": "stdout",
     "output_type": "stream",
     "text": [
      "FPR [0.         0.         0.00112994 0.00112994 0.00338983 0.00338983\n",
      " 0.0079096  0.0079096  0.00903955 0.00903955 0.01355932 0.01355932\n",
      " 0.01468927 0.01468927 0.0180791  0.0180791  0.02485876 0.02485876\n",
      " 0.0259887  0.0259887  0.02824859 0.02824859 0.04519774 0.04519774\n",
      " 0.04745763 0.04745763 0.05084746 0.05084746 0.05423729 0.05423729\n",
      " 0.06101695 0.06101695 0.06214689 0.06214689 0.06553672 0.06553672\n",
      " 0.06779661 0.06779661 0.0700565  0.0700565  0.07457627 0.07457627\n",
      " 0.11299435 0.11299435 0.11525424 0.11525424 0.12316384 0.12316384\n",
      " 0.12429379 0.12429379 0.12881356 0.12881356 0.13220339 0.13220339\n",
      " 0.13333333 0.13333333 0.13672316 0.13672316 0.13898305 0.13898305\n",
      " 0.14689266 0.14689266 0.16045198 0.16045198 0.16497175 0.16497175\n",
      " 0.16949153 0.16949153 0.17514124 0.17514124 0.18531073 0.18531073\n",
      " 0.19096045 0.19096045 0.2        0.2        0.20112994 0.20112994\n",
      " 0.20564972 0.20564972 0.20677966 0.20677966 0.21129944 0.21129944\n",
      " 0.21581921 0.21581921 0.22824859 0.22824859 0.23502825 0.23502825\n",
      " 0.23954802 0.23954802 0.24632768 0.24632768 0.24858757 0.24858757\n",
      " 0.26327684 0.26327684 0.26440678 0.26440678 0.2700565  0.2700565\n",
      " 0.27118644 0.27118644 0.28813559 0.28813559 0.29378531 0.29378531\n",
      " 0.3039548  0.3039548  0.30960452 0.30960452 0.32090395 0.32090395\n",
      " 0.3220339  0.3220339  0.32542373 0.32542373 0.32768362 0.32768362\n",
      " 0.33559322 0.33559322 0.34915254 0.34915254 0.36271186 0.36271186\n",
      " 0.38644068 0.38644068 0.38870056 0.38870056 0.39096045 0.39096045\n",
      " 0.39661017 0.39661017 0.39774011 0.39774011 0.40112994 0.40112994\n",
      " 0.40903955 0.40903955 0.42711864 0.42711864 0.42824859 0.42824859\n",
      " 0.4519774  0.4519774  0.50508475 0.50508475 0.50734463 0.50734463\n",
      " 0.51186441 0.51186441 0.5220339  0.5220339  0.53559322 0.53559322\n",
      " 0.54689266 0.54689266 0.55367232 0.55367232 0.56158192 0.56158192\n",
      " 0.56497175 0.56497175 0.56836158 0.56836158 0.57175141 0.57175141\n",
      " 0.62259887 0.62259887 0.63163842 0.63163842 0.64067797 0.64067797\n",
      " 0.66327684 0.66327684 0.6700565  0.6700565  0.67909605 0.67909605\n",
      " 0.68361582 0.68361582 0.68813559 0.68813559 0.69943503 0.69943503\n",
      " 0.70621469 0.70621469 0.71186441 0.71186441 0.72655367 0.72655367\n",
      " 0.72881356 0.72881356 0.7299435  0.7299435  0.73333333 0.73333333\n",
      " 0.74124294 0.74124294 0.74915254 0.74915254 0.75028249 0.75028249\n",
      " 0.79774011 0.79774011 0.81129944 0.81129944 0.81242938 0.81242938\n",
      " 0.81468927 0.81468927 0.87570621 0.87570621 0.89265537 0.89265537\n",
      " 0.91977401 0.91977401 0.92655367 0.92655367 0.93785311 0.93785311\n",
      " 0.94124294 0.94124294 0.94463277 0.94463277 0.98983051 0.98983051\n",
      " 1.        ]\n",
      "TPR [0.         0.00757576 0.00757576 0.01515152 0.01515152 0.04545455\n",
      " 0.04545455 0.0530303  0.0530303  0.06060606 0.06060606 0.08333333\n",
      " 0.08333333 0.09090909 0.09090909 0.09848485 0.09848485 0.11363636\n",
      " 0.11363636 0.12878788 0.12878788 0.13636364 0.13636364 0.14393939\n",
      " 0.14393939 0.15151515 0.15151515 0.15909091 0.15909091 0.16666667\n",
      " 0.16666667 0.17424242 0.17424242 0.18181818 0.18181818 0.1969697\n",
      " 0.1969697  0.20454545 0.20454545 0.21212121 0.21212121 0.21969697\n",
      " 0.21969697 0.22727273 0.22727273 0.23484848 0.23484848 0.24242424\n",
      " 0.24242424 0.25       0.25       0.25757576 0.25757576 0.26515152\n",
      " 0.26515152 0.28030303 0.28030303 0.28787879 0.28787879 0.29545455\n",
      " 0.29545455 0.3030303  0.3030303  0.31060606 0.31060606 0.33333333\n",
      " 0.33333333 0.34090909 0.34090909 0.34848485 0.34848485 0.35606061\n",
      " 0.35606061 0.36363636 0.36363636 0.37121212 0.37121212 0.37878788\n",
      " 0.37878788 0.38636364 0.38636364 0.39393939 0.39393939 0.40909091\n",
      " 0.40909091 0.41666667 0.41666667 0.42424242 0.42424242 0.43181818\n",
      " 0.43181818 0.43939394 0.43939394 0.4469697  0.4469697  0.45454545\n",
      " 0.45454545 0.46212121 0.46212121 0.46969697 0.46969697 0.47727273\n",
      " 0.47727273 0.48484848 0.48484848 0.49242424 0.49242424 0.51515152\n",
      " 0.51515152 0.52272727 0.52272727 0.53030303 0.53030303 0.54545455\n",
      " 0.54545455 0.5530303  0.5530303  0.56060606 0.56060606 0.56818182\n",
      " 0.56818182 0.57575758 0.57575758 0.59090909 0.59090909 0.59848485\n",
      " 0.59848485 0.60606061 0.60606061 0.61363636 0.61363636 0.62121212\n",
      " 0.62121212 0.62878788 0.62878788 0.63636364 0.63636364 0.64393939\n",
      " 0.64393939 0.65151515 0.65151515 0.65909091 0.65909091 0.66666667\n",
      " 0.66666667 0.67424242 0.67424242 0.68181818 0.68181818 0.68939394\n",
      " 0.68939394 0.6969697  0.6969697  0.70454545 0.70454545 0.71212121\n",
      " 0.71212121 0.71969697 0.71969697 0.72727273 0.72727273 0.73484848\n",
      " 0.73484848 0.74242424 0.74242424 0.75       0.75       0.75757576\n",
      " 0.75757576 0.76515152 0.76515152 0.77272727 0.77272727 0.78030303\n",
      " 0.78030303 0.78787879 0.78787879 0.79545455 0.79545455 0.8030303\n",
      " 0.8030303  0.81060606 0.81060606 0.81818182 0.81818182 0.82575758\n",
      " 0.82575758 0.83333333 0.83333333 0.84090909 0.84090909 0.84848485\n",
      " 0.84848485 0.85606061 0.85606061 0.86363636 0.86363636 0.87121212\n",
      " 0.87121212 0.87878788 0.87878788 0.89393939 0.89393939 0.90151515\n",
      " 0.90151515 0.90909091 0.90909091 0.92424242 0.92424242 0.93181818\n",
      " 0.93181818 0.93939394 0.93939394 0.9469697  0.9469697  0.95454545\n",
      " 0.95454545 0.96212121 0.96212121 0.96969697 0.96969697 0.97727273\n",
      " 0.97727273 0.98484848 0.98484848 0.99242424 0.99242424 1.\n",
      " 1.        ]\n",
      "thresholds [1.99999997e+00 9.99999974e-01 9.99996335e-01 9.99986301e-01\n",
      " 9.99975807e-01 9.99855322e-01 9.99349132e-01 9.99078909e-01\n",
      " 9.98948875e-01 9.98736664e-01 9.98135188e-01 9.97065227e-01\n",
      " 9.96768735e-01 9.96267447e-01 9.95094729e-01 9.92938584e-01\n",
      " 9.89435220e-01 9.87418321e-01 9.86926637e-01 9.86335100e-01\n",
      " 9.80975915e-01 9.77898662e-01 8.92370495e-01 8.89580231e-01\n",
      " 8.53139815e-01 8.52354067e-01 8.38584676e-01 8.20951890e-01\n",
      " 8.07157183e-01 7.97962224e-01 7.70525284e-01 7.64342261e-01\n",
      " 7.53548909e-01 7.42261705e-01 7.22557706e-01 7.09793023e-01\n",
      " 6.92238181e-01 6.65657697e-01 6.50078841e-01 6.48223136e-01\n",
      " 5.85218534e-01 5.77585253e-01 2.22485757e-01 2.08027739e-01\n",
      " 1.82668692e-01 1.82050575e-01 1.72645545e-01 1.66107591e-01\n",
      " 1.65376795e-01 1.55684535e-01 1.37901712e-01 1.37049694e-01\n",
      " 1.27505644e-01 1.23214747e-01 1.22707799e-01 1.17533461e-01\n",
      " 1.12255071e-01 1.10863028e-01 1.06105946e-01 9.45247516e-02\n",
      " 8.49033239e-02 8.29449934e-02 4.78090415e-02 4.75249104e-02\n",
      " 4.41387511e-02 4.03561469e-02 3.25157417e-02 3.24618556e-02\n",
      " 2.95477148e-02 2.95060996e-02 2.37356564e-02 2.35770207e-02\n",
      " 2.13464388e-02 2.07339327e-02 1.75377382e-02 1.70342572e-02\n",
      " 1.67367447e-02 1.64115281e-02 1.59462862e-02 1.56030701e-02\n",
      " 1.54795993e-02 1.54244117e-02 1.38776169e-02 1.34738619e-02\n",
      " 1.17151493e-02 1.14066377e-02 8.29768638e-03 8.21272754e-03\n",
      " 7.37960033e-03 6.89280099e-03 6.28829120e-03 6.05398299e-03\n",
      " 4.90681461e-03 4.89676659e-03 4.48642041e-03 4.30234944e-03\n",
      " 3.24149582e-03 3.23253162e-03 3.22938116e-03 3.15551632e-03\n",
      " 3.08355520e-03 3.07558166e-03 3.04232124e-03 2.91331084e-03\n",
      " 2.23605681e-03 2.18118634e-03 1.80804361e-03 1.66719603e-03\n",
      " 1.47462448e-03 1.47423278e-03 1.33625219e-03 1.31373816e-03\n",
      " 1.11845943e-03 1.05253895e-03 1.00750386e-03 1.00296423e-03\n",
      " 9.49785061e-04 9.28876989e-04 9.02515708e-04 8.86610427e-04\n",
      " 7.92782263e-04 7.56127822e-04 5.68993005e-04 5.45692253e-04\n",
      " 4.48634016e-04 4.45040280e-04 3.00017043e-04 2.99619733e-04\n",
      " 2.89366172e-04 2.86138308e-04 2.84396371e-04 2.57264706e-04\n",
      " 2.45595420e-04 2.38647927e-04 2.38349659e-04 2.26191325e-04\n",
      " 1.85361486e-04 1.84763168e-04 1.75992191e-04 1.75896363e-04\n",
      " 1.20045977e-04 1.19838370e-04 1.19833315e-04 1.18397554e-04\n",
      " 6.20141254e-05 6.11908567e-05 2.18562762e-05 2.16996591e-05\n",
      " 2.05913102e-05 2.04316298e-05 2.00275366e-05 2.00243968e-05\n",
      " 1.72249843e-05 1.68211604e-05 1.30772681e-05 1.27469000e-05\n",
      " 1.13003327e-05 1.12802165e-05 1.02089782e-05 9.96563745e-06\n",
      " 9.13032370e-06 8.99446801e-06 8.12289407e-06 7.98132379e-06\n",
      " 7.76459882e-06 7.64847600e-06 7.50350146e-06 7.45932942e-06\n",
      " 3.58436864e-06 3.44512278e-06 2.94734442e-06 2.91325140e-06\n",
      " 2.57179660e-06 2.54659487e-06 1.71949122e-06 1.65081379e-06\n",
      " 1.49156727e-06 1.47965845e-06 1.26865765e-06 1.23765718e-06\n",
      " 9.89987500e-07 9.86405571e-07 8.97083739e-07 8.77530967e-07\n",
      " 7.47074022e-07 7.39738020e-07 6.21623920e-07 6.18204107e-07\n",
      " 5.52594156e-07 5.51718148e-07 3.97703627e-07 3.93525049e-07\n",
      " 3.86581541e-07 3.82031112e-07 3.68873237e-07 3.63294952e-07\n",
      " 3.46390463e-07 3.33487959e-07 2.95593329e-07 2.89491286e-07\n",
      " 2.55842522e-07 2.46729887e-07 2.38057247e-07 2.35469537e-07\n",
      " 9.77948686e-08 8.90634698e-08 6.63566175e-08 6.58875816e-08\n",
      " 6.35868373e-08 6.33556945e-08 5.77214206e-08 5.68924424e-08\n",
      " 1.74784546e-08 1.71329536e-08 1.26848126e-08 1.26524853e-08\n",
      " 6.65963191e-09 6.58439131e-09 4.79084226e-09 4.67515567e-09\n",
      " 2.88783214e-09 2.84706386e-09 2.70377709e-09 2.61365906e-09\n",
      " 2.31622303e-09 2.28509907e-09 2.38663415e-10 1.99148842e-10\n",
      " 2.04271468e-11]\n"
     ]
    }
   ],
   "source": [
    "fpr8, tpr8, thresholds8 = metrics.roc_curve(Y_test, GBC_Proba_score_positive_class, pos_label=1)\n",
    "print(\"FPR\",fpr8)\n",
    "print(\"TPR\",tpr8)\n",
    "print(\"thresholds\",thresholds8)"
   ]
  },
  {
   "cell_type": "code",
   "execution_count": 142,
   "id": "5126b20e",
   "metadata": {},
   "outputs": [
    {
     "name": "stdout",
     "output_type": "stream",
     "text": [
      "AUC SCORE: 0.6437510700222564\n"
     ]
    }
   ],
   "source": [
    "from sklearn.metrics import roc_auc_score\n",
    "GBC_auc_score = roc_auc_score(Y_test, GBC_Proba_score_positive_class)\n",
    "print(\"AUC SCORE:\",GBC_auc_score)"
   ]
  },
  {
   "cell_type": "code",
   "execution_count": 143,
   "id": "be627973",
   "metadata": {},
   "outputs": [
    {
     "data": {
      "image/png": "[encoded data removed]",
      "text/plain": [
       "<Figure size 576x396 with 1 Axes>"
      ]
     },
     "metadata": {},
     "output_type": "display_data"
    }
   ],
   "source": [
    "plt.style.use('seaborn')\n",
    "plt.plot(fpr8, tpr8, linestyle='--',color='red', label='Gradient Boost Classifier')\n",
    "plt.plot([0, 1], [0, 1], linestyle='--', label='No Skill')\n",
    "plt.title('ROC curve')\n",
    "plt.xlabel('False Positive Rate')\n",
    "plt.ylabel('True Positive rate')\n",
    "plt.legend(loc='best')\n",
    "plt.savefig('ROC', dpi=300)\n",
    "plt.show()"
   ]
  },
  {
   "cell_type": "markdown",
   "id": "05d632bc",
   "metadata": {},
   "source": [
    "# XGBoost"
   ]
  },
  {
   "cell_type": "code",
   "execution_count": 144,
   "id": "ba3d5c9d",
   "metadata": {},
   "outputs": [],
   "source": [
    "from xgboost import XGBClassifier\n",
    "XGB_param_grid = {'n_estimators': [10,80,200,800,2000,5000], \n",
    "                  'max_depth': [10,20,30,40,50,100],\n",
    "                  'learning_rate':[0.01,0.1,0.5]} \n",
    "\n",
    "XGB = RandomizedSearchCV(XGBClassifier(),\n",
    "                        GBC_param_grid)"
   ]
  },
  {
   "cell_type": "code",
   "execution_count": 145,
   "id": "d0349b51",
   "metadata": {},
   "outputs": [
    {
     "data": {
      "text/plain": [
       "RandomizedSearchCV(estimator=XGBClassifier(base_score=None, booster=None,\n",
       "                                           callbacks=None,\n",
       "                                           colsample_bylevel=None,\n",
       "                                           colsample_bynode=None,\n",
       "                                           colsample_bytree=None, device=None,\n",
       "                                           early_stopping_rounds=None,\n",
       "                                           enable_categorical=False,\n",
       "                                           eval_metric=None, feature_types=None,\n",
       "                                           gamma=None, grow_policy=None,\n",
       "                                           importance_type=None,\n",
       "                                           interaction_constraints=None,\n",
       "                                           learning_rate=None...\n",
       "                                           n_estimators=None, n_jobs=None,\n",
       "                                           num_parallel_tree=None,\n",
       "                                           random_state=None, ...),\n",
       "                   param_distributions={'learning_rate': [0.01, 0.1, 0.5],\n",
       "                                        'loss': ['deviance', 'exponential'],\n",
       "                                        'max_depth': [10, 20, 30, 40, 50, 100],\n",
       "                                        'max_features': ['sqrt', 'log2'],\n",
       "                                        'min_samples_leaf': [1, 2, 7, 15],\n",
       "                                        'min_samples_split': [2, 5, 10, 20],\n",
       "                                        'n_estimators': [10, 80, 200, 800, 2000,\n",
       "                                                         5000],\n",
       "                                        'subsample': [0.7, 0.8, 0.9, 1]})"
      ]
     },
     "execution_count": 145,
     "metadata": {},
     "output_type": "execute_result"
    }
   ],
   "source": [
    "XGB.fit(X_train_smote,Y_train_smote)"
   ]
  },
  {
   "cell_type": "code",
   "execution_count": 146,
   "id": "0aba7bf9",
   "metadata": {},
   "outputs": [
    {
     "data": {
      "text/plain": [
       "{'subsample': 0.7,\n",
       " 'n_estimators': 2000,\n",
       " 'min_samples_split': 20,\n",
       " 'min_samples_leaf': 1,\n",
       " 'max_features': 'sqrt',\n",
       " 'max_depth': 100,\n",
       " 'loss': 'deviance',\n",
       " 'learning_rate': 0.01}"
      ]
     },
     "execution_count": 146,
     "metadata": {},
     "output_type": "execute_result"
    }
   ],
   "source": [
    "XGB.best_params_"
   ]
  },
  {
   "cell_type": "code",
   "execution_count": 147,
   "id": "ea0c10ce",
   "metadata": {},
   "outputs": [
    {
     "data": {
      "text/plain": [
       "XGBClassifier(base_score=None, booster=None, callbacks=None,\n",
       "              colsample_bylevel=None, colsample_bynode=None,\n",
       "              colsample_bytree=None, device=None, early_stopping_rounds=None,\n",
       "              enable_categorical=False, eval_metric=None, feature_types=None,\n",
       "              gamma=None, grow_policy=None, importance_type=None,\n",
       "              interaction_constraints=None, learning_rate=0.01, loss='deviance',\n",
       "              max_bin=None, max_cat_threshold=None, max_cat_to_onehot=None,\n",
       "              max_delta_step=None, max_depth=100, max_features='sqrt',\n",
       "              max_leaves=None, min_child_weight=None, min_samples_leaf=1,\n",
       "              min_samples_split=20, missing=nan, monotone_constraints=None,\n",
       "              multi_strategy=None, ...)"
      ]
     },
     "execution_count": 147,
     "metadata": {},
     "output_type": "execute_result"
    }
   ],
   "source": [
    "XGB.best_estimator_"
   ]
  },
  {
   "cell_type": "code",
   "execution_count": 148,
   "id": "b77df1fa",
   "metadata": {},
   "outputs": [
    {
     "name": "stdout",
     "output_type": "stream",
     "text": [
      "XGBoost Training Accuracy: 1.0\n",
      "XGBoost Testing Accuracy: 0.7974434611602753\n"
     ]
    }
   ],
   "source": [
    "XGB_grid_ytrain_pred = XGB.predict(X_train)\n",
    "print(\"XGBoost Training Accuracy:\",accuracy_score(Y_train, XGB_grid_ytrain_pred))\n",
    "XGB_grid_y_pred = XGB.predict(X_test)\n",
    "print(\"XGBoost Testing Accuracy:\",accuracy_score(Y_test, XGB_grid_y_pred))"
   ]
  },
  {
   "cell_type": "code",
   "execution_count": 149,
   "id": "ab317a3d",
   "metadata": {},
   "outputs": [
    {
     "name": "stdout",
     "output_type": "stream",
     "text": [
      "After cross validation the accuracy in XGBoost Classifier is: 0.8942015843629173\n"
     ]
    }
   ],
   "source": [
    "from sklearn.model_selection import cross_val_score\n",
    "XGB_CVS_TRAIN = cross_val_score(estimator = XGB, X = X_train_smote, y = Y_train_smote, cv = 10)\n",
    "print(\"After cross validation the accuracy in XGBoost Classifier is:\",XGB_CVS_TRAIN.mean())"
   ]
  },
  {
   "cell_type": "code",
   "execution_count": 150,
   "id": "c623ebe2",
   "metadata": {},
   "outputs": [
    {
     "data": {
      "image/png": "[encoded data removed]",
      "text/plain": [
       "<Figure size 576x396 with 2 Axes>"
      ]
     },
     "metadata": {},
     "output_type": "display_data"
    }
   ],
   "source": [
    "XGB_CM = confusion_matrix(Y_test, XGB_grid_y_pred)\n",
    "ax= plt.subplot()\n",
    "sns.heatmap(XGB_CM, annot=True, fmt='g',cmap='rocket_r');#cmap='rocket_r' for color inverse of the scale\n",
    "ax.set_xlabel('Predicted labels');\n",
    "ax.set_ylabel('True labels'); \n",
    "ax.set_title('Confusion Matrix'); "
   ]
  },
  {
   "cell_type": "code",
   "execution_count": 151,
   "id": "f1fa9183",
   "metadata": {},
   "outputs": [
    {
     "name": "stdout",
     "output_type": "stream",
     "text": [
      "              precision    recall  f1-score   support\n",
      "\n",
      "           0       0.89      0.88      0.88       885\n",
      "           1       0.24      0.27      0.25       132\n",
      "\n",
      "    accuracy                           0.80      1017\n",
      "   macro avg       0.57      0.57      0.57      1017\n",
      "weighted avg       0.81      0.80      0.80      1017\n",
      "\n"
     ]
    }
   ],
   "source": [
    "print(classification_report(Y_test,XGB_grid_y_pred))"
   ]
  },
  {
   "cell_type": "code",
   "execution_count": 152,
   "id": "12072241",
   "metadata": {},
   "outputs": [
    {
     "data": {
      "text/plain": [
       "array([0.01220434, 0.29846215, 0.62926084, ..., 0.12804496, 0.02870362,\n",
       "       0.43142053], dtype=float32)"
      ]
     },
     "execution_count": 152,
     "metadata": {},
     "output_type": "execute_result"
    }
   ],
   "source": [
    "from sklearn import metrics\n",
    "XGB_Proba_score_positive_class= XGB.predict_proba(X_test)[:,1]\n",
    "XGB_Proba_score_positive_class "
   ]
  },
  {
   "cell_type": "code",
   "execution_count": 153,
   "id": "a1cd2791",
   "metadata": {},
   "outputs": [
    {
     "name": "stdout",
     "output_type": "stream",
     "text": [
      "FPR [0.         0.         0.         0.00112994 0.00112994 0.00225989\n",
      " 0.00225989 0.00451977 0.00451977 0.00564972 0.00564972 0.00677966\n",
      " 0.00677966 0.00903955 0.00903955 0.01016949 0.01016949 0.01694915\n",
      " 0.01694915 0.02711864 0.02711864 0.02824859 0.02824859 0.03389831\n",
      " 0.03389831 0.03502825 0.03502825 0.03841808 0.03841808 0.0440678\n",
      " 0.0440678  0.05310734 0.05310734 0.05988701 0.05988701 0.06440678\n",
      " 0.06440678 0.07457627 0.07457627 0.07683616 0.07683616 0.08361582\n",
      " 0.08361582 0.09265537 0.09265537 0.0960452  0.0960452  0.09717514\n",
      " 0.09717514 0.10169492 0.10169492 0.10734463 0.10734463 0.10847458\n",
      " 0.10847458 0.10960452 0.10960452 0.11412429 0.11412429 0.12429379\n",
      " 0.12429379 0.12881356 0.12881356 0.1299435  0.1299435  0.13333333\n",
      " 0.13333333 0.13559322 0.13559322 0.13898305 0.13898305 0.15480226\n",
      " 0.15480226 0.1559322  0.1559322  0.16836158 0.16836158 0.17062147\n",
      " 0.17062147 0.17175141 0.17175141 0.17514124 0.17514124 0.18418079\n",
      " 0.18418079 0.19887006 0.19887006 0.21694915 0.21694915 0.2180791\n",
      " 0.2180791  0.23163842 0.23163842 0.23728814 0.23728814 0.25875706\n",
      " 0.25875706 0.26101695 0.26101695 0.26214689 0.26214689 0.26440678\n",
      " 0.26440678 0.27683616 0.27683616 0.28135593 0.28135593 0.28248588\n",
      " 0.28248588 0.28587571 0.28587571 0.29039548 0.29039548 0.2960452\n",
      " 0.2960452  0.30847458 0.30847458 0.31073446 0.31073446 0.31299435\n",
      " 0.31299435 0.33107345 0.33107345 0.33672316 0.33672316 0.35706215\n",
      " 0.35706215 0.36384181 0.36384181 0.36836158 0.36836158 0.38305085\n",
      " 0.38305085 0.39096045 0.39096045 0.39548023 0.39548023 0.40451977\n",
      " 0.40451977 0.40903955 0.40903955 0.41242938 0.41242938 0.41355932\n",
      " 0.41355932 0.4259887  0.4259887  0.43389831 0.43389831 0.45536723\n",
      " 0.45536723 0.45988701 0.45988701 0.47457627 0.47457627 0.47683616\n",
      " 0.47683616 0.48248588 0.48248588 0.49039548 0.49039548 0.52090395\n",
      " 0.52090395 0.52316384 0.52316384 0.52768362 0.52768362 0.56045198\n",
      " 0.56045198 0.61920904 0.61920904 0.63502825 0.63502825 0.6440678\n",
      " 0.6440678  0.64519774 0.64519774 0.65536723 0.65536723 0.66327684\n",
      " 0.66327684 0.67231638 0.67231638 0.67683616 0.67683616 0.67909605\n",
      " 0.67909605 0.68587571 0.68587571 0.69491525 0.69491525 0.71751412\n",
      " 0.71751412 0.73898305 0.73898305 0.77514124 0.77514124 0.77853107\n",
      " 0.77853107 0.77966102 0.77966102 0.78079096 0.78079096 0.79096045\n",
      " 0.79096045 0.8079096  0.8079096  0.83389831 0.83389831 0.83615819\n",
      " 0.83615819 0.87570621 0.87570621 0.88248588 0.88248588 0.90169492\n",
      " 0.90169492 0.93559322 0.93559322 0.96045198 0.96045198 0.97175141\n",
      " 0.97175141 0.98305085 0.98305085 1.        ]\n",
      "TPR [0.         0.00757576 0.01515152 0.01515152 0.02272727 0.02272727\n",
      " 0.03030303 0.03030303 0.03787879 0.03787879 0.04545455 0.04545455\n",
      " 0.0530303  0.0530303  0.06060606 0.06060606 0.06818182 0.06818182\n",
      " 0.07575758 0.07575758 0.09090909 0.09090909 0.09848485 0.09848485\n",
      " 0.10606061 0.10606061 0.12878788 0.12878788 0.14393939 0.14393939\n",
      " 0.15151515 0.15151515 0.15909091 0.15909091 0.16666667 0.16666667\n",
      " 0.17424242 0.17424242 0.18181818 0.18181818 0.18939394 0.18939394\n",
      " 0.1969697  0.1969697  0.20454545 0.20454545 0.21212121 0.21212121\n",
      " 0.21969697 0.21969697 0.22727273 0.22727273 0.23484848 0.23484848\n",
      " 0.24242424 0.24242424 0.25       0.25       0.26515152 0.26515152\n",
      " 0.27272727 0.27272727 0.28030303 0.28030303 0.28787879 0.28787879\n",
      " 0.29545455 0.29545455 0.3030303  0.3030303  0.31060606 0.31060606\n",
      " 0.31818182 0.31818182 0.32575758 0.32575758 0.33333333 0.33333333\n",
      " 0.34848485 0.34848485 0.35606061 0.35606061 0.36363636 0.36363636\n",
      " 0.37121212 0.37121212 0.38636364 0.38636364 0.39393939 0.39393939\n",
      " 0.40151515 0.40151515 0.40909091 0.40909091 0.41666667 0.41666667\n",
      " 0.42424242 0.42424242 0.43181818 0.43181818 0.4469697  0.4469697\n",
      " 0.45454545 0.45454545 0.46969697 0.46969697 0.48484848 0.48484848\n",
      " 0.49242424 0.49242424 0.5        0.5        0.50757576 0.50757576\n",
      " 0.53030303 0.53030303 0.53787879 0.53787879 0.54545455 0.54545455\n",
      " 0.5530303  0.5530303  0.56060606 0.56060606 0.56818182 0.56818182\n",
      " 0.57575758 0.57575758 0.59848485 0.59848485 0.60606061 0.60606061\n",
      " 0.61363636 0.61363636 0.62121212 0.62121212 0.62878788 0.62878788\n",
      " 0.63636364 0.63636364 0.64393939 0.64393939 0.65151515 0.65151515\n",
      " 0.65909091 0.65909091 0.66666667 0.66666667 0.68181818 0.68181818\n",
      " 0.6969697  0.6969697  0.70454545 0.70454545 0.71212121 0.71212121\n",
      " 0.71969697 0.71969697 0.72727273 0.72727273 0.73484848 0.73484848\n",
      " 0.74242424 0.74242424 0.75       0.75       0.75757576 0.75757576\n",
      " 0.76515152 0.76515152 0.77272727 0.77272727 0.78030303 0.78030303\n",
      " 0.78787879 0.78787879 0.79545455 0.79545455 0.8030303  0.8030303\n",
      " 0.81060606 0.81060606 0.81818182 0.81818182 0.82575758 0.82575758\n",
      " 0.83333333 0.83333333 0.84090909 0.84090909 0.84848485 0.84848485\n",
      " 0.85606061 0.85606061 0.87121212 0.87121212 0.87878788 0.87878788\n",
      " 0.88636364 0.88636364 0.90151515 0.90151515 0.90909091 0.90909091\n",
      " 0.91666667 0.91666667 0.92424242 0.92424242 0.93181818 0.93181818\n",
      " 0.93939394 0.93939394 0.95454545 0.95454545 0.96212121 0.96212121\n",
      " 0.96969697 0.96969697 0.97727273 0.97727273 0.98484848 0.98484848\n",
      " 0.99242424 0.99242424 1.         1.        ]\n",
      "thresholds [1.99073815e+00 9.90738213e-01 9.84449565e-01 9.77366745e-01\n",
      " 9.68006849e-01 9.67287242e-01 9.63298082e-01 9.59953368e-01\n",
      " 9.57485497e-01 9.56368029e-01 9.56328332e-01 9.50963080e-01\n",
      " 9.47316289e-01 9.25561666e-01 9.23692942e-01 9.02508080e-01\n",
      " 9.00394857e-01 8.75801206e-01 8.74432147e-01 8.53116989e-01\n",
      " 8.50443780e-01 8.50043476e-01 8.45110714e-01 8.13860893e-01\n",
      " 8.13472986e-01 8.05419922e-01 8.02439570e-01 7.72254825e-01\n",
      " 7.71564484e-01 7.57183135e-01 7.53232300e-01 7.29476869e-01\n",
      " 7.23498285e-01 7.04478681e-01 6.98621690e-01 6.81564748e-01\n",
      " 6.78890824e-01 6.51048541e-01 6.50677383e-01 6.38975382e-01\n",
      " 6.29260838e-01 6.18068159e-01 6.17386460e-01 5.96726835e-01\n",
      " 5.96445382e-01 5.88973761e-01 5.72171390e-01 5.67899227e-01\n",
      " 5.66808820e-01 5.62357128e-01 5.57986379e-01 5.43265581e-01\n",
      " 5.34551024e-01 5.31439245e-01 5.30846596e-01 5.30309260e-01\n",
      " 5.28668404e-01 5.22757947e-01 5.17048836e-01 4.96349126e-01\n",
      " 4.95681018e-01 4.87460583e-01 4.87353444e-01 4.86800343e-01\n",
      " 4.81585354e-01 4.80342656e-01 4.77451116e-01 4.73211765e-01\n",
      " 4.67273921e-01 4.55227971e-01 4.54451233e-01 4.23744708e-01\n",
      " 4.23265904e-01 4.18852806e-01 4.17087287e-01 3.88360560e-01\n",
      " 3.87756795e-01 3.76149625e-01 3.72035950e-01 3.70760918e-01\n",
      " 3.69516551e-01 3.64586502e-01 3.60555768e-01 3.49647850e-01\n",
      " 3.48279506e-01 3.22254628e-01 3.19615126e-01 2.80657142e-01\n",
      " 2.78587252e-01 2.77269363e-01 2.76906163e-01 2.50650436e-01\n",
      " 2.49465182e-01 2.45389372e-01 2.45235786e-01 2.25917757e-01\n",
      " 2.24727824e-01 2.24094257e-01 2.20253304e-01 2.19241917e-01\n",
      " 2.17513263e-01 2.14521036e-01 2.13893399e-01 1.97224274e-01\n",
      " 1.94840640e-01 1.90851882e-01 1.89065769e-01 1.88438341e-01\n",
      " 1.88220918e-01 1.85312867e-01 1.84317663e-01 1.79906502e-01\n",
      " 1.79460451e-01 1.76438138e-01 1.74663097e-01 1.65835142e-01\n",
      " 1.62910953e-01 1.61589354e-01 1.60899848e-01 1.60048336e-01\n",
      " 1.58909112e-01 1.45305052e-01 1.44269556e-01 1.37286648e-01\n",
      " 1.36860967e-01 1.26490980e-01 1.25068203e-01 1.22770160e-01\n",
      " 1.21483572e-01 1.16711110e-01 1.16666362e-01 1.07291989e-01\n",
      " 1.06470838e-01 1.03547923e-01 1.02998890e-01 1.02075003e-01\n",
      " 1.01417497e-01 9.55614150e-02 9.54224393e-02 9.16234851e-02\n",
      " 9.06588212e-02 8.97385776e-02 8.64065364e-02 8.60372335e-02\n",
      " 8.57102498e-02 8.15508217e-02 8.14864337e-02 7.95083866e-02\n",
      " 7.71571621e-02 7.27441385e-02 7.19063953e-02 6.94506317e-02\n",
      " 6.92725778e-02 6.38037845e-02 6.18481785e-02 6.16994798e-02\n",
      " 6.16070218e-02 5.94254173e-02 5.93432784e-02 5.65764047e-02\n",
      " 5.61766587e-02 4.82541993e-02 4.78318557e-02 4.70209531e-02\n",
      " 4.66391444e-02 4.46855240e-02 4.46753018e-02 3.55968587e-02\n",
      " 3.55153121e-02 2.78159063e-02 2.77998354e-02 2.60565020e-02\n",
      " 2.60046292e-02 2.50350032e-02 2.48912033e-02 2.46324819e-02\n",
      " 2.46290956e-02 2.35004611e-02 2.32339799e-02 2.26738900e-02\n",
      " 2.25184094e-02 2.12207884e-02 2.10993383e-02 2.06537712e-02\n",
      " 2.05669031e-02 2.03503929e-02 2.02482939e-02 1.97810493e-02\n",
      " 1.95146985e-02 1.84631329e-02 1.83545761e-02 1.62197463e-02\n",
      " 1.61872823e-02 1.44572118e-02 1.42190643e-02 1.05527835e-02\n",
      " 1.05297267e-02 1.05063729e-02 1.04485024e-02 1.03834821e-02\n",
      " 1.03236157e-02 1.01014664e-02 1.00203231e-02 9.06217285e-03\n",
      " 8.89607519e-03 7.97521044e-03 7.94563163e-03 6.28296426e-03\n",
      " 6.18982734e-03 6.11642422e-03 5.99870924e-03 4.35146876e-03\n",
      " 4.22226870e-03 3.85309150e-03 3.82521236e-03 3.24104889e-03\n",
      " 3.20070144e-03 1.95387425e-03 1.95177388e-03 1.19754137e-03\n",
      " 1.19505438e-03 1.00999000e-03 1.00941956e-03 7.35489419e-04\n",
      " 7.11978355e-04 2.28690187e-04]\n"
     ]
    }
   ],
   "source": [
    "fpr9, tpr9, thresholds9 = metrics.roc_curve(Y_test, XGB_Proba_score_positive_class, pos_label=1)\n",
    "print(\"FPR\",fpr9)\n",
    "print(\"TPR\",tpr9)\n",
    "print(\"thresholds\",thresholds9)"
   ]
  },
  {
   "cell_type": "code",
   "execution_count": 154,
   "id": "f51e3df2",
   "metadata": {},
   "outputs": [
    {
     "name": "stdout",
     "output_type": "stream",
     "text": [
      "AUC SCORE: 0.6490070193460024\n"
     ]
    }
   ],
   "source": [
    "from sklearn.metrics import roc_auc_score\n",
    "XGB_auc_score = roc_auc_score(Y_test, XGB_Proba_score_positive_class)\n",
    "print(\"AUC SCORE:\",XGB_auc_score)"
   ]
  },
  {
   "cell_type": "code",
   "execution_count": 155,
   "id": "b4239a86",
   "metadata": {},
   "outputs": [
    {
     "data": {
      "image/png": "[encoded data removed]",
      "text/plain": [
       "<Figure size 576x396 with 1 Axes>"
      ]
     },
     "metadata": {},
     "output_type": "display_data"
    }
   ],
   "source": [
    "plt.style.use('seaborn')\n",
    "plt.plot(fpr9, tpr9, linestyle='--',color='red', label='XGBoost Classifier')\n",
    "plt.plot([0, 1], [0, 1], linestyle='--', label='No Skill')\n",
    "plt.title('ROC curve')\n",
    "plt.xlabel('False Positive Rate')\n",
    "plt.ylabel('True Positive rate')\n",
    "plt.legend(loc='best')\n",
    "plt.savefig('ROC', dpi=300)\n",
    "plt.show()"
   ]
  },
  {
   "cell_type": "markdown",
   "id": "1ee3ab17",
   "metadata": {},
   "source": [
    "# FINAL RESULTS"
   ]
  },
  {
   "cell_type": "code",
   "execution_count": 156,
   "id": "12711441",
   "metadata": {},
   "outputs": [
    {
     "name": "stdout",
     "output_type": "stream",
     "text": [
      "TRAINIG RESULTS: \n",
      "===============================\n",
      "CONFUSION MATRIX:\n",
      "[[1349  645]\n",
      " [ 643 1351]]\n",
      "ACCURACY SCORE:\n",
      "0.6770\n",
      "CLASSIFICATION REPORT:\n",
      "                     0            1  accuracy    macro avg  weighted avg\n",
      "precision     0.677209     0.676854  0.677031     0.677031      0.677031\n",
      "recall        0.676530     0.677533  0.677031     0.677031      0.677031\n",
      "f1-score      0.676869     0.677193  0.677031     0.677031      0.677031\n",
      "support    1994.000000  1994.000000  0.677031  3988.000000   3988.000000\n",
      "TESTING RESULTS: \n",
      "===============================\n",
      "CONFUSION MATRIX:\n",
      "[[581 304]\n",
      " [ 44  88]]\n",
      "ACCURACY SCORE:\n",
      "0.6578\n",
      "CLASSIFICATION REPORT:\n",
      "                    0           1  accuracy    macro avg  weighted avg\n",
      "precision    0.929600    0.224490  0.657817     0.577045      0.838081\n",
      "recall       0.656497    0.666667  0.657817     0.661582      0.657817\n",
      "f1-score     0.769536    0.335878  0.657817     0.552707      0.713250\n",
      "support    885.000000  132.000000  0.657817  1017.000000   1017.000000\n"
     ]
    }
   ],
   "source": [
    "evaluate(LRM, X_train_smote, X_test, Y_train_smote, Y_test) #LOGISTIC REGRESSION"
   ]
  },
  {
   "cell_type": "code",
   "execution_count": 157,
   "id": "0dc7b2dc",
   "metadata": {},
   "outputs": [
    {
     "name": "stdout",
     "output_type": "stream",
     "text": [
      "TRAINIG RESULTS: \n",
      "===============================\n",
      "CONFUSION MATRIX:\n",
      "[[1994    0]\n",
      " [   0 1994]]\n",
      "ACCURACY SCORE:\n",
      "1.0000\n",
      "CLASSIFICATION REPORT:\n",
      "                0       1  accuracy  macro avg  weighted avg\n",
      "precision     1.0     1.0       1.0        1.0           1.0\n",
      "recall        1.0     1.0       1.0        1.0           1.0\n",
      "f1-score      1.0     1.0       1.0        1.0           1.0\n",
      "support    1994.0  1994.0       1.0     3988.0        3988.0\n",
      "TESTING RESULTS: \n",
      "===============================\n",
      "CONFUSION MATRIX:\n",
      "[[527 358]\n",
      " [ 57  75]]\n",
      "ACCURACY SCORE:\n",
      "0.5919\n",
      "CLASSIFICATION REPORT:\n",
      "                    0           1  accuracy    macro avg  weighted avg\n",
      "precision    0.902397    0.173210  0.591937     0.537804      0.807754\n",
      "recall       0.595480    0.568182  0.591937     0.581831      0.591937\n",
      "f1-score     0.717495    0.265487  0.591937     0.491491      0.658827\n",
      "support    885.000000  132.000000  0.591937  1017.000000   1017.000000\n"
     ]
    }
   ],
   "source": [
    "evaluate(KNN, X_train_smote, X_test, Y_train_smote, Y_test) #KNN CLASSIFIER"
   ]
  },
  {
   "cell_type": "code",
   "execution_count": 158,
   "id": "94e5cdd1",
   "metadata": {},
   "outputs": [
    {
     "name": "stdout",
     "output_type": "stream",
     "text": [
      "TRAINIG RESULTS: \n",
      "===============================\n",
      "CONFUSION MATRIX:\n",
      "[[1964   30]\n",
      " [   1 1993]]\n",
      "ACCURACY SCORE:\n",
      "0.9922\n",
      "CLASSIFICATION REPORT:\n",
      "                     0            1  accuracy    macro avg  weighted avg\n",
      "precision     0.999491     0.985171  0.992227     0.992331      0.992331\n",
      "recall        0.984955     0.999498  0.992227     0.992227      0.992227\n",
      "f1-score      0.992170     0.992283  0.992227     0.992226      0.992226\n",
      "support    1994.000000  1994.000000  0.992227  3988.000000   3988.000000\n",
      "TESTING RESULTS: \n",
      "===============================\n",
      "CONFUSION MATRIX:\n",
      "[[731 154]\n",
      " [ 95  37]]\n",
      "ACCURACY SCORE:\n",
      "0.7552\n",
      "CLASSIFICATION REPORT:\n",
      "                    0           1  accuracy    macro avg  weighted avg\n",
      "precision    0.884988    0.193717  0.755162     0.539353      0.795265\n",
      "recall       0.825989    0.280303  0.755162     0.553146      0.755162\n",
      "f1-score     0.854471    0.229102  0.755162     0.541787      0.773302\n",
      "support    885.000000  132.000000  0.755162  1017.000000   1017.000000\n"
     ]
    }
   ],
   "source": [
    "evaluate(SVM, X_train_smote, X_test, Y_train_smote, Y_test) #SVM CLASSIFIER"
   ]
  },
  {
   "cell_type": "code",
   "execution_count": 159,
   "id": "976f3e01",
   "metadata": {},
   "outputs": [
    {
     "name": "stdout",
     "output_type": "stream",
     "text": [
      "TRAINIG RESULTS: \n",
      "===============================\n",
      "CONFUSION MATRIX:\n",
      "[[1626  368]\n",
      " [ 294 1700]]\n",
      "ACCURACY SCORE:\n",
      "0.8340\n",
      "CLASSIFICATION REPORT:\n",
      "                     0            1  accuracy    macro avg  weighted avg\n",
      "precision     0.846875     0.822050  0.834002     0.834463      0.834463\n",
      "recall        0.815446     0.852558  0.834002     0.834002      0.834002\n",
      "f1-score      0.830864     0.837026  0.834002     0.833945      0.833945\n",
      "support    1994.000000  1994.000000  0.834002  3988.000000   3988.000000\n",
      "TESTING RESULTS: \n",
      "===============================\n",
      "CONFUSION MATRIX:\n",
      "[[615 270]\n",
      " [ 72  60]]\n",
      "ACCURACY SCORE:\n",
      "0.6637\n",
      "CLASSIFICATION REPORT:\n",
      "                    0           1  accuracy    macro avg  weighted avg\n",
      "precision    0.895197    0.181818  0.663717     0.538507      0.802605\n",
      "recall       0.694915    0.454545  0.663717     0.574730      0.663717\n",
      "f1-score     0.782443    0.259740  0.663717     0.521092      0.714599\n",
      "support    885.000000  132.000000  0.663717  1017.000000   1017.000000\n"
     ]
    }
   ],
   "source": [
    "evaluate(DTC, X_train_smote, X_test, Y_train_smote, Y_test) #DECISION TREE CLASSIFIER"
   ]
  },
  {
   "cell_type": "code",
   "execution_count": 160,
   "id": "11424b77",
   "metadata": {},
   "outputs": [
    {
     "name": "stdout",
     "output_type": "stream",
     "text": [
      "TRAINIG RESULTS: \n",
      "===============================\n",
      "CONFUSION MATRIX:\n",
      "[[1994    0]\n",
      " [   0 1994]]\n",
      "ACCURACY SCORE:\n",
      "1.0000\n",
      "CLASSIFICATION REPORT:\n",
      "                0       1  accuracy  macro avg  weighted avg\n",
      "precision     1.0     1.0       1.0        1.0           1.0\n",
      "recall        1.0     1.0       1.0        1.0           1.0\n",
      "f1-score      1.0     1.0       1.0        1.0           1.0\n",
      "support    1994.0  1994.0       1.0     3988.0        3988.0\n",
      "TESTING RESULTS: \n",
      "===============================\n",
      "CONFUSION MATRIX:\n",
      "[[765 120]\n",
      " [ 89  43]]\n",
      "ACCURACY SCORE:\n",
      "0.7945\n",
      "CLASSIFICATION REPORT:\n",
      "                    0           1  accuracy    macro avg  weighted avg\n",
      "precision    0.895785    0.263804  0.794494     0.579794      0.813758\n",
      "recall       0.864407    0.325758  0.794494     0.595082      0.794494\n",
      "f1-score     0.879816    0.291525  0.794494     0.585671      0.803460\n",
      "support    885.000000  132.000000  0.794494  1017.000000   1017.000000\n"
     ]
    }
   ],
   "source": [
    "evaluate(RFC, X_train_smote, X_test, Y_train_smote, Y_test) #RANDOM FOREST CLASSIFIER"
   ]
  },
  {
   "cell_type": "code",
   "execution_count": 161,
   "id": "9da9492b",
   "metadata": {},
   "outputs": [
    {
     "name": "stdout",
     "output_type": "stream",
     "text": [
      "TRAINIG RESULTS: \n",
      "===============================\n",
      "CONFUSION MATRIX:\n",
      "[[1501  493]\n",
      " [ 406 1588]]\n",
      "ACCURACY SCORE:\n",
      "0.7746\n",
      "CLASSIFICATION REPORT:\n",
      "                     0            1  accuracy    macro avg  weighted avg\n",
      "precision     0.787100     0.763095  0.774574     0.775097      0.775097\n",
      "recall        0.752758     0.796389  0.774574     0.774574      0.774574\n",
      "f1-score      0.769546     0.779387  0.774574     0.774466      0.774466\n",
      "support    1994.000000  1994.000000  0.774574  3988.000000   3988.000000\n",
      "TESTING RESULTS: \n",
      "===============================\n",
      "CONFUSION MATRIX:\n",
      "[[627 258]\n",
      " [ 60  72]]\n",
      "ACCURACY SCORE:\n",
      "0.6873\n",
      "CLASSIFICATION REPORT:\n",
      "                    0           1  accuracy    macro avg  weighted avg\n",
      "precision    0.912664    0.218182  0.687316     0.565423      0.822525\n",
      "recall       0.708475    0.545455  0.687316     0.626965      0.687316\n",
      "f1-score     0.797710    0.311688  0.687316     0.554699      0.734627\n",
      "support    885.000000  132.000000  0.687316  1017.000000   1017.000000\n"
     ]
    }
   ],
   "source": [
    "evaluate(BAG, X_train_smote, X_test, Y_train_smote, Y_test) #BAGGING CLASSIFIER"
   ]
  },
  {
   "cell_type": "code",
   "execution_count": 162,
   "id": "0efa88cf",
   "metadata": {},
   "outputs": [
    {
     "name": "stdout",
     "output_type": "stream",
     "text": [
      "TRAINIG RESULTS: \n",
      "===============================\n",
      "CONFUSION MATRIX:\n",
      "[[1548  446]\n",
      " [ 540 1454]]\n",
      "ACCURACY SCORE:\n",
      "0.7528\n",
      "CLASSIFICATION REPORT:\n",
      "                     0            1  accuracy    macro avg  weighted avg\n",
      "precision     0.741379     0.765263  0.752758     0.753321      0.753321\n",
      "recall        0.776329     0.729188  0.752758     0.752758      0.752758\n",
      "f1-score      0.758452     0.746790  0.752758     0.752621      0.752621\n",
      "support    1994.000000  1994.000000  0.752758  3988.000000   3988.000000\n",
      "TESTING RESULTS: \n",
      "===============================\n",
      "CONFUSION MATRIX:\n",
      "[[643 242]\n",
      " [ 58  74]]\n",
      "ACCURACY SCORE:\n",
      "0.7050\n",
      "CLASSIFICATION REPORT:\n",
      "                    0           1  accuracy    macro avg  weighted avg\n",
      "precision    0.917261    0.234177  0.705015     0.575719      0.828601\n",
      "recall       0.726554    0.560606  0.705015     0.643580      0.705015\n",
      "f1-score     0.810845    0.330357  0.705015     0.570601      0.748481\n",
      "support    885.000000  132.000000  0.705015  1017.000000   1017.000000\n"
     ]
    }
   ],
   "source": [
    "evaluate(ETC, X_train_smote, X_test, Y_train_smote, Y_test) #EXTRA TREES CLASSIFIER"
   ]
  },
  {
   "cell_type": "code",
   "execution_count": 163,
   "id": "7d2fdceb",
   "metadata": {},
   "outputs": [
    {
     "name": "stdout",
     "output_type": "stream",
     "text": [
      "TRAINIG RESULTS: \n",
      "===============================\n",
      "CONFUSION MATRIX:\n",
      "[[1537  457]\n",
      " [ 423 1571]]\n",
      "ACCURACY SCORE:\n",
      "0.7793\n",
      "CLASSIFICATION REPORT:\n",
      "                     0            1  accuracy    macro avg  weighted avg\n",
      "precision     0.784184     0.774655  0.779338     0.779419      0.779419\n",
      "recall        0.770812     0.787864  0.779338     0.779338      0.779338\n",
      "f1-score      0.777441     0.781203  0.779338     0.779322      0.779322\n",
      "support    1994.000000  1994.000000  0.779338  3988.000000   3988.000000\n",
      "TESTING RESULTS: \n",
      "===============================\n",
      "CONFUSION MATRIX:\n",
      "[[653 232]\n",
      " [ 67  65]]\n",
      "ACCURACY SCORE:\n",
      "0.7060\n",
      "CLASSIFICATION REPORT:\n",
      "                    0           1  accuracy    macro avg  weighted avg\n",
      "precision    0.906944    0.218855  0.705998     0.562900      0.817635\n",
      "recall       0.737853    0.492424  0.705998     0.615139      0.705998\n",
      "f1-score     0.813707    0.303030  0.705998     0.558369      0.747425\n",
      "support    885.000000  132.000000  0.705998  1017.000000   1017.000000\n"
     ]
    }
   ],
   "source": [
    "evaluate(ADA, X_train_smote, X_test, Y_train_smote, Y_test) #ADA BOOSTING"
   ]
  },
  {
   "cell_type": "code",
   "execution_count": 164,
   "id": "8946e7bd",
   "metadata": {},
   "outputs": [
    {
     "name": "stdout",
     "output_type": "stream",
     "text": [
      "TRAINIG RESULTS: \n",
      "===============================\n",
      "CONFUSION MATRIX:\n",
      "[[1994    0]\n",
      " [   0 1994]]\n",
      "ACCURACY SCORE:\n",
      "1.0000\n",
      "CLASSIFICATION REPORT:\n",
      "                0       1  accuracy  macro avg  weighted avg\n",
      "precision     1.0     1.0       1.0        1.0           1.0\n",
      "recall        1.0     1.0       1.0        1.0           1.0\n",
      "f1-score      1.0     1.0       1.0        1.0           1.0\n",
      "support    1994.0  1994.0       1.0     3988.0        3988.0\n",
      "TESTING RESULTS: \n",
      "===============================\n",
      "CONFUSION MATRIX:\n",
      "[[816  69]\n",
      " [103  29]]\n",
      "ACCURACY SCORE:\n",
      "0.8309\n",
      "CLASSIFICATION REPORT:\n",
      "                    0           1  accuracy    macro avg  weighted avg\n",
      "precision    0.887922    0.295918  0.830875     0.591920      0.811083\n",
      "recall       0.922034    0.219697  0.830875     0.570865      0.830875\n",
      "f1-score     0.904656    0.252174  0.830875     0.578415      0.819968\n",
      "support    885.000000  132.000000  0.830875  1017.000000   1017.000000\n"
     ]
    }
   ],
   "source": [
    "evaluate(GBC, X_train_smote, X_test, Y_train_smote, Y_test) #GRADIENT BOOSTING CLASSIFIER"
   ]
  },
  {
   "cell_type": "code",
   "execution_count": 165,
   "id": "ac84bf14",
   "metadata": {},
   "outputs": [
    {
     "name": "stdout",
     "output_type": "stream",
     "text": [
      "TRAINIG RESULTS: \n",
      "===============================\n",
      "CONFUSION MATRIX:\n",
      "[[1994    0]\n",
      " [   0 1994]]\n",
      "ACCURACY SCORE:\n",
      "1.0000\n",
      "CLASSIFICATION REPORT:\n",
      "                0       1  accuracy  macro avg  weighted avg\n",
      "precision     1.0     1.0       1.0        1.0           1.0\n",
      "recall        1.0     1.0       1.0        1.0           1.0\n",
      "f1-score      1.0     1.0       1.0        1.0           1.0\n",
      "support    1994.0  1994.0       1.0     3988.0        3988.0\n",
      "TESTING RESULTS: \n",
      "===============================\n",
      "CONFUSION MATRIX:\n",
      "[[776 109]\n",
      " [ 97  35]]\n",
      "ACCURACY SCORE:\n",
      "0.7974\n",
      "CLASSIFICATION REPORT:\n",
      "                    0           1  accuracy    macro avg  weighted avg\n",
      "precision    0.888889    0.243056  0.797443     0.565972      0.805064\n",
      "recall       0.876836    0.265152  0.797443     0.570994      0.797443\n",
      "f1-score     0.882821    0.253623  0.797443     0.568222      0.801156\n",
      "support    885.000000  132.000000  0.797443  1017.000000   1017.000000\n"
     ]
    }
   ],
   "source": [
    "evaluate(XGB, X_train_smote, X_test, Y_train_smote, Y_test) #XGBOOST CLASSIFIER"
   ]
  },
  {
   "cell_type": "markdown",
   "id": "234cd181",
   "metadata": {},
   "source": [
    "# CONCLUSION"
   ]
  },
  {
   "cell_type": "markdown",
   "id": "7b8a5ec3",
   "metadata": {},
   "source": [
    "While evaluating the performance of the model Accuracy is not the only parameter to be considered in case of \n",
    "classification problems. Based on the problem statement we should have an idea about to which we should give \n",
    "more preference i.e. Precision or Recall. So for all the machine learning algorithm’s applied on the Cardio \n",
    "Vascular Dataset, Based on the Classification evaluation techniques used we can say that Logistic Regression, \n",
    "Random Forest Classifier, Bagging Classifier, Extra Tree Classifier and Ada boosting algorithm's provide us \n",
    "with a good training and testing accuracy and with the least False Negative values in the Confusion Matrix \n",
    "and decent F1 score value in the Classification report and also auc score of 0.70\n"
   ]
  },
  {
   "cell_type": "code",
   "execution_count": null,
   "id": "5bf4c830",
   "metadata": {},
   "outputs": [],
   "source": []
  }
 ],
 "metadata": {
  "kernelspec": {
   "display_name": "Python 3 (ipykernel)",
   "language": "python",
   "name": "python3"
  },
  "language_info": {
   "codemirror_mode": {
    "name": "ipython",
    "version": 3
   },
   "file_extension": ".py",
   "mimetype": "text/x-python",
   "name": "python",
   "nbconvert_exporter": "python",
   "pygments_lexer": "ipython3",
   "version": "3.9.12"
  }
 },
 "nbformat": 4,
 "nbformat_minor": 5
}
